{
  "nbformat": 4,
  "nbformat_minor": 0,
  "metadata": {
    "colab": {
      "name": "590assignment3.ipynb",
      "provenance": [],
      "collapsed_sections": []
    },
    "kernelspec": {
      "name": "python3",
      "display_name": "Python 3"
    },
    "accelerator": "GPU"
  },
  "cells": [
    {
      "cell_type": "markdown",
      "metadata": {
        "id": "XjfcjUWpCBaT",
        "colab_type": "text"
      },
      "source": [
        "##Question 1##\n",
        "Convolutional Autoencoder for Fashion data\n",
        "\n",
        "##I used pytorch for quesiton1 and 2 , for question3, i used keras##"
      ]
    },
    {
      "cell_type": "code",
      "metadata": {
        "id": "FlV3iqK5lBY-",
        "colab_type": "code",
        "outputId": "762f2114-d7f9-43f7-969f-c4f1e4f69e16",
        "colab": {
          "base_uri": "https://localhost:8080/",
          "height": 34
        }
      },
      "source": [
        "# import standard PyTorch modules\n",
        "import torch\n",
        "import torch.nn as nn\n",
        "import torch.nn.functional as F\n",
        "import torch.optim as optim\n",
        "from torch.utils.tensorboard import SummaryWriter # TensorBoard support\n",
        "\n",
        "# import torchvision module to handle image manipulation\n",
        "import torchvision\n",
        "import torchvision.transforms as transforms\n",
        "\n",
        "# calculate train time, writing train data to files etc.\n",
        "import time\n",
        "import pandas as pd\n",
        "import json\n",
        "from IPython.display import clear_output\n",
        "import random\n",
        "import matplotlib.pyplot as plt\n",
        "import torch\n",
        "from   torch.autograd import Variable\n",
        "\n",
        "import numpy as np\n",
        "import torchvision\n",
        "from   torchvision import datasets, transforms\n",
        "torch.set_printoptions(linewidth=120)\n",
        "torch.set_grad_enabled(True)  "
      ],
      "execution_count": 1,
      "outputs": [
        {
          "output_type": "execute_result",
          "data": {
            "text/plain": [
              "<torch.autograd.grad_mode.set_grad_enabled at 0x7f00bc0c4438>"
            ]
          },
          "metadata": {
            "tags": []
          },
          "execution_count": 1
        }
      ]
    },
    {
      "cell_type": "code",
      "metadata": {
        "id": "gwKaM9limjts",
        "colab_type": "code",
        "outputId": "5765d7f2-93b7-4ca0-a163-2f6b6adf102a",
        "colab": {
          "base_uri": "https://localhost:8080/",
          "height": 275
        }
      },
      "source": [
        "\n",
        "# Use standard FashionMNIST dataset\n",
        "train_set = torchvision.datasets.FashionMNIST(\n",
        "    root = './data/FashionMNIST',\n",
        "    train = True,\n",
        "    download = True,\n",
        "    transform = transforms.Compose([\n",
        "        transforms.ToTensor()                                 \n",
        "    ])\n",
        ")"
      ],
      "execution_count": 3,
      "outputs": [
        {
          "output_type": "stream",
          "text": [
            "\r0it [00:00, ?it/s]"
          ],
          "name": "stderr"
        },
        {
          "output_type": "stream",
          "text": [
            "Downloading http://fashion-mnist.s3-website.eu-central-1.amazonaws.com/train-images-idx3-ubyte.gz to ./data/FashionMNIST/FashionMNIST/raw/train-images-idx3-ubyte.gz\n"
          ],
          "name": "stdout"
        },
        {
          "output_type": "stream",
          "text": [
            "26427392it [00:04, 5786116.39it/s]                              \n"
          ],
          "name": "stderr"
        },
        {
          "output_type": "stream",
          "text": [
            "Extracting ./data/FashionMNIST/FashionMNIST/raw/train-images-idx3-ubyte.gz to ./data/FashionMNIST/FashionMNIST/raw\n"
          ],
          "name": "stdout"
        },
        {
          "output_type": "stream",
          "text": [
            "\r0it [00:00, ?it/s]"
          ],
          "name": "stderr"
        },
        {
          "output_type": "stream",
          "text": [
            "Downloading http://fashion-mnist.s3-website.eu-central-1.amazonaws.com/train-labels-idx1-ubyte.gz to ./data/FashionMNIST/FashionMNIST/raw/train-labels-idx1-ubyte.gz\n"
          ],
          "name": "stdout"
        },
        {
          "output_type": "stream",
          "text": [
            "32768it [00:00, 41160.69it/s]                           \n",
            "0it [00:00, ?it/s]"
          ],
          "name": "stderr"
        },
        {
          "output_type": "stream",
          "text": [
            "Extracting ./data/FashionMNIST/FashionMNIST/raw/train-labels-idx1-ubyte.gz to ./data/FashionMNIST/FashionMNIST/raw\n",
            "Downloading http://fashion-mnist.s3-website.eu-central-1.amazonaws.com/t10k-images-idx3-ubyte.gz to ./data/FashionMNIST/FashionMNIST/raw/t10k-images-idx3-ubyte.gz\n"
          ],
          "name": "stdout"
        },
        {
          "output_type": "stream",
          "text": [
            "4423680it [00:02, 1661226.05it/s]                             \n",
            "0it [00:00, ?it/s]"
          ],
          "name": "stderr"
        },
        {
          "output_type": "stream",
          "text": [
            "Extracting ./data/FashionMNIST/FashionMNIST/raw/t10k-images-idx3-ubyte.gz to ./data/FashionMNIST/FashionMNIST/raw\n",
            "Downloading http://fashion-mnist.s3-website.eu-central-1.amazonaws.com/t10k-labels-idx1-ubyte.gz to ./data/FashionMNIST/FashionMNIST/raw/t10k-labels-idx1-ubyte.gz\n"
          ],
          "name": "stdout"
        },
        {
          "output_type": "stream",
          "text": [
            "8192it [00:00, 14167.43it/s]            "
          ],
          "name": "stderr"
        },
        {
          "output_type": "stream",
          "text": [
            "Extracting ./data/FashionMNIST/FashionMNIST/raw/t10k-labels-idx1-ubyte.gz to ./data/FashionMNIST/FashionMNIST/raw\n",
            "Processing...\n",
            "Done!\n"
          ],
          "name": "stdout"
        },
        {
          "output_type": "stream",
          "text": [
            "\n"
          ],
          "name": "stderr"
        }
      ]
    },
    {
      "cell_type": "code",
      "metadata": {
        "id": "aImV0Ol9nkxF",
        "colab_type": "code",
        "colab": {}
      },
      "source": [
        "\n",
        "# Use standard FashionMNIST dataset test\n",
        "test_set = torchvision.datasets.FashionMNIST(\n",
        "    root = './data/FashionMNIST',\n",
        "    train = False,\n",
        "    download = True,\n",
        "    transform = transforms.Compose([\n",
        "        transforms.ToTensor()                                 \n",
        "    ])\n",
        ")"
      ],
      "execution_count": 0,
      "outputs": []
    },
    {
      "cell_type": "code",
      "metadata": {
        "id": "z7VXxw8go4-c",
        "colab_type": "code",
        "colab": {}
      },
      "source": [
        "\n",
        "IMAGE_SIZE = 784\n",
        "IMAGE_WIDTH = IMAGE_HEIGHT = 28\n",
        "\n",
        "# Hyperparameters\n",
        "code_size = 20\n",
        "num_epochs = 50\n",
        "batch_size = 128\n",
        "lr = 0.002\n",
        "optimizer_cls = optim.Adam"
      ],
      "execution_count": 0,
      "outputs": []
    },
    {
      "cell_type": "code",
      "metadata": {
        "id": "PL_ZqTU5o5p_",
        "colab_type": "code",
        "colab": {}
      },
      "source": [
        "##load train and test\n",
        "train_loader = torch.utils.data.DataLoader(train_set, shuffle=True, batch_size=batch_size, num_workers=4, drop_last=True)\n",
        "test_loader = torch.utils.data.DataLoader(test_set, shuffle=False, batch_size=batch_size, num_workers=4)"
      ],
      "execution_count": 0,
      "outputs": []
    },
    {
      "cell_type": "code",
      "metadata": {
        "id": "SUotR1hY-C12",
        "colab_type": "code",
        "outputId": "f98f5a9c-baa5-4c74-eeed-4e33cfd39cd4",
        "colab": {
          "base_uri": "https://localhost:8080/",
          "height": 482
        }
      },
      "source": [
        "##show the data\n",
        "classes = ('T-Shirt','Trouser','Pullover','Dress','Coat','Sandal','Shirt','Sneaker','Bag','Ankle Boot')\n",
        "def imshow(img):\n",
        "  npimg = img.numpy() #convert the tensor to numpy for displaying the image\n",
        "  plt.imshow(np.transpose(npimg, (1, 2, 0))) \n",
        "  plt.show()\n",
        "labels=['Shirt','Sneaker','Bag','Ankle Boot']\n",
        "plt.figure(figsize = (3,3)) \n",
        "\n",
        "labels_map = {0 : 'T-Shirt', 1 : 'Trouser', 2 : 'Pullover', 3 : 'Dress', 4 : 'Coat', 5 : 'Sandal', 6 : 'Shirt',\n",
        "              7 : 'Sneaker', 8 : 'Bag', 9 : 'Ankle Boot'};\n",
        "fig = plt.figure(figsize=(8,8));\n",
        "columns = 4;\n",
        "rows = 5;\n",
        "for i in range(1, columns*rows +1):\n",
        "    img_xy = np.random.randint(len(train_set));\n",
        "    img = train_set[img_xy][0][0,:,:]\n",
        "    fig.add_subplot(rows, columns, i)\n",
        "    plt.title(labels_map[train_set[img_xy][1]])\n",
        "    plt.axis('off')\n",
        "    plt.imshow(img, cmap='gray')\n",
        "plt.show()"
      ],
      "execution_count": 13,
      "outputs": [
        {
          "output_type": "display_data",
          "data": {
            "image/png": "[encoded data removed]",
            "text/plain": [
              "<Figure size 576x576 with 20 Axes>"
            ]
          },
          "metadata": {
            "tags": []
          }
        }
      ]
    },
    {
      "cell_type": "markdown",
      "metadata": {
        "id": "34mW0USxICzE",
        "colab_type": "text"
      },
      "source": [
        "##Convolutional Autoencoder \n",
        "using a convolutional autoencoder to encode and decode images in the Fashion-MNIST dataset. The encoding piece uses 2 convolutional layrers of dimensionaliy 16, 8  and each kernel is of size 3x3, stride is 2, using max-pooling from a 2x2 matrix after each convolutional layer. The decoder piece is simply the reverse of the encoder, uses 2 conv layers of dimensionality  8 and 16 with each layer followed by an up-sampling layer of size 2x2 matrix."
      ]
    },
    {
      "cell_type": "code",
      "metadata": {
        "id": "BhGY1YikAB5w",
        "colab_type": "code",
        "colab": {}
      },
      "source": [
        "\n",
        "# define the NN architecture\n",
        "class ConvAutoencoder(nn.Module):\n",
        "    def __init__(self):\n",
        "        super(ConvAutoencoder, self).__init__()\n",
        "        ## encoder layers ##\n",
        "        # conv layer (depth from 1 --> 16), 3x3 kernels\n",
        "        self.conv1 = nn.Conv2d(1, 16, 3, padding=1)  \n",
        "        # conv layer (depth from 16 --> 8), 3x3 kernels\n",
        "        self.conv2 = nn.Conv2d(16, 4, 3, padding=1)\n",
        "        # pooling layer to reduce x-y dims by two; kernel and stride of 2\n",
        "        self.pool = nn.MaxPool2d(2, 2)\n",
        "        \n",
        "        ## decoder layers ##\n",
        "        self.conv4 = nn.Conv2d(4, 16, 3, padding=1)\n",
        "        self.conv5 = nn.Conv2d(16, 1, 3, padding=1)\n",
        "        \n",
        "\n",
        "    def forward(self, x):\n",
        "        # add layer, with relu activation function\n",
        "        # and maxpooling after\n",
        "        x = F.relu(self.conv1(x))\n",
        "        x = self.pool(x)\n",
        "        # add hidden layer, with relu activation function\n",
        "        x = F.relu(self.conv2(x))\n",
        "        x = self.pool(x)  # compressed representation\n",
        "        \n",
        "        ## decoder \n",
        "        # upsample, followed by a conv layer, with relu activation function  \n",
        "        # this function is called `interpolate` in some PyTorch versions\n",
        "        x = F.upsample(x, scale_factor=2, mode='nearest')\n",
        "        x = F.relu(self.conv4(x))\n",
        "        # upsample again, output should have a sigmoid applied\n",
        "        x = F.upsample(x, scale_factor=2, mode='nearest')\n",
        "        x = F.sigmoid(self.conv5(x))\n",
        "        \n",
        "        return x\n"
      ],
      "execution_count": 0,
      "outputs": []
    },
    {
      "cell_type": "code",
      "metadata": {
        "id": "00EzotGHAH14",
        "colab_type": "code",
        "colab": {}
      },
      "source": [
        "autoencoder = ConvAutoencoder()\n",
        "loss_fn = nn.BCELoss()\n",
        "optimizer = optimizer_cls(autoencoder.parameters(), lr=lr)\n"
      ],
      "execution_count": 0,
      "outputs": []
    },
    {
      "cell_type": "code",
      "metadata": {
        "id": "LyoHx8-CAX9Q",
        "colab_type": "code",
        "colab": {
          "base_uri": "https://localhost:8080/",
          "height": 615
        },
        "outputId": "58e59594-c972-4103-b7be-55e113d331df"
      },
      "source": [
        "n_epochs = 30\n",
        "train_losses=[]\n",
        "test_losses=[]\n",
        "for epoch in range(1, n_epochs+1):\n",
        "    # monitor training loss\n",
        "    train_loss = 0.0\n",
        "    \n",
        "    ###################\n",
        "    # train the model #\n",
        "    ###################\n",
        "    for data in train_loader:\n",
        "        # _ stands in for labels, here\n",
        "        # no need to flatten images\n",
        "        images, _ = data\n",
        "        # clear the gradients of all optimized variables\n",
        "        optimizer.zero_grad()\n",
        "        # forward pass: compute predicted outputs by passing inputs to the model\n",
        "        outputs = autoencoder(images)\n",
        "        # calculate the loss\n",
        "        loss = loss_fn(outputs, images)\n",
        "        # backward pass: compute gradient of the loss with respect to model parameters\n",
        "        loss.backward()\n",
        "        # perform a single optimization step (parameter update)\n",
        "        optimizer.step()\n",
        "        # update running training loss\n",
        "        train_loss += loss.item()*images.size(0)\n",
        "\n",
        "    train_loss = train_loss/len(train_loader)\n",
        "    train_losses.append(train_loss/len(train_loader))\n",
        "    print('Epoch: {} \\tTraining Loss: {:.6f}'.format(\n",
        "        epoch, \n",
        "        train_loss/len(train_loader)\n",
        "        ))         \n",
        "    # print avg training statistics \n",
        "    \n",
        "\n",
        " "
      ],
      "execution_count": 68,
      "outputs": [
        {
          "output_type": "stream",
          "text": [
            "/usr/local/lib/python3.6/dist-packages/torch/nn/functional.py:2404: UserWarning: nn.functional.upsample is deprecated. Use nn.functional.interpolate instead.\n",
            "  warnings.warn(\"nn.functional.upsample is deprecated. Use nn.functional.interpolate instead.\")\n",
            "/usr/local/lib/python3.6/dist-packages/torch/nn/functional.py:1351: UserWarning: nn.functional.sigmoid is deprecated. Use torch.sigmoid instead.\n",
            "  warnings.warn(\"nn.functional.sigmoid is deprecated. Use torch.sigmoid instead.\")\n"
          ],
          "name": "stderr"
        },
        {
          "output_type": "stream",
          "text": [
            "Epoch: 1 \tTraining Loss: 0.075626\n",
            "Epoch: 2 \tTraining Loss: 0.075380\n",
            "Epoch: 3 \tTraining Loss: 0.075201\n",
            "Epoch: 4 \tTraining Loss: 0.075048\n",
            "Epoch: 5 \tTraining Loss: 0.074936\n",
            "Epoch: 6 \tTraining Loss: 0.074805\n",
            "Epoch: 7 \tTraining Loss: 0.074740\n",
            "Epoch: 8 \tTraining Loss: 0.074629\n",
            "Epoch: 9 \tTraining Loss: 0.074553\n",
            "Epoch: 10 \tTraining Loss: 0.074493\n",
            "Epoch: 11 \tTraining Loss: 0.074431\n",
            "Epoch: 12 \tTraining Loss: 0.074406\n",
            "Epoch: 13 \tTraining Loss: 0.074349\n",
            "Epoch: 14 \tTraining Loss: 0.074315\n",
            "Epoch: 15 \tTraining Loss: 0.074291\n",
            "Epoch: 16 \tTraining Loss: 0.074271\n",
            "Epoch: 17 \tTraining Loss: 0.074231\n",
            "Epoch: 18 \tTraining Loss: 0.074212\n",
            "Epoch: 19 \tTraining Loss: 0.074208\n",
            "Epoch: 20 \tTraining Loss: 0.074168\n",
            "Epoch: 21 \tTraining Loss: 0.074142\n",
            "Epoch: 22 \tTraining Loss: 0.074119\n",
            "Epoch: 23 \tTraining Loss: 0.074095\n",
            "Epoch: 24 \tTraining Loss: 0.074076\n",
            "Epoch: 25 \tTraining Loss: 0.074041\n",
            "Epoch: 26 \tTraining Loss: 0.073990\n",
            "Epoch: 27 \tTraining Loss: 0.073958\n",
            "Epoch: 28 \tTraining Loss: 0.073923\n",
            "Epoch: 29 \tTraining Loss: 0.073883\n",
            "Epoch: 30 \tTraining Loss: 0.073849\n"
          ],
          "name": "stdout"
        }
      ]
    },
    {
      "cell_type": "code",
      "metadata": {
        "id": "dCHhKVdLBwHi",
        "colab_type": "code",
        "colab": {
          "base_uri": "https://localhost:8080/",
          "height": 282
        },
        "outputId": "3cbfd7f7-368c-437b-bdf0-28075f7d403f"
      },
      "source": [
        "plt.plot(train_losses,label = \"Train losses\")\n"
      ],
      "execution_count": 69,
      "outputs": [
        {
          "output_type": "execute_result",
          "data": {
            "text/plain": [
              "[<matplotlib.lines.Line2D at 0x7efeb7ac7e10>]"
            ]
          },
          "metadata": {
            "tags": []
          },
          "execution_count": 69
        },
        {
          "output_type": "display_data",
          "data": {
            "image/png": "[encoded data removed]",
            "text/plain": [
              "<Figure size 432x288 with 1 Axes>"
            ]
          },
          "metadata": {
            "tags": []
          }
        }
      ]
    },
    {
      "cell_type": "code",
      "metadata": {
        "id": "DkXJ0kVSAslH",
        "colab_type": "code",
        "colab": {
          "base_uri": "https://localhost:8080/",
          "height": 340
        },
        "outputId": "b256146a-b34e-4c00-be8e-99daa2627be4"
      },
      "source": [
        "\n",
        "# obtain one batch of test images\n",
        "dataiter = iter(test_loader)\n",
        "images, labels = dataiter.next()\n",
        "\n",
        "# get sample outputs\n",
        "output = autoencoder(images)\n",
        "# prep images for display\n",
        "images = images.numpy()\n",
        "\n",
        "# output is resized into a batch of iages\n",
        "output = output.view(batch_size, 1, 28, 28)\n",
        "# use detach when it's an output that requires_grad\n",
        "output = output.detach().numpy()\n",
        "\n",
        "# plot the first ten input images and then reconstructed images\n",
        "fig, axes = plt.subplots(nrows=2, ncols=10, sharex=True, sharey=True, figsize=(25,4))\n",
        "\n",
        "# input images on top row, reconstructions on bottom\n",
        "for images, row in zip([images, output], axes):\n",
        "    for img, ax in zip(images, row):\n",
        "        ax.imshow(np.squeeze(img), cmap='gray')\n",
        "        ax.get_xaxis().set_visible(False)\n",
        "        ax.get_yaxis().set_visible(False)"
      ],
      "execution_count": 71,
      "outputs": [
        {
          "output_type": "stream",
          "text": [
            "/usr/local/lib/python3.6/dist-packages/torch/nn/functional.py:2404: UserWarning: nn.functional.upsample is deprecated. Use nn.functional.interpolate instead.\n",
            "  warnings.warn(\"nn.functional.upsample is deprecated. Use nn.functional.interpolate instead.\")\n",
            "/usr/local/lib/python3.6/dist-packages/torch/nn/functional.py:1351: UserWarning: nn.functional.sigmoid is deprecated. Use torch.sigmoid instead.\n",
            "  warnings.warn(\"nn.functional.sigmoid is deprecated. Use torch.sigmoid instead.\")\n"
          ],
          "name": "stderr"
        },
        {
          "output_type": "display_data",
          "data": {
            "image/png": "[encoded data removed]",
            "text/plain": [
              "<Figure size 1800x288 with 20 Axes>"
            ]
          },
          "metadata": {
            "tags": []
          }
        }
      ]
    },
    {
      "cell_type": "markdown",
      "metadata": {
        "id": "ItwOH539Iuk4",
        "colab_type": "text"
      },
      "source": [
        "\n",
        "From the result, it is showed the decoding results display the original images and the reconstructed images. "
      ]
    },
    {
      "cell_type": "markdown",
      "metadata": {
        "id": "z68yJ2WhHcEE",
        "colab_type": "text"
      },
      "source": [
        "##Question 2##\n",
        "2 layers cnn\n",
        "##2.1 Using ConvNets##\n",
        "uisng CNNs in this problem to classify the various clothing items in the fashion MNIST dataset. We get a final accuracy of 90.85% on the test set. The architecture of the CNN is as follows.\n",
        "\n",
        "A 2D convolution layer of 32 kernels of size 5x5.\n",
        "Max polling over a 2x2 area to downsample the output.\n",
        "Another 2D convolution layer of 32 kernels of size 5*5.\n",
        "rical crossentropy since this is a multi class classification problem.\n",
        "The choices for the size of the convolution layers and dense layer are standard baseline numbers for image classification problems."
      ]
    },
    {
      "cell_type": "code",
      "metadata": {
        "id": "nzQt_pvlSUzT",
        "colab_type": "code",
        "colab": {}
      },
      "source": [
        "\n",
        "import torch.nn.functional as F\n",
        "class CNN(nn.Module):\n",
        "    def __init__(self,num_classes=10):\n",
        "        super(CNN, self).__init__()\n",
        "        self.layer1 = nn.Sequential(\n",
        "            nn.Conv2d(1, 16, kernel_size=5, padding=2),\n",
        "            nn.BatchNorm2d(16),\n",
        "            nn.ReLU(),\n",
        "            nn.AvgPool2d(2))\n",
        "        self.layer2 = nn.Sequential(\n",
        "            nn.Conv2d(16, 32, kernel_size=5, padding=2),\n",
        "            nn.BatchNorm2d(32),\n",
        "            nn.ReLU(),\n",
        "            nn.AvgPool2d(2))\n",
        "        self.fc1 = nn.Linear(7*7*32, 120)\n",
        "        self.fc2 = nn.Linear(120, 84)\n",
        "        self.fc3 = nn.Linear(84, 10)\n",
        "        \n",
        "    def forward(self, x):\n",
        "        out = self.layer1(x)\n",
        "        out = self.layer2(out)\n",
        "        out = out.view(out.size(0), -1)\n",
        "        out = F.relu(self.fc1(out))\n",
        "        out = F.relu(self.fc2(out))\n",
        "        out = self.fc3(out)\n",
        "        return out"
      ],
      "execution_count": 0,
      "outputs": []
    },
    {
      "cell_type": "code",
      "metadata": {
        "id": "IfrIvgjxSlYj",
        "colab_type": "code",
        "colab": {}
      },
      "source": [
        "num_epochs = 50\n",
        "num_classes = 10\n",
        "batch_size = 100\n",
        "learning_rate = 0.001"
      ],
      "execution_count": 0,
      "outputs": []
    },
    {
      "cell_type": "code",
      "metadata": {
        "id": "HAvHa2IaSWpd",
        "colab_type": "code",
        "colab": {}
      },
      "source": [
        "\n",
        "criterion = nn.CrossEntropyLoss()\n",
        "optimizer = torch.optim.Adam(model.parameters(), lr=learning_rate)"
      ],
      "execution_count": 0,
      "outputs": []
    },
    {
      "cell_type": "code",
      "metadata": {
        "id": "pmf0GjWjS3X4",
        "colab_type": "code",
        "colab": {}
      },
      "source": [
        "criterion = nn.CrossEntropyLoss()\n",
        "optimizer = torch.optim.Adam(model.parameters(), lr=learning_rate)"
      ],
      "execution_count": 0,
      "outputs": []
    },
    {
      "cell_type": "code",
      "metadata": {
        "id": "es19UTepVbO-",
        "colab_type": "code",
        "colab": {}
      },
      "source": [
        "# function to do evaluation (calculate the accuracy) in gpu\n",
        "def evaluation(dataloader):\n",
        "     total, correct = 0, 0\n",
        "     #keeping the network in evaluation mode \n",
        "     model.eval()\n",
        "     for data in dataloader:\n",
        "         inputs, labels = data\n",
        "         #moving the inputs and labels to gpu\n",
        "         inputs, labels = inputs.to(device), labels.to(device)\n",
        "         outputs = model(inputs)\n",
        "         _, pred = torch.max(outputs.data, 1)\n",
        "         total += labels.size(0)\n",
        "         correct += (pred == labels).sum().item()\n",
        "     return 100 * correct / total"
      ],
      "execution_count": 0,
      "outputs": []
    },
    {
      "cell_type": "code",
      "metadata": {
        "id": "4JlnOriq5Ss3",
        "colab_type": "code",
        "colab": {}
      },
      "source": [
        "epoch=50"
      ],
      "execution_count": 0,
      "outputs": []
    },
    {
      "cell_type": "code",
      "metadata": {
        "id": "NWkFnLILaBFT",
        "colab_type": "code",
        "outputId": "125b1812-c501-4e56-b579-5c2757b60a64",
        "colab": {
          "base_uri": "https://localhost:8080/",
          "height": 306
        }
      },
      "source": [
        "test_losses=[]\n",
        "test_losses=[]\n",
        "for e in range(epoch):\n",
        "    train_loss = 0\n",
        "    test_loss = 0\n",
        "    accuracy = 0\n",
        "    for images, labels in train_loader:\n",
        "        images,labels = images.to(device),labels.to(device)\n",
        "        optimizer.zero_grad()\n",
        "        op = model(images)\n",
        "        loss = criterion(op, labels)\n",
        "        train_loss += loss.item()\n",
        "        loss.backward()\n",
        "        optimizer.step()\n",
        "    else:\n",
        "        with torch.no_grad():\n",
        "            model.eval()\n",
        "            for images,labels in test_loader:\n",
        "                images,labels = images.to(device),labels.to(device)\n",
        "                log_ps = model(images)\n",
        "                prob = torch.exp(log_ps)\n",
        "                top_probs, top_classes = prob.topk(1, dim=1)\n",
        "                equals = labels == top_classes.view(labels.shape)\n",
        "                accuracy += equals.type(torch.FloatTensor).mean()\n",
        "                test_loss += criterion(log_ps, labels)\n",
        "        model.train()\n",
        "    print(\"Epoch: {}/{}.. \".format(e+1, epoch),\n",
        "              \"Training Loss: {:.3f}.. \".format(train_loss/len(train_loader)),\n",
        "              \"Test Loss: {:.3f}.. \".format(test_loss/len(test_loader)),\n",
        "              \"Test Accuracy: {:.3f}\".format(accuracy/len(test_loader)))\n",
        "    train_losses.append(train_loss/len(train_loader))\n",
        "    test_losses.append(test_loss/len(test_loader))\n",
        "        "
      ],
      "execution_count": 0,
      "outputs": [
        {
          "output_type": "stream",
          "text": [
            "Epoch: 1/50..  Training Loss: 0.034..  Test Loss: 0.531..  Test Accuracy: 0.918\n",
            "Epoch: 2/50..  Training Loss: 0.012..  Test Loss: 0.614..  Test Accuracy: 0.918\n",
            "Epoch: 3/50..  Training Loss: 0.008..  Test Loss: 0.595..  Test Accuracy: 0.917\n",
            "Epoch: 4/50..  Training Loss: 0.015..  Test Loss: 0.630..  Test Accuracy: 0.910\n",
            "Epoch: 5/50..  Training Loss: 0.019..  Test Loss: 0.558..  Test Accuracy: 0.919\n",
            "Epoch: 6/50..  Training Loss: 0.011..  Test Loss: 0.636..  Test Accuracy: 0.911\n",
            "Epoch: 7/50..  Training Loss: 0.016..  Test Loss: 0.650..  Test Accuracy: 0.915\n",
            "Epoch: 8/50..  Training Loss: 0.017..  Test Loss: 0.556..  Test Accuracy: 0.919\n",
            "Epoch: 9/50..  Training Loss: 0.005..  Test Loss: 0.642..  Test Accuracy: 0.922\n",
            "Epoch: 10/50..  Training Loss: 0.016..  Test Loss: 0.640..  Test Accuracy: 0.913\n",
            "Epoch: 11/50..  Training Loss: 0.013..  Test Loss: 0.661..  Test Accuracy: 0.912\n",
            "Epoch: 12/50..  Training Loss: 0.014..  Test Loss: 0.637..  Test Accuracy: 0.918\n",
            "Epoch: 13/50..  Training Loss: 0.011..  Test Loss: 0.595..  Test Accuracy: 0.922\n",
            "Epoch: 14/50..  Training Loss: 0.014..  Test Loss: 0.627..  Test Accuracy: 0.918\n",
            "Epoch: 15/50..  Training Loss: 0.011..  Test Loss: 0.605..  Test Accuracy: 0.917\n",
            "Epoch: 16/50..  Training Loss: 0.014..  Test Loss: 0.603..  Test Accuracy: 0.921\n",
            "Epoch: 17/50..  Training Loss: 0.010..  Test Loss: 0.642..  Test Accuracy: 0.919\n"
          ],
          "name": "stdout"
        }
      ]
    },
    {
      "cell_type": "code",
      "metadata": {
        "id": "X651FHA0LUnE",
        "colab_type": "code",
        "colab": {}
      },
      "source": [
        "\n",
        "plt.plot(train_losses,label = \"Train losses\")\n",
        "plt.plot(test_losses, label = \"Test losses\")\n",
        "plt.legend()"
      ],
      "execution_count": 0,
      "outputs": []
    },
    {
      "cell_type": "code",
      "metadata": {
        "id": "TTrQIHGjLXyA",
        "colab_type": "code",
        "colab": {}
      },
      "source": [
        "import numpy as np"
      ],
      "execution_count": 0,
      "outputs": []
    },
    {
      "cell_type": "code",
      "metadata": {
        "id": "VTrOii15LbKU",
        "colab_type": "code",
        "colab": {}
      },
      "source": [
        "def imshow(image, ax=None, title=None, normalize=True):\n",
        "    \"\"\"Imshow for Tensor.\"\"\"\n",
        "    if ax is None:\n",
        "        fig, ax = plt.subplots()\n",
        "    image = image.numpy().transpose((1, 2, 0))\n",
        "\n",
        "    if normalize:\n",
        "        mean = np.array([0.5, 0.5, 0.5])\n",
        "        std = np.array([0.5, 0.5, 0.5])\n",
        "        image = std * image + mean\n",
        "        image = np.clip(image, 0, 1)\n",
        "\n",
        "    ax.imshow(image)\n",
        "    ax.spines['top'].set_visible(False)\n",
        "    ax.spines['right'].set_visible(False)\n",
        "    ax.spines['left'].set_visible(False)\n",
        "    ax.spines['bottom'].set_visible(False)\n",
        "    ax.tick_params(axis='both', length=0)\n",
        "    ax.set_xticklabels('')\n",
        "    ax.set_yticklabels('')"
      ],
      "execution_count": 0,
      "outputs": []
    },
    {
      "cell_type": "code",
      "metadata": {
        "id": "zxXbwPwgLe0W",
        "colab_type": "code",
        "colab": {}
      },
      "source": [
        "\n",
        "image,labels = next(iter(test_loader))"
      ],
      "execution_count": 0,
      "outputs": []
    },
    {
      "cell_type": "code",
      "metadata": {
        "id": "gLH003FGLkjt",
        "colab_type": "code",
        "colab": {}
      },
      "source": [
        "imshow(image[0])"
      ],
      "execution_count": 0,
      "outputs": []
    },
    {
      "cell_type": "code",
      "metadata": {
        "id": "LI-0NW9uLspl",
        "colab_type": "code",
        "colab": {}
      },
      "source": [
        "def view_classify(img, ps, version=\"MNIST\", title = 0):\n",
        "    ''' Function for viewing an image and it's predicted classes.\n",
        "    '''\n",
        "    title_order = ['T-shirt/top',\n",
        "                            'Trouser',\n",
        "                            'Pullover',\n",
        "                            'Dress',\n",
        "                            'Coat',\n",
        "                            'Sandal',\n",
        "                            'Shirt',\n",
        "                            'Sneaker',\n",
        "                            'Bag',\n",
        "                            'Ankle Boot']\n",
        "    ps = ps.data.numpy().squeeze()\n",
        "\n",
        "    fig, (ax1, ax2) = plt.subplots(figsize=(6,9), ncols=2)\n",
        "    ax1.imshow(img.resize_(1, 28, 28).numpy().squeeze())\n",
        "    ax1.axis('off')\n",
        "    ax2.barh(np.arange(10), ps)\n",
        "    ax2.set_aspect(0.1)\n",
        "    ax2.set_yticks(np.arange(10))\n",
        "    if version == \"MNIST\":\n",
        "        ax2.set_yticklabels(np.arange(10))\n",
        "    elif version == \"Fashion\":\n",
        "        ax2.set_yticklabels(title_order, size='small');\n",
        "    ax2.set_title('Class Probability')\n",
        "    ax2.set_xlim(0, 1.1)\n",
        "\n",
        "    plt.tight_layout()\n",
        "    plt.title(\"True: \" + title_order[title])"
      ],
      "execution_count": 0,
      "outputs": []
    },
    {
      "cell_type": "code",
      "metadata": {
        "id": "Kfl96RzRLtOH",
        "colab_type": "code",
        "colab": {}
      },
      "source": [
        "\n",
        "def display_test(i):\n",
        "    model.eval()\n",
        "    dataiter = iter(test_loader)\n",
        "    images, labels = dataiter.next()\n",
        "    img = images[i]\n",
        "    lbl = labels[i]\n",
        "    with torch.no_grad():\n",
        "        output = model.forward(img)\n",
        "    ps = torch.exp(output)\n",
        "    view_classify(img.view(1,28,28), ps, version='Fashion', title=lbl)\n",
        "    "
      ],
      "execution_count": 0,
      "outputs": []
    },
    {
      "cell_type": "code",
      "metadata": {
        "id": "odkl9kxELvLt",
        "colab_type": "code",
        "outputId": "4f980895-e795-408b-ace7-11178f88c4c2",
        "colab": {
          "base_uri": "https://localhost:8080/",
          "height": 341
        }
      },
      "source": [
        "\n",
        "for i in range(10):\n",
        "    r = np.random.randint(0,63)\n",
        "    display_test(r)"
      ],
      "execution_count": 93,
      "outputs": [
        {
          "output_type": "error",
          "ename": "RuntimeError",
          "evalue": "ignored",
          "traceback": [
            "\u001b[0;31m---------------------------------------------------------------------------\u001b[0m",
            "\u001b[0;31mRuntimeError\u001b[0m                              Traceback (most recent call last)",
            "\u001b[0;32m<ipython-input-93-1de3b188256c>\u001b[0m in \u001b[0;36m<module>\u001b[0;34m()\u001b[0m\n\u001b[1;32m      2\u001b[0m \u001b[0;32mfor\u001b[0m \u001b[0mi\u001b[0m \u001b[0;32min\u001b[0m \u001b[0mrange\u001b[0m\u001b[0;34m(\u001b[0m\u001b[0;36m10\u001b[0m\u001b[0;34m)\u001b[0m\u001b[0;34m:\u001b[0m\u001b[0;34m\u001b[0m\u001b[0;34m\u001b[0m\u001b[0m\n\u001b[1;32m      3\u001b[0m     \u001b[0mr\u001b[0m \u001b[0;34m=\u001b[0m \u001b[0mnp\u001b[0m\u001b[0;34m.\u001b[0m\u001b[0mrandom\u001b[0m\u001b[0;34m.\u001b[0m\u001b[0mrandint\u001b[0m\u001b[0;34m(\u001b[0m\u001b[0;36m0\u001b[0m\u001b[0;34m,\u001b[0m\u001b[0;36m63\u001b[0m\u001b[0;34m)\u001b[0m\u001b[0;34m\u001b[0m\u001b[0;34m\u001b[0m\u001b[0m\n\u001b[0;32m----> 4\u001b[0;31m     \u001b[0mdisplay_test\u001b[0m\u001b[0;34m(\u001b[0m\u001b[0mr\u001b[0m\u001b[0;34m)\u001b[0m\u001b[0;34m\u001b[0m\u001b[0;34m\u001b[0m\u001b[0m\n\u001b[0m",
            "\u001b[0;32m<ipython-input-92-7543dfc41429>\u001b[0m in \u001b[0;36mdisplay_test\u001b[0;34m(i)\u001b[0m\n\u001b[1;32m      7\u001b[0m     \u001b[0mlbl\u001b[0m \u001b[0;34m=\u001b[0m \u001b[0mlabels\u001b[0m\u001b[0;34m[\u001b[0m\u001b[0mi\u001b[0m\u001b[0;34m]\u001b[0m\u001b[0;34m\u001b[0m\u001b[0;34m\u001b[0m\u001b[0m\n\u001b[1;32m      8\u001b[0m     \u001b[0;32mwith\u001b[0m \u001b[0mtorch\u001b[0m\u001b[0;34m.\u001b[0m\u001b[0mno_grad\u001b[0m\u001b[0;34m(\u001b[0m\u001b[0;34m)\u001b[0m\u001b[0;34m:\u001b[0m\u001b[0;34m\u001b[0m\u001b[0;34m\u001b[0m\u001b[0m\n\u001b[0;32m----> 9\u001b[0;31m         \u001b[0moutput\u001b[0m \u001b[0;34m=\u001b[0m \u001b[0mmodel\u001b[0m\u001b[0;34m.\u001b[0m\u001b[0mforward\u001b[0m\u001b[0;34m(\u001b[0m\u001b[0mimg\u001b[0m\u001b[0;34m)\u001b[0m\u001b[0;34m\u001b[0m\u001b[0;34m\u001b[0m\u001b[0m\n\u001b[0m\u001b[1;32m     10\u001b[0m     \u001b[0mps\u001b[0m \u001b[0;34m=\u001b[0m \u001b[0mtorch\u001b[0m\u001b[0;34m.\u001b[0m\u001b[0mexp\u001b[0m\u001b[0;34m(\u001b[0m\u001b[0moutput\u001b[0m\u001b[0;34m)\u001b[0m\u001b[0;34m\u001b[0m\u001b[0;34m\u001b[0m\u001b[0m\n\u001b[1;32m     11\u001b[0m     \u001b[0mview_classify\u001b[0m\u001b[0;34m(\u001b[0m\u001b[0mimg\u001b[0m\u001b[0;34m.\u001b[0m\u001b[0mview\u001b[0m\u001b[0;34m(\u001b[0m\u001b[0;36m1\u001b[0m\u001b[0;34m,\u001b[0m\u001b[0;36m28\u001b[0m\u001b[0;34m,\u001b[0m\u001b[0;36m28\u001b[0m\u001b[0;34m)\u001b[0m\u001b[0;34m,\u001b[0m \u001b[0mps\u001b[0m\u001b[0;34m,\u001b[0m \u001b[0mversion\u001b[0m\u001b[0;34m=\u001b[0m\u001b[0;34m'Fashion'\u001b[0m\u001b[0;34m,\u001b[0m \u001b[0mtitle\u001b[0m\u001b[0;34m=\u001b[0m\u001b[0mlbl\u001b[0m\u001b[0;34m)\u001b[0m\u001b[0;34m\u001b[0m\u001b[0;34m\u001b[0m\u001b[0m\n",
            "\u001b[0;32m<ipython-input-72-876b4ec69417>\u001b[0m in \u001b[0;36mforward\u001b[0;34m(self, x)\u001b[0m\n\u001b[1;32m     19\u001b[0m \u001b[0;34m\u001b[0m\u001b[0m\n\u001b[1;32m     20\u001b[0m     \u001b[0;32mdef\u001b[0m \u001b[0mforward\u001b[0m\u001b[0;34m(\u001b[0m\u001b[0mself\u001b[0m\u001b[0;34m,\u001b[0m \u001b[0mx\u001b[0m\u001b[0;34m)\u001b[0m\u001b[0;34m:\u001b[0m\u001b[0;34m\u001b[0m\u001b[0;34m\u001b[0m\u001b[0m\n\u001b[0;32m---> 21\u001b[0;31m         \u001b[0mout\u001b[0m \u001b[0;34m=\u001b[0m \u001b[0mself\u001b[0m\u001b[0;34m.\u001b[0m\u001b[0mlayer1\u001b[0m\u001b[0;34m(\u001b[0m\u001b[0mx\u001b[0m\u001b[0;34m)\u001b[0m\u001b[0;34m\u001b[0m\u001b[0;34m\u001b[0m\u001b[0m\n\u001b[0m\u001b[1;32m     22\u001b[0m         \u001b[0mout\u001b[0m \u001b[0;34m=\u001b[0m \u001b[0mself\u001b[0m\u001b[0;34m.\u001b[0m\u001b[0mlayer2\u001b[0m\u001b[0;34m(\u001b[0m\u001b[0mout\u001b[0m\u001b[0;34m)\u001b[0m\u001b[0;34m\u001b[0m\u001b[0;34m\u001b[0m\u001b[0m\n\u001b[1;32m     23\u001b[0m         \u001b[0mout\u001b[0m \u001b[0;34m=\u001b[0m \u001b[0mout\u001b[0m\u001b[0;34m.\u001b[0m\u001b[0mview\u001b[0m\u001b[0;34m(\u001b[0m\u001b[0mout\u001b[0m\u001b[0;34m.\u001b[0m\u001b[0msize\u001b[0m\u001b[0;34m(\u001b[0m\u001b[0;36m0\u001b[0m\u001b[0;34m)\u001b[0m\u001b[0;34m,\u001b[0m \u001b[0;34m-\u001b[0m\u001b[0;36m1\u001b[0m\u001b[0;34m)\u001b[0m\u001b[0;34m\u001b[0m\u001b[0;34m\u001b[0m\u001b[0m\n",
            "\u001b[0;32m/usr/local/lib/python3.6/dist-packages/torch/nn/modules/module.py\u001b[0m in \u001b[0;36m__call__\u001b[0;34m(self, *input, **kwargs)\u001b[0m\n\u001b[1;32m    539\u001b[0m             \u001b[0mresult\u001b[0m \u001b[0;34m=\u001b[0m \u001b[0mself\u001b[0m\u001b[0;34m.\u001b[0m\u001b[0m_slow_forward\u001b[0m\u001b[0;34m(\u001b[0m\u001b[0;34m*\u001b[0m\u001b[0minput\u001b[0m\u001b[0;34m,\u001b[0m \u001b[0;34m**\u001b[0m\u001b[0mkwargs\u001b[0m\u001b[0;34m)\u001b[0m\u001b[0;34m\u001b[0m\u001b[0;34m\u001b[0m\u001b[0m\n\u001b[1;32m    540\u001b[0m         \u001b[0;32melse\u001b[0m\u001b[0;34m:\u001b[0m\u001b[0;34m\u001b[0m\u001b[0;34m\u001b[0m\u001b[0m\n\u001b[0;32m--> 541\u001b[0;31m             \u001b[0mresult\u001b[0m \u001b[0;34m=\u001b[0m \u001b[0mself\u001b[0m\u001b[0;34m.\u001b[0m\u001b[0mforward\u001b[0m\u001b[0;34m(\u001b[0m\u001b[0;34m*\u001b[0m\u001b[0minput\u001b[0m\u001b[0;34m,\u001b[0m \u001b[0;34m**\u001b[0m\u001b[0mkwargs\u001b[0m\u001b[0;34m)\u001b[0m\u001b[0;34m\u001b[0m\u001b[0;34m\u001b[0m\u001b[0m\n\u001b[0m\u001b[1;32m    542\u001b[0m         \u001b[0;32mfor\u001b[0m \u001b[0mhook\u001b[0m \u001b[0;32min\u001b[0m \u001b[0mself\u001b[0m\u001b[0;34m.\u001b[0m\u001b[0m_forward_hooks\u001b[0m\u001b[0;34m.\u001b[0m\u001b[0mvalues\u001b[0m\u001b[0;34m(\u001b[0m\u001b[0;34m)\u001b[0m\u001b[0;34m:\u001b[0m\u001b[0;34m\u001b[0m\u001b[0;34m\u001b[0m\u001b[0m\n\u001b[1;32m    543\u001b[0m             \u001b[0mhook_result\u001b[0m \u001b[0;34m=\u001b[0m \u001b[0mhook\u001b[0m\u001b[0;34m(\u001b[0m\u001b[0mself\u001b[0m\u001b[0;34m,\u001b[0m \u001b[0minput\u001b[0m\u001b[0;34m,\u001b[0m \u001b[0mresult\u001b[0m\u001b[0;34m)\u001b[0m\u001b[0;34m\u001b[0m\u001b[0;34m\u001b[0m\u001b[0m\n",
            "\u001b[0;32m/usr/local/lib/python3.6/dist-packages/torch/nn/modules/container.py\u001b[0m in \u001b[0;36mforward\u001b[0;34m(self, input)\u001b[0m\n\u001b[1;32m     90\u001b[0m     \u001b[0;32mdef\u001b[0m \u001b[0mforward\u001b[0m\u001b[0;34m(\u001b[0m\u001b[0mself\u001b[0m\u001b[0;34m,\u001b[0m \u001b[0minput\u001b[0m\u001b[0;34m)\u001b[0m\u001b[0;34m:\u001b[0m\u001b[0;34m\u001b[0m\u001b[0;34m\u001b[0m\u001b[0m\n\u001b[1;32m     91\u001b[0m         \u001b[0;32mfor\u001b[0m \u001b[0mmodule\u001b[0m \u001b[0;32min\u001b[0m \u001b[0mself\u001b[0m\u001b[0;34m.\u001b[0m\u001b[0m_modules\u001b[0m\u001b[0;34m.\u001b[0m\u001b[0mvalues\u001b[0m\u001b[0;34m(\u001b[0m\u001b[0;34m)\u001b[0m\u001b[0;34m:\u001b[0m\u001b[0;34m\u001b[0m\u001b[0;34m\u001b[0m\u001b[0m\n\u001b[0;32m---> 92\u001b[0;31m             \u001b[0minput\u001b[0m \u001b[0;34m=\u001b[0m \u001b[0mmodule\u001b[0m\u001b[0;34m(\u001b[0m\u001b[0minput\u001b[0m\u001b[0;34m)\u001b[0m\u001b[0;34m\u001b[0m\u001b[0;34m\u001b[0m\u001b[0m\n\u001b[0m\u001b[1;32m     93\u001b[0m         \u001b[0;32mreturn\u001b[0m \u001b[0minput\u001b[0m\u001b[0;34m\u001b[0m\u001b[0;34m\u001b[0m\u001b[0m\n\u001b[1;32m     94\u001b[0m \u001b[0;34m\u001b[0m\u001b[0m\n",
            "\u001b[0;32m/usr/local/lib/python3.6/dist-packages/torch/nn/modules/module.py\u001b[0m in \u001b[0;36m__call__\u001b[0;34m(self, *input, **kwargs)\u001b[0m\n\u001b[1;32m    539\u001b[0m             \u001b[0mresult\u001b[0m \u001b[0;34m=\u001b[0m \u001b[0mself\u001b[0m\u001b[0;34m.\u001b[0m\u001b[0m_slow_forward\u001b[0m\u001b[0;34m(\u001b[0m\u001b[0;34m*\u001b[0m\u001b[0minput\u001b[0m\u001b[0;34m,\u001b[0m \u001b[0;34m**\u001b[0m\u001b[0mkwargs\u001b[0m\u001b[0;34m)\u001b[0m\u001b[0;34m\u001b[0m\u001b[0;34m\u001b[0m\u001b[0m\n\u001b[1;32m    540\u001b[0m         \u001b[0;32melse\u001b[0m\u001b[0;34m:\u001b[0m\u001b[0;34m\u001b[0m\u001b[0;34m\u001b[0m\u001b[0m\n\u001b[0;32m--> 541\u001b[0;31m             \u001b[0mresult\u001b[0m \u001b[0;34m=\u001b[0m \u001b[0mself\u001b[0m\u001b[0;34m.\u001b[0m\u001b[0mforward\u001b[0m\u001b[0;34m(\u001b[0m\u001b[0;34m*\u001b[0m\u001b[0minput\u001b[0m\u001b[0;34m,\u001b[0m \u001b[0;34m**\u001b[0m\u001b[0mkwargs\u001b[0m\u001b[0;34m)\u001b[0m\u001b[0;34m\u001b[0m\u001b[0;34m\u001b[0m\u001b[0m\n\u001b[0m\u001b[1;32m    542\u001b[0m         \u001b[0;32mfor\u001b[0m \u001b[0mhook\u001b[0m \u001b[0;32min\u001b[0m \u001b[0mself\u001b[0m\u001b[0;34m.\u001b[0m\u001b[0m_forward_hooks\u001b[0m\u001b[0;34m.\u001b[0m\u001b[0mvalues\u001b[0m\u001b[0;34m(\u001b[0m\u001b[0;34m)\u001b[0m\u001b[0;34m:\u001b[0m\u001b[0;34m\u001b[0m\u001b[0;34m\u001b[0m\u001b[0m\n\u001b[1;32m    543\u001b[0m             \u001b[0mhook_result\u001b[0m \u001b[0;34m=\u001b[0m \u001b[0mhook\u001b[0m\u001b[0;34m(\u001b[0m\u001b[0mself\u001b[0m\u001b[0;34m,\u001b[0m \u001b[0minput\u001b[0m\u001b[0;34m,\u001b[0m \u001b[0mresult\u001b[0m\u001b[0;34m)\u001b[0m\u001b[0;34m\u001b[0m\u001b[0;34m\u001b[0m\u001b[0m\n",
            "\u001b[0;32m/usr/local/lib/python3.6/dist-packages/torch/nn/modules/conv.py\u001b[0m in \u001b[0;36mforward\u001b[0;34m(self, input)\u001b[0m\n\u001b[1;32m    343\u001b[0m \u001b[0;34m\u001b[0m\u001b[0m\n\u001b[1;32m    344\u001b[0m     \u001b[0;32mdef\u001b[0m \u001b[0mforward\u001b[0m\u001b[0;34m(\u001b[0m\u001b[0mself\u001b[0m\u001b[0;34m,\u001b[0m \u001b[0minput\u001b[0m\u001b[0;34m)\u001b[0m\u001b[0;34m:\u001b[0m\u001b[0;34m\u001b[0m\u001b[0;34m\u001b[0m\u001b[0m\n\u001b[0;32m--> 345\u001b[0;31m         \u001b[0;32mreturn\u001b[0m \u001b[0mself\u001b[0m\u001b[0;34m.\u001b[0m\u001b[0mconv2d_forward\u001b[0m\u001b[0;34m(\u001b[0m\u001b[0minput\u001b[0m\u001b[0;34m,\u001b[0m \u001b[0mself\u001b[0m\u001b[0;34m.\u001b[0m\u001b[0mweight\u001b[0m\u001b[0;34m)\u001b[0m\u001b[0;34m\u001b[0m\u001b[0;34m\u001b[0m\u001b[0m\n\u001b[0m\u001b[1;32m    346\u001b[0m \u001b[0;34m\u001b[0m\u001b[0m\n\u001b[1;32m    347\u001b[0m \u001b[0;32mclass\u001b[0m \u001b[0mConv3d\u001b[0m\u001b[0;34m(\u001b[0m\u001b[0m_ConvNd\u001b[0m\u001b[0;34m)\u001b[0m\u001b[0;34m:\u001b[0m\u001b[0;34m\u001b[0m\u001b[0;34m\u001b[0m\u001b[0m\n",
            "\u001b[0;32m/usr/local/lib/python3.6/dist-packages/torch/nn/modules/conv.py\u001b[0m in \u001b[0;36mconv2d_forward\u001b[0;34m(self, input, weight)\u001b[0m\n\u001b[1;32m    340\u001b[0m                             _pair(0), self.dilation, self.groups)\n\u001b[1;32m    341\u001b[0m         return F.conv2d(input, weight, self.bias, self.stride,\n\u001b[0;32m--> 342\u001b[0;31m                         self.padding, self.dilation, self.groups)\n\u001b[0m\u001b[1;32m    343\u001b[0m \u001b[0;34m\u001b[0m\u001b[0m\n\u001b[1;32m    344\u001b[0m     \u001b[0;32mdef\u001b[0m \u001b[0mforward\u001b[0m\u001b[0;34m(\u001b[0m\u001b[0mself\u001b[0m\u001b[0;34m,\u001b[0m \u001b[0minput\u001b[0m\u001b[0;34m)\u001b[0m\u001b[0;34m:\u001b[0m\u001b[0;34m\u001b[0m\u001b[0;34m\u001b[0m\u001b[0m\n",
            "\u001b[0;31mRuntimeError\u001b[0m: Expected 4-dimensional input for 4-dimensional weight 16 1 5 5, but got 3-dimensional input of size [1, 28, 28] instead"
          ]
        }
      ]
    },
    {
      "cell_type": "markdown",
      "metadata": {
        "id": "Gi8sKcN_HuLi",
        "colab_type": "text"
      },
      "source": [
        "##Question3##\n",
        "##USING KERAS FOR Q3#\n",
        "#cnn and rnn\n"
      ]
    },
    {
      "cell_type": "code",
      "metadata": {
        "id": "DU5xOKIUbcq4",
        "colab_type": "code",
        "colab": {}
      },
      "source": [
        "import matplotlib.pyplot as plt\n",
        "import itertools\n",
        "from sklearn.metrics import confusion_matrix\n",
        "from sklearn.metrics import roc_curve\n",
        "from sklearn.metrics import auc\n",
        "    \n",
        "# plot training accuracy and loss for each training epoch\n",
        "def plot_model_training_results(history):\n",
        "  acc = history.history['acc']\n",
        "  val_acc = history.history['val_acc']\n",
        "  loss = history.history['loss']\n",
        "  val_loss = history.history['val_loss']\n",
        "\n",
        "  epochs = range(1, len(loss) + 1)\n",
        "\n",
        "  plt.plot(epochs, acc, 'bo', label='Training acc')\n",
        "  plt.plot(epochs, val_acc, 'b', label='Validation acc')\n",
        "  plt.title('Training and validation accuracy')\n",
        "  plt.legend()\n",
        "\n",
        "  plt.figure()\n",
        "\n",
        "  plt.plot(epochs, loss, 'bo', label='Training loss')\n",
        "  plt.plot(epochs, val_loss, 'b', label='Validation loss')\n",
        "  plt.title('Training and validation loss')\n",
        "  plt.legend()\n",
        "\n",
        "  plt.show()\n",
        "  \n",
        "def plot_roc_curve(y_test, y_predicted, model_name):\n",
        "  \n",
        "  fpr_keras, tpr_keras, thresholds_keras = roc_curve(y_test, y_predicted)\n",
        "  \n",
        "  auc_keras = auc(fpr_keras, tpr_keras)\n",
        "\n",
        "  plt.figure(1)\n",
        "  plt.plot([0, 1], [0, 1], 'k--')\n",
        "  plt.plot(fpr_keras, tpr_keras, label='Keras (area = {:.3f})'.format(auc_keras))\n",
        "  # plt.plot(fpr_rf, tpr_rf, label='RF (area = {:.3f})'.format(auc_rf))\n",
        "  plt.xlabel('False positive rate')\n",
        "  plt.ylabel('True positive rate')\n",
        "  plt.title('ROC curve for ' + model_name + ' model')\n",
        "  plt.legend(loc='best')\n",
        "  plt.show()\n",
        "\n",
        "def plot_confusion_matrix(cm, classes,\n",
        "                          normalize=False,\n",
        "                          title='Confusion matrix',\n",
        "                          cmap=plt.cm.Blues):\n",
        "    \n",
        "\n",
        "    \"\"\"\n",
        "    This function prints and plots the confusion matrix.\n",
        "    Normalization can be applied by setting `normalize=True`.\n",
        "    \"\"\"\n",
        "    if normalize:\n",
        "        cm = cm.astype('float') / cm.sum(axis=1)[:, np.newaxis]\n",
        "        print(\"Normalized confusion matrix\")\n",
        "    else:\n",
        "        print('Confusion matrix, without normalization')\n",
        "\n",
        "    print(cm)\n",
        "\n",
        "    plt.imshow(cm, interpolation='nearest', cmap=cmap)\n",
        "    plt.title(title)\n",
        "    plt.colorbar()\n",
        "    tick_marks = np.arange(len(classes))\n",
        "    plt.xticks(tick_marks, classes, rotation=45)\n",
        "    plt.yticks(tick_marks, classes)\n",
        "\n",
        "    fmt = '.2f' if normalize else 'd'\n",
        "    thresh = cm.max() / 2.\n",
        "    for i, j in itertools.product(range(cm.shape[0]), range(cm.shape[1])):\n",
        "        plt.text(j, i, format(cm[i, j], fmt),\n",
        "                 horizontalalignment=\"center\",\n",
        "                 color=\"white\" if cm[i, j] > thresh else \"black\")\n",
        "\n",
        "    plt.ylabel('True label')\n",
        "    plt.xlabel('Predicted label')\n",
        "    plt.tight_layout()"
      ],
      "execution_count": 0,
      "outputs": []
    },
    {
      "cell_type": "code",
      "metadata": {
        "id": "aYV8QI3IoeqO",
        "colab_type": "code",
        "colab": {
          "base_uri": "https://localhost:8080/",
          "height": 153
        },
        "outputId": "4e6b2540-cf64-4044-bd02-bf32ba45b3b3"
      },
      "source": [
        "import  pandas as pd\n",
        "\n"
      ],
      "execution_count": 17,
      "outputs": [
        {
          "output_type": "stream",
          "text": [
            "going to use Kaggle dataset\n",
            "<class 'pandas.core.frame.DataFrame'>\n",
            "RangeIndex: 420464 entries, 0 to 420463\n",
            "Data columns (total 2 columns):\n",
            "url      420464 non-null object\n",
            "label    420464 non-null int64\n",
            "dtypes: int64(1), object(1)\n",
            "memory usage: 6.4+ MB\n"
          ],
          "name": "stdout"
        }
      ]
    },
    {
      "cell_type": "code",
      "metadata": {
        "id": "QfBV2fkfom1M",
        "colab_type": "code",
        "colab": {
          "base_uri": "https://localhost:8080/",
          "height": 71
        },
        "outputId": "4de7528c-0e4b-439d-d736-2fa701d23c24"
      },
      "source": [
        "from gensim.corpora import Dictionary\n",
        "di = list(urls['url'].map(lambda x: list(x)))\n",
        "dct = Dictionary(di)  \n",
        "print(\"here is how the dictionary looks like...\")\n",
        "print(dct.token2id)"
      ],
      "execution_count": 18,
      "outputs": [
        {
          "output_type": "stream",
          "text": [
            "here is how the dictionary looks like...\n",
            "{'.': 0, 'a': 1, 'c': 2, 'd': 3, 'e': 4, 'f': 5, 'g': 6, 'i': 7, 'm': 8, 'o': 9, 'r': 10, 't': 11, 'y': 12, 'n': 13, 'p': 14, 's': 15, 'u': 16, 'k': 17, 'l': 18, 'z': 19, 'h': 20, 'w': 21, 'b': 22, 'v': 23, '/': 24, '=': 25, '?': 26, 'x': 27, '-': 28, '1': 29, '2': 30, '9': 31, '_': 32, '0': 33, '7': 34, '8': 35, 'j': 36, '3': 37, '6': 38, '&': 39, ';': 40, 'A': 41, 'F': 42, 'G': 43, 'D': 44, 'H': 45, 'L': 46, '4': 47, '5': 48, 'q': 49, 'B': 50, 'K': 51, 'R': 52, 'N': 53, 'P': 54, 'O': 55, 'T': 56, 'M': 57, 'V': 58, 'C': 59, ':': 60, 'S': 61, 'E': 62, 'X': 63, 'J': 64, 'I': 65, '+': 66, 'á': 67, 'Q': 68, 'Y': 69, 'U': 70, 'W': 71, 'Z': 72, '%': 73, '[': 74, ']': 75, 'ó': 76, 'ñ': 77, 'í': 78, '¡': 79, '³': 80, '¿': 81, 'Â': 82, 'Ã': 83, ' ': 84, '@': 85, '~': 86, '<': 87, '>': 88, '{': 89, '}': 90, '\\xad': 91, '¼': 92, '½': 93, 'à': 94, 'ï': 95, '¸': 96, 'Þ': 97, '¨': 98, 'ª': 99, 'µ': 100, 'Ò': 101, '×': 102, '¤': 103, '§': 104, '®': 105, '¹': 106, 'å': 107, 'æ': 108, 'ç': 109, 'é': 110, '(': 111, ')': 112, '#': 113, ',': 114, '*': 115, '|': 116, '$': 117, '!': 118, \"'\": 119, '`': 120, '\\x13': 121, '’': 122, 'û': 123, 'è': 124, 'ô': 125, '–': 126, '”': 127, 'î': 128, 'â': 129, 'š': 130, 'ê': 131, 'ë': 132, '^': 133, '\\\\': 134, '™': 135, '“': 136, '´': 137, '—': 138, 'É': 139, 'ã': 140, 'Î': 141, '‰': 142, '°': 143, '€': 144, '•': 145, 'ž': 146, '©': 147, '»': 148, 'ü': 149, 'ß': 150, 'ä': 151, '‚': 152, '…': 153, 'Ö': 154, 'ö': 155, 'ƒ': 156, 'Æ': 157, '\\u200a': 158, '品': 159, '成': 160, '¢': 161, '\"': 162, '\\xa0': 163, 'ב': 164, 'ג': 165, 'ה': 166, 'ו': 167, 'ח': 168, 'ט': 169, 'י': 170, 'כ': 171, 'ל': 172, 'ן': 173, 'צ': 174, 'ק': 175, 'ר': 176, 'ש': 177, 'ת': 178}\n"
          ],
          "name": "stdout"
        }
      ]
    },
    {
      "cell_type": "code",
      "metadata": {
        "id": "1E6lChzyo4_6",
        "colab_type": "code",
        "colab": {
          "base_uri": "https://localhost:8080/",
          "height": 71
        },
        "outputId": "0707c29b-26af-45c8-a788-1e0a67888a1a"
      },
      "source": [
        "X = list(urls['url'].map(lambda x: dct.doc2idx(list(x))))\n",
        "print(\"random input samples..\")\n",
        "print(X[:10])\n",
        "y = urls['label']"
      ],
      "execution_count": 20,
      "outputs": [
        {
          "output_type": "stream",
          "text": [
            "random input samples..\n",
            "[[3, 7, 1, 10, 12, 9, 5, 1, 6, 1, 8, 4, 1, 3, 3, 7, 2, 11, 0, 2, 9, 8], [4, 15, 14, 3, 4, 15, 7, 6, 13, 0, 2, 9, 8, 0, 1, 16], [7, 1, 8, 1, 6, 1, 8, 4, 1, 3, 3, 7, 2, 11, 0, 2, 9, 8], [17, 1, 18, 1, 13, 11, 19, 7, 15, 0, 13, 4, 11], [15, 18, 7, 6, 20, 11, 18, 12, 9, 5, 5, 2, 4, 13, 11, 4, 10, 0, 13, 4, 11], [11, 9, 3, 3, 15, 2, 1, 10, 21, 1, 15, 20, 0, 2, 9, 8], [11, 16, 22, 4, 8, 9, 23, 7, 4, 19, 0, 2, 9, 8], [7, 14, 18, 0, 20, 17], [2, 10, 1, 2, 17, 15, 14, 7, 3, 4, 10, 0, 16, 15, 24, 11, 9, 9, 18, 22, 1, 10, 24, 7, 13, 15, 11, 1, 18, 18, 0, 14, 20, 14, 26, 14, 1, 2, 17, 25, 4, 27, 4], [14, 9, 15, 28, 17, 16, 14, 1, 13, 6, 0, 2, 9, 8, 24]]\n"
          ],
          "name": "stdout"
        }
      ]
    },
    {
      "cell_type": "code",
      "metadata": {
        "id": "YdMvdu4PpAdl",
        "colab_type": "code",
        "colab": {
          "base_uri": "https://localhost:8080/",
          "height": 255
        },
        "outputId": "bc5b3c8f-f376-4e82-b0a9-fa9349ab7e5f"
      },
      "source": [
        "import numpy as np\n",
        "from sklearn.model_selection import train_test_split\n",
        "X_train, X_test, y_train, y_test = train_test_split(X, y, test_size=0.33, random_state=1603)\n",
        "print(\"length of training set X_train {}, y_train {}\".format(len(X_train), len(y_train)))\n",
        "print(\"length of training set X_test {}, y_test {}\".format(len(X_test), len(y_test)))\n",
        "print(X_train[0])\n",
        "print(y_test[:10])"
      ],
      "execution_count": 21,
      "outputs": [
        {
          "output_type": "stream",
          "text": [
            "length of training set X_train 281710, y_train 281710\n",
            "length of training set X_test 138754, y_test 138754\n",
            "[8, 9, 10, 11, 1, 18, 7, 13, 15, 11, 10, 16, 8, 4, 13, 11, 15, 0, 2, 9, 8, 24, 8, 9, 10, 11, 1, 18, 5, 1, 49, 0, 20, 11, 8, 18]\n",
            "326094    0\n",
            "143606    0\n",
            "12115     1\n",
            "371188    0\n",
            "264135    0\n",
            "410944    1\n",
            "81068     0\n",
            "186562    0\n",
            "212724    0\n",
            "88914     0\n",
            "Name: label, dtype: int64\n"
          ],
          "name": "stdout"
        }
      ]
    },
    {
      "cell_type": "code",
      "metadata": {
        "id": "3Zojzlz4pBmQ",
        "colab_type": "code",
        "colab": {
          "base_uri": "https://localhost:8080/",
          "height": 80
        },
        "outputId": "7778d9b2-e80c-447c-f01d-6ef17a54260b"
      },
      "source": [
        "##RNN WITH KERAS\n",
        "\n",
        "from keras.preprocessing import sequence\n",
        "from keras.layers import Dense, SimpleRNN, LSTM, Embedding\n",
        "from keras.models import Sequential\n",
        "import numpy as np"
      ],
      "execution_count": 22,
      "outputs": [
        {
          "output_type": "stream",
          "text": [
            "Using TensorFlow backend.\n"
          ],
          "name": "stderr"
        },
        {
          "output_type": "display_data",
          "data": {
            "text/html": [
              "<p style=\"color: red;\">\n",
              "The default version of TensorFlow in Colab will soon switch to TensorFlow 2.x.<br>\n",
              "We recommend you <a href=\"https://www.tensorflow.org/guide/migrate\" target=\"_blank\">upgrade</a> now \n",
              "or ensure your notebook will continue to use TensorFlow 1.x via the <code>%tensorflow_version 1.x</code> magic:\n",
              "<a href=\"https://colab.research.google.com/notebooks/tensorflow_version.ipynb\" target=\"_blank\">more info</a>.</p>\n"
            ],
            "text/plain": [
              "<IPython.core.display.HTML object>"
            ]
          },
          "metadata": {
            "tags": []
          }
        }
      ]
    },
    {
      "cell_type": "code",
      "metadata": {
        "id": "UAa6pgR_pFrr",
        "colab_type": "code",
        "colab": {
          "base_uri": "https://localhost:8080/",
          "height": 85
        },
        "outputId": "d624218e-6828-46bb-9541-15aa0244d544"
      },
      "source": [
        "maxindx = 50\n",
        "X_train = sequence.pad_sequences(X_train, maxindx, padding=\"post\", truncating=\"post\")\n",
        "X_test = sequence.pad_sequences(X_test, maxindx, padding=\"post\", truncating=\"post\")\n",
        "X_train[0]"
      ],
      "execution_count": 23,
      "outputs": [
        {
          "output_type": "execute_result",
          "data": {
            "text/plain": [
              "array([ 8,  9, 10, 11,  1, 18,  7, 13, 15, 11, 10, 16,  8,  4, 13, 11, 15,\n",
              "        0,  2,  9,  8, 24,  8,  9, 10, 11,  1, 18,  5,  1, 49,  0, 20, 11,\n",
              "        8, 18,  0,  0,  0,  0,  0,  0,  0,  0,  0,  0,  0,  0,  0,  0],\n",
              "      dtype=int32)"
            ]
          },
          "metadata": {
            "tags": []
          },
          "execution_count": 23
        }
      ]
    },
    {
      "cell_type": "markdown",
      "metadata": {
        "id": "GPGlkiSyJp-d",
        "colab_type": "text"
      },
      "source": [
        "##simple rnn##\n",
        "\n",
        "using a simple RNN to classify URLs into benign and malicious. As shown in the output of the code below, we get an f1 score accuracy of 96%, classfication accuracy of 98% for benign class and 86% for malicious class.\n",
        "\n"
      ]
    },
    {
      "cell_type": "code",
      "metadata": {
        "id": "PJnJJbzUpMT-",
        "colab_type": "code",
        "colab": {
          "base_uri": "https://localhost:8080/",
          "height": 139
        },
        "outputId": "897154e2-6473-43dd-88eb-52484d99cc2a"
      },
      "source": [
        "max_features = len(dct)\n",
        "rnn_model = Sequential()\n",
        "rnn_model.add(Embedding(max_features, 64))\n",
        "rnn_model.add(SimpleRNN(32))\n",
        "rnn_model.add(Dense(1, activation='sigmoid'))"
      ],
      "execution_count": 24,
      "outputs": [
        {
          "output_type": "stream",
          "text": [
            "WARNING:tensorflow:From /usr/local/lib/python3.6/dist-packages/keras/backend/tensorflow_backend.py:66: The name tf.get_default_graph is deprecated. Please use tf.compat.v1.get_default_graph instead.\n",
            "\n",
            "WARNING:tensorflow:From /usr/local/lib/python3.6/dist-packages/keras/backend/tensorflow_backend.py:541: The name tf.placeholder is deprecated. Please use tf.compat.v1.placeholder instead.\n",
            "\n",
            "WARNING:tensorflow:From /usr/local/lib/python3.6/dist-packages/keras/backend/tensorflow_backend.py:4432: The name tf.random_uniform is deprecated. Please use tf.random.uniform instead.\n",
            "\n"
          ],
          "name": "stdout"
        }
      ]
    },
    {
      "cell_type": "code",
      "metadata": {
        "id": "_fL9dZ1xpPAc",
        "colab_type": "code",
        "colab": {
          "base_uri": "https://localhost:8080/",
          "height": 411
        },
        "outputId": "0650b1a3-3ebd-4c0a-d814-9d68b80ad790"
      },
      "source": [
        "rnn_model.compile(optimizer=\"rmsprop\", loss=\"binary_crossentropy\", metrics=[\"acc\"])\n",
        "print(rnn_model.summary())"
      ],
      "execution_count": 25,
      "outputs": [
        {
          "output_type": "stream",
          "text": [
            "WARNING:tensorflow:From /usr/local/lib/python3.6/dist-packages/keras/optimizers.py:793: The name tf.train.Optimizer is deprecated. Please use tf.compat.v1.train.Optimizer instead.\n",
            "\n",
            "WARNING:tensorflow:From /usr/local/lib/python3.6/dist-packages/keras/backend/tensorflow_backend.py:3657: The name tf.log is deprecated. Please use tf.math.log instead.\n",
            "\n",
            "WARNING:tensorflow:From /usr/local/lib/python3.6/dist-packages/tensorflow_core/python/ops/nn_impl.py:183: where (from tensorflow.python.ops.array_ops) is deprecated and will be removed in a future version.\n",
            "Instructions for updating:\n",
            "Use tf.where in 2.0, which has the same broadcast rule as np.where\n",
            "Model: \"sequential_1\"\n",
            "_________________________________________________________________\n",
            "Layer (type)                 Output Shape              Param #   \n",
            "=================================================================\n",
            "embedding_1 (Embedding)      (None, None, 64)          11456     \n",
            "_________________________________________________________________\n",
            "simple_rnn_1 (SimpleRNN)     (None, 32)                3104      \n",
            "_________________________________________________________________\n",
            "dense_1 (Dense)              (None, 1)                 33        \n",
            "=================================================================\n",
            "Total params: 14,593\n",
            "Trainable params: 14,593\n",
            "Non-trainable params: 0\n",
            "_________________________________________________________________\n",
            "None\n"
          ],
          "name": "stdout"
        }
      ]
    },
    {
      "cell_type": "code",
      "metadata": {
        "id": "GI8sy0iXpROG",
        "colab_type": "code",
        "colab": {
          "base_uri": "https://localhost:8080/",
          "height": 1000
        },
        "outputId": "62cb4b9b-2314-4490-b6eb-4a99dbbf4bc9"
      },
      "source": [
        "history = rnn_model.fit(X_train, y_train, epochs=100, batch_size=256, validation_split=0.2)"
      ],
      "execution_count": 26,
      "outputs": [
        {
          "output_type": "stream",
          "text": [
            "WARNING:tensorflow:From /usr/local/lib/python3.6/dist-packages/keras/backend/tensorflow_backend.py:1033: The name tf.assign_add is deprecated. Please use tf.compat.v1.assign_add instead.\n",
            "\n",
            "WARNING:tensorflow:From /usr/local/lib/python3.6/dist-packages/keras/backend/tensorflow_backend.py:1020: The name tf.assign is deprecated. Please use tf.compat.v1.assign instead.\n",
            "\n",
            "WARNING:tensorflow:From /usr/local/lib/python3.6/dist-packages/keras/backend/tensorflow_backend.py:3005: The name tf.Session is deprecated. Please use tf.compat.v1.Session instead.\n",
            "\n",
            "Train on 225368 samples, validate on 56342 samples\n",
            "Epoch 1/100\n",
            "WARNING:tensorflow:From /usr/local/lib/python3.6/dist-packages/keras/backend/tensorflow_backend.py:190: The name tf.get_default_session is deprecated. Please use tf.compat.v1.get_default_session instead.\n",
            "\n",
            "WARNING:tensorflow:From /usr/local/lib/python3.6/dist-packages/keras/backend/tensorflow_backend.py:197: The name tf.ConfigProto is deprecated. Please use tf.compat.v1.ConfigProto instead.\n",
            "\n",
            "WARNING:tensorflow:From /usr/local/lib/python3.6/dist-packages/keras/backend/tensorflow_backend.py:207: The name tf.global_variables is deprecated. Please use tf.compat.v1.global_variables instead.\n",
            "\n",
            "WARNING:tensorflow:From /usr/local/lib/python3.6/dist-packages/keras/backend/tensorflow_backend.py:216: The name tf.is_variable_initialized is deprecated. Please use tf.compat.v1.is_variable_initialized instead.\n",
            "\n",
            "WARNING:tensorflow:From /usr/local/lib/python3.6/dist-packages/keras/backend/tensorflow_backend.py:223: The name tf.variables_initializer is deprecated. Please use tf.compat.v1.variables_initializer instead.\n",
            "\n",
            "225368/225368 [==============================] - 32s 142us/step - loss: 0.3190 - acc: 0.8710 - val_loss: 0.2795 - val_acc: 0.8872\n",
            "Epoch 2/100\n",
            "225368/225368 [==============================] - 21s 94us/step - loss: 0.2647 - acc: 0.8943 - val_loss: 0.2414 - val_acc: 0.9063\n",
            "Epoch 3/100\n",
            "225368/225368 [==============================] - 21s 93us/step - loss: 0.2409 - acc: 0.9064 - val_loss: 0.3368 - val_acc: 0.8857\n",
            "Epoch 4/100\n",
            "225368/225368 [==============================] - 21s 93us/step - loss: 0.2186 - acc: 0.9173 - val_loss: 0.2082 - val_acc: 0.9247\n",
            "Epoch 5/100\n",
            "225368/225368 [==============================] - 21s 93us/step - loss: 0.1983 - acc: 0.9267 - val_loss: 0.1884 - val_acc: 0.9314\n",
            "Epoch 6/100\n",
            "225368/225368 [==============================] - 21s 93us/step - loss: 0.1825 - acc: 0.9337 - val_loss: 0.1756 - val_acc: 0.9353\n",
            "Epoch 7/100\n",
            "225368/225368 [==============================] - 21s 94us/step - loss: 0.1724 - acc: 0.9381 - val_loss: 0.2164 - val_acc: 0.9219\n",
            "Epoch 8/100\n",
            "225368/225368 [==============================] - 21s 93us/step - loss: 0.1640 - acc: 0.9423 - val_loss: 0.1940 - val_acc: 0.9273\n",
            "Epoch 9/100\n",
            "225368/225368 [==============================] - 21s 93us/step - loss: 0.1567 - acc: 0.9442 - val_loss: 0.1584 - val_acc: 0.9451\n",
            "Epoch 10/100\n",
            "225368/225368 [==============================] - 21s 93us/step - loss: 0.1513 - acc: 0.9472 - val_loss: 0.1505 - val_acc: 0.9467\n",
            "Epoch 11/100\n",
            "225368/225368 [==============================] - 21s 93us/step - loss: 0.1472 - acc: 0.9487 - val_loss: 0.1745 - val_acc: 0.9395\n",
            "Epoch 12/100\n",
            "225368/225368 [==============================] - 21s 94us/step - loss: 0.1430 - acc: 0.9504 - val_loss: 0.1693 - val_acc: 0.9480\n",
            "Epoch 13/100\n",
            "225368/225368 [==============================] - 21s 93us/step - loss: 0.1402 - acc: 0.9511 - val_loss: 0.1486 - val_acc: 0.9486\n",
            "Epoch 14/100\n",
            "225368/225368 [==============================] - 21s 94us/step - loss: 0.1367 - acc: 0.9525 - val_loss: 0.1491 - val_acc: 0.9487\n",
            "Epoch 15/100\n",
            "225368/225368 [==============================] - 21s 93us/step - loss: 0.1338 - acc: 0.9535 - val_loss: 0.1395 - val_acc: 0.9508\n",
            "Epoch 16/100\n",
            "225368/225368 [==============================] - 21s 93us/step - loss: 0.1326 - acc: 0.9540 - val_loss: 0.1471 - val_acc: 0.9491\n",
            "Epoch 17/100\n",
            "225368/225368 [==============================] - 21s 94us/step - loss: 0.1300 - acc: 0.9550 - val_loss: 0.1386 - val_acc: 0.9532\n",
            "Epoch 18/100\n",
            "225368/225368 [==============================] - 21s 94us/step - loss: 0.1278 - acc: 0.9561 - val_loss: 0.2392 - val_acc: 0.9023\n",
            "Epoch 19/100\n",
            "225368/225368 [==============================] - 21s 93us/step - loss: 0.1260 - acc: 0.9566 - val_loss: 0.1485 - val_acc: 0.9546\n",
            "Epoch 20/100\n",
            "225368/225368 [==============================] - 21s 93us/step - loss: 0.1252 - acc: 0.9568 - val_loss: 0.1706 - val_acc: 0.9396\n",
            "Epoch 21/100\n",
            "225368/225368 [==============================] - 21s 93us/step - loss: 0.1241 - acc: 0.9575 - val_loss: 0.1528 - val_acc: 0.9511\n",
            "Epoch 22/100\n",
            "225368/225368 [==============================] - 21s 94us/step - loss: 0.1227 - acc: 0.9581 - val_loss: 0.1385 - val_acc: 0.9515\n",
            "Epoch 23/100\n",
            "225368/225368 [==============================] - 21s 93us/step - loss: 0.1212 - acc: 0.9584 - val_loss: 0.1592 - val_acc: 0.9444\n",
            "Epoch 24/100\n",
            "225368/225368 [==============================] - 21s 93us/step - loss: 0.1200 - acc: 0.9591 - val_loss: 0.1265 - val_acc: 0.9564\n",
            "Epoch 25/100\n",
            "225368/225368 [==============================] - 21s 93us/step - loss: 0.1193 - acc: 0.9595 - val_loss: 0.1495 - val_acc: 0.9488\n",
            "Epoch 26/100\n",
            "225368/225368 [==============================] - 21s 93us/step - loss: 0.1182 - acc: 0.9598 - val_loss: 0.1258 - val_acc: 0.9572\n",
            "Epoch 27/100\n",
            "225368/225368 [==============================] - 21s 92us/step - loss: 0.1169 - acc: 0.9603 - val_loss: 0.1605 - val_acc: 0.9459\n",
            "Epoch 28/100\n",
            "225368/225368 [==============================] - 21s 92us/step - loss: 0.1153 - acc: 0.9609 - val_loss: 0.1236 - val_acc: 0.9583\n",
            "Epoch 29/100\n",
            "225368/225368 [==============================] - 21s 93us/step - loss: 0.1154 - acc: 0.9611 - val_loss: 0.1201 - val_acc: 0.9584\n",
            "Epoch 30/100\n",
            "225368/225368 [==============================] - 21s 93us/step - loss: 0.1150 - acc: 0.9612 - val_loss: 0.1298 - val_acc: 0.9548\n",
            "Epoch 31/100\n",
            "225368/225368 [==============================] - 21s 92us/step - loss: 0.1137 - acc: 0.9613 - val_loss: 0.1254 - val_acc: 0.9588\n",
            "Epoch 32/100\n",
            "225368/225368 [==============================] - 21s 93us/step - loss: 0.1131 - acc: 0.9616 - val_loss: 0.1323 - val_acc: 0.9537\n",
            "Epoch 33/100\n",
            "225368/225368 [==============================] - 21s 92us/step - loss: 0.1119 - acc: 0.9621 - val_loss: 0.1381 - val_acc: 0.9527\n",
            "Epoch 34/100\n",
            "225368/225368 [==============================] - 21s 92us/step - loss: 0.1121 - acc: 0.9621 - val_loss: 0.1305 - val_acc: 0.9533\n",
            "Epoch 35/100\n",
            "225368/225368 [==============================] - 21s 92us/step - loss: 0.1108 - acc: 0.9626 - val_loss: 0.1255 - val_acc: 0.9558\n",
            "Epoch 36/100\n",
            "225368/225368 [==============================] - 21s 92us/step - loss: 0.1106 - acc: 0.9624 - val_loss: 0.1499 - val_acc: 0.9535\n",
            "Epoch 37/100\n",
            "225368/225368 [==============================] - 21s 93us/step - loss: 0.1090 - acc: 0.9629 - val_loss: 0.1228 - val_acc: 0.9580\n",
            "Epoch 38/100\n",
            "225368/225368 [==============================] - 21s 92us/step - loss: 0.1095 - acc: 0.9626 - val_loss: 0.1195 - val_acc: 0.9594\n",
            "Epoch 39/100\n",
            "225368/225368 [==============================] - 21s 92us/step - loss: 0.1092 - acc: 0.9630 - val_loss: 0.1239 - val_acc: 0.9581\n",
            "Epoch 40/100\n",
            "225368/225368 [==============================] - 21s 91us/step - loss: 0.1088 - acc: 0.9632 - val_loss: 0.1181 - val_acc: 0.9596\n",
            "Epoch 41/100\n",
            "225368/225368 [==============================] - 21s 92us/step - loss: 0.1078 - acc: 0.9633 - val_loss: 0.1332 - val_acc: 0.9551\n",
            "Epoch 42/100\n",
            "225368/225368 [==============================] - 21s 91us/step - loss: 0.1080 - acc: 0.9633 - val_loss: 0.1507 - val_acc: 0.9497\n",
            "Epoch 43/100\n",
            "225368/225368 [==============================] - 21s 91us/step - loss: 0.1071 - acc: 0.9642 - val_loss: 0.1383 - val_acc: 0.9580\n",
            "Epoch 44/100\n",
            "225368/225368 [==============================] - 21s 92us/step - loss: 0.1068 - acc: 0.9639 - val_loss: 0.1638 - val_acc: 0.9523\n",
            "Epoch 45/100\n",
            "225368/225368 [==============================] - 21s 92us/step - loss: 0.1064 - acc: 0.9643 - val_loss: 0.1506 - val_acc: 0.9462\n",
            "Epoch 46/100\n",
            "225368/225368 [==============================] - 21s 92us/step - loss: 0.1059 - acc: 0.9644 - val_loss: 0.1196 - val_acc: 0.9595\n",
            "Epoch 47/100\n",
            "225368/225368 [==============================] - 21s 92us/step - loss: 0.1053 - acc: 0.9647 - val_loss: 0.1285 - val_acc: 0.9589\n",
            "Epoch 48/100\n",
            "225368/225368 [==============================] - 21s 92us/step - loss: 0.1058 - acc: 0.9646 - val_loss: 0.1193 - val_acc: 0.9590\n",
            "Epoch 49/100\n",
            "225368/225368 [==============================] - 21s 92us/step - loss: 0.1048 - acc: 0.9646 - val_loss: 0.1305 - val_acc: 0.9591\n",
            "Epoch 50/100\n",
            "225368/225368 [==============================] - 21s 93us/step - loss: 0.1052 - acc: 0.9649 - val_loss: 0.1211 - val_acc: 0.9591\n",
            "Epoch 51/100\n",
            "225368/225368 [==============================] - 21s 92us/step - loss: 0.1043 - acc: 0.9652 - val_loss: 0.1326 - val_acc: 0.9535\n",
            "Epoch 52/100\n",
            "225368/225368 [==============================] - 21s 93us/step - loss: 0.1041 - acc: 0.9650 - val_loss: 0.1250 - val_acc: 0.9598\n",
            "Epoch 53/100\n",
            "225368/225368 [==============================] - 21s 92us/step - loss: 0.1040 - acc: 0.9650 - val_loss: 0.1225 - val_acc: 0.9596\n",
            "Epoch 54/100\n",
            "225368/225368 [==============================] - 21s 92us/step - loss: 0.1042 - acc: 0.9650 - val_loss: 0.1235 - val_acc: 0.9610\n",
            "Epoch 55/100\n",
            "225368/225368 [==============================] - 21s 92us/step - loss: 0.1043 - acc: 0.9648 - val_loss: 0.1135 - val_acc: 0.9613\n",
            "Epoch 56/100\n",
            "225368/225368 [==============================] - 21s 92us/step - loss: 0.1035 - acc: 0.9653 - val_loss: 0.1217 - val_acc: 0.9597\n",
            "Epoch 57/100\n",
            "225368/225368 [==============================] - 21s 92us/step - loss: 0.1034 - acc: 0.9652 - val_loss: 0.1451 - val_acc: 0.9458\n",
            "Epoch 58/100\n",
            "225368/225368 [==============================] - 21s 92us/step - loss: 0.1034 - acc: 0.9652 - val_loss: 0.1219 - val_acc: 0.9597\n",
            "Epoch 59/100\n",
            "225368/225368 [==============================] - 21s 92us/step - loss: 0.1028 - acc: 0.9652 - val_loss: 0.1174 - val_acc: 0.9625\n",
            "Epoch 60/100\n",
            "225368/225368 [==============================] - 21s 91us/step - loss: 0.1021 - acc: 0.9658 - val_loss: 0.1191 - val_acc: 0.9602\n",
            "Epoch 61/100\n",
            "225368/225368 [==============================] - 20s 91us/step - loss: 0.1032 - acc: 0.9651 - val_loss: 0.1286 - val_acc: 0.9555\n",
            "Epoch 62/100\n",
            "225368/225368 [==============================] - 21s 92us/step - loss: 0.1035 - acc: 0.9652 - val_loss: 0.1137 - val_acc: 0.9619\n",
            "Epoch 63/100\n",
            "225368/225368 [==============================] - 21s 91us/step - loss: 0.1028 - acc: 0.9655 - val_loss: 0.1287 - val_acc: 0.9551\n",
            "Epoch 64/100\n",
            "225368/225368 [==============================] - 21s 92us/step - loss: 0.1029 - acc: 0.9655 - val_loss: 0.1258 - val_acc: 0.9593\n",
            "Epoch 65/100\n",
            "225368/225368 [==============================] - 20s 91us/step - loss: 0.1022 - acc: 0.9656 - val_loss: 0.1228 - val_acc: 0.9596\n",
            "Epoch 66/100\n",
            "225368/225368 [==============================] - 21s 92us/step - loss: 0.1026 - acc: 0.9654 - val_loss: 0.1453 - val_acc: 0.9542\n",
            "Epoch 67/100\n",
            "225368/225368 [==============================] - 21s 93us/step - loss: 0.1033 - acc: 0.9656 - val_loss: 0.1205 - val_acc: 0.9618\n",
            "Epoch 68/100\n",
            "225368/225368 [==============================] - 21s 91us/step - loss: 0.1017 - acc: 0.9663 - val_loss: 0.1174 - val_acc: 0.9610\n",
            "Epoch 69/100\n",
            "225368/225368 [==============================] - 21s 92us/step - loss: 0.1014 - acc: 0.9660 - val_loss: 0.1163 - val_acc: 0.9617\n",
            "Epoch 70/100\n",
            "225368/225368 [==============================] - 21s 91us/step - loss: 0.1011 - acc: 0.9656 - val_loss: 0.1145 - val_acc: 0.9618\n",
            "Epoch 71/100\n",
            "225368/225368 [==============================] - 20s 91us/step - loss: 0.1021 - acc: 0.9662 - val_loss: 0.1142 - val_acc: 0.9627\n",
            "Epoch 72/100\n",
            "225368/225368 [==============================] - 21s 92us/step - loss: 0.1022 - acc: 0.9658 - val_loss: 0.1322 - val_acc: 0.9542\n",
            "Epoch 73/100\n",
            "225368/225368 [==============================] - 21s 92us/step - loss: 0.1013 - acc: 0.9660 - val_loss: 0.1131 - val_acc: 0.9624\n",
            "Epoch 74/100\n",
            "225368/225368 [==============================] - 21s 91us/step - loss: 0.1015 - acc: 0.9660 - val_loss: 0.1176 - val_acc: 0.9604\n",
            "Epoch 75/100\n",
            "225368/225368 [==============================] - 21s 92us/step - loss: 0.1018 - acc: 0.9655 - val_loss: 0.1238 - val_acc: 0.9570\n",
            "Epoch 76/100\n",
            "225368/225368 [==============================] - 21s 91us/step - loss: 0.1008 - acc: 0.9661 - val_loss: 0.1360 - val_acc: 0.9504\n",
            "Epoch 77/100\n",
            "225368/225368 [==============================] - 21s 92us/step - loss: 0.1009 - acc: 0.9662 - val_loss: 0.1296 - val_acc: 0.9589\n",
            "Epoch 78/100\n",
            "225368/225368 [==============================] - 21s 91us/step - loss: 0.1006 - acc: 0.9664 - val_loss: 0.1305 - val_acc: 0.9581\n",
            "Epoch 79/100\n",
            "225368/225368 [==============================] - 21s 92us/step - loss: 0.1014 - acc: 0.9667 - val_loss: 0.1606 - val_acc: 0.9488\n",
            "Epoch 80/100\n",
            "225368/225368 [==============================] - 21s 91us/step - loss: 0.1010 - acc: 0.9664 - val_loss: 0.1613 - val_acc: 0.9510\n",
            "Epoch 81/100\n",
            "225368/225368 [==============================] - 20s 91us/step - loss: 0.1015 - acc: 0.9658 - val_loss: 0.1141 - val_acc: 0.9611\n",
            "Epoch 82/100\n",
            "225368/225368 [==============================] - 21s 92us/step - loss: 0.1009 - acc: 0.9663 - val_loss: 0.1283 - val_acc: 0.9562\n",
            "Epoch 83/100\n",
            "225368/225368 [==============================] - 21s 92us/step - loss: 0.1010 - acc: 0.9666 - val_loss: 0.1184 - val_acc: 0.9618\n",
            "Epoch 84/100\n",
            "225368/225368 [==============================] - 21s 91us/step - loss: 0.1010 - acc: 0.9666 - val_loss: 0.1179 - val_acc: 0.9618\n",
            "Epoch 85/100\n",
            "225368/225368 [==============================] - 21s 91us/step - loss: 0.1004 - acc: 0.9665 - val_loss: 0.1161 - val_acc: 0.9611\n",
            "Epoch 86/100\n",
            "225368/225368 [==============================] - 20s 91us/step - loss: 0.1019 - acc: 0.9662 - val_loss: 0.1208 - val_acc: 0.9600\n",
            "Epoch 87/100\n",
            "225368/225368 [==============================] - 20s 90us/step - loss: 0.1007 - acc: 0.9663 - val_loss: 0.1197 - val_acc: 0.9611\n",
            "Epoch 88/100\n",
            "225368/225368 [==============================] - 21s 91us/step - loss: 0.1009 - acc: 0.9660 - val_loss: 0.1162 - val_acc: 0.9636\n",
            "Epoch 89/100\n",
            "225368/225368 [==============================] - 20s 91us/step - loss: 0.1006 - acc: 0.9663 - val_loss: 0.1385 - val_acc: 0.9516\n",
            "Epoch 90/100\n",
            "225368/225368 [==============================] - 20s 91us/step - loss: 0.1014 - acc: 0.9659 - val_loss: 0.1135 - val_acc: 0.9624\n",
            "Epoch 91/100\n",
            "225368/225368 [==============================] - 20s 91us/step - loss: 0.0994 - acc: 0.9669 - val_loss: 0.1492 - val_acc: 0.9548\n",
            "Epoch 92/100\n",
            "225368/225368 [==============================] - 21s 92us/step - loss: 0.0998 - acc: 0.9665 - val_loss: 0.1320 - val_acc: 0.9580\n",
            "Epoch 93/100\n",
            "225368/225368 [==============================] - 20s 90us/step - loss: 0.1004 - acc: 0.9664 - val_loss: 0.1215 - val_acc: 0.9589\n",
            "Epoch 94/100\n",
            "225368/225368 [==============================] - 21s 91us/step - loss: 0.1009 - acc: 0.9661 - val_loss: 0.1292 - val_acc: 0.9574\n",
            "Epoch 95/100\n",
            "225368/225368 [==============================] - 21s 91us/step - loss: 0.1011 - acc: 0.9663 - val_loss: 0.1169 - val_acc: 0.9619\n",
            "Epoch 96/100\n",
            "225368/225368 [==============================] - 21s 92us/step - loss: 0.1006 - acc: 0.9663 - val_loss: 0.1214 - val_acc: 0.9606\n",
            "Epoch 97/100\n",
            "225368/225368 [==============================] - 21s 92us/step - loss: 0.1005 - acc: 0.9666 - val_loss: 0.1395 - val_acc: 0.9550\n",
            "Epoch 98/100\n",
            "225368/225368 [==============================] - 21s 92us/step - loss: 0.1010 - acc: 0.9659 - val_loss: 0.1187 - val_acc: 0.9626\n",
            "Epoch 99/100\n",
            "225368/225368 [==============================] - 21s 92us/step - loss: 0.1007 - acc: 0.9666 - val_loss: 0.1242 - val_acc: 0.9586\n",
            "Epoch 100/100\n",
            "225368/225368 [==============================] - 21s 91us/step - loss: 0.1003 - acc: 0.9666 - val_loss: 0.1170 - val_acc: 0.9601\n"
          ],
          "name": "stdout"
        }
      ]
    },
    {
      "cell_type": "code",
      "metadata": {
        "id": "xurxp2GupUDg",
        "colab_type": "code",
        "colab": {
          "base_uri": "https://localhost:8080/",
          "height": 545
        },
        "outputId": "798a95dd-b958-42a1-c4b6-43d72af0fe04"
      },
      "source": [
        "plot_model_training_results(history)"
      ],
      "execution_count": 27,
      "outputs": [
        {
          "output_type": "display_data",
          "data": {
            "image/png": "[encoded data removed]",
            "text/plain": [
              "<Figure size 432x288 with 1 Axes>"
            ]
          },
          "metadata": {
            "tags": []
          }
        },
        {
          "output_type": "display_data",
          "data": {
            "image/png": "[encoded data removed]",
            "text/plain": [
              "<Figure size 432x288 with 1 Axes>"
            ]
          },
          "metadata": {
            "tags": []
          }
        }
      ]
    },
    {
      "cell_type": "code",
      "metadata": {
        "id": "GO296OpLpXfk",
        "colab_type": "code",
        "colab": {
          "base_uri": "https://localhost:8080/",
          "height": 34
        },
        "outputId": "daa57050-d629-450f-b8f6-17875ca6d9c3"
      },
      "source": [
        "y_predicted = rnn_model.predict_classes(X_test)\n",
        "\n",
        "# the output is provided as a list of lists (as if the output of the classifier \n",
        "# would have been multidimensional (binary classifier as a special case of\n",
        "# multiclass classifier)) so flatten out this list of list\n",
        "y_predicted = [item for sublist in y_predicted for item in sublist]\n",
        "\n",
        "accuracy = np.mean(y_predicted == y_test)\n",
        "print(\"Accuracy of the simpleRNN model on the holdout set of size {} is {}\".format(len(y_test), accuracy))"
      ],
      "execution_count": 28,
      "outputs": [
        {
          "output_type": "stream",
          "text": [
            "Accuracy of the simpleRNN model on the holdout set of size 138754 is 0.9611110310333396\n"
          ],
          "name": "stdout"
        }
      ]
    },
    {
      "cell_type": "code",
      "metadata": {
        "id": "YwP4trWQpahG",
        "colab_type": "code",
        "colab": {
          "base_uri": "https://localhost:8080/",
          "height": 295
        },
        "outputId": "21c18516-2756-43e7-d5d5-e864d8d63a87"
      },
      "source": [
        "\n",
        "plot_roc_curve(y_test, y_predicted, \"SimpleRNN\")"
      ],
      "execution_count": 29,
      "outputs": [
        {
          "output_type": "display_data",
          "data": {
            "image/png": "[encoded data removed]",
            "text/plain": [
              "<Figure size 432x288 with 1 Axes>"
            ]
          },
          "metadata": {
            "tags": []
          }
        }
      ]
    },
    {
      "cell_type": "code",
      "metadata": {
        "id": "ECfhorP5pcj9",
        "colab_type": "code",
        "colab": {
          "base_uri": "https://localhost:8080/",
          "height": 348
        },
        "outputId": "260981f6-31ab-4c0d-c48c-cdaa73da6690"
      },
      "source": [
        "# Compute confusion matrix\n",
        "cnf_matrix = confusion_matrix(list(y_test), y_predicted)\n",
        "np.set_printoptions(precision=2)\n",
        "\n",
        "# Plot non-normalized confusion matrix\n",
        "plt.figure()\n",
        "plot_confusion_matrix(cnf_matrix, classes=['benign', 'malware'],\n",
        "                      title='Confusion matrix for RNN model')"
      ],
      "execution_count": 30,
      "outputs": [
        {
          "output_type": "stream",
          "text": [
            "Confusion matrix, without normalization\n",
            "[[110993   2776]\n",
            " [  2620  22365]]\n"
          ],
          "name": "stdout"
        },
        {
          "output_type": "display_data",
          "data": {
            "image/png": "[encoded data removed]",
            "text/plain": [
              "<Figure size 432x288 with 2 Axes>"
            ]
          },
          "metadata": {
            "tags": []
          }
        }
      ]
    },
    {
      "cell_type": "code",
      "metadata": {
        "id": "6g4QKlAvpghm",
        "colab_type": "code",
        "colab": {
          "base_uri": "https://localhost:8080/",
          "height": 170
        },
        "outputId": "136e1e8d-9f15-4682-ad62-4f503678813c"
      },
      "source": [
        "\n",
        "from sklearn.metrics import classification_report\n",
        "print(classification_report(y_test, y_predicted))"
      ],
      "execution_count": 31,
      "outputs": [
        {
          "output_type": "stream",
          "text": [
            "              precision    recall  f1-score   support\n",
            "\n",
            "           0       0.98      0.98      0.98    113769\n",
            "           1       0.89      0.90      0.89     24985\n",
            "\n",
            "    accuracy                           0.96    138754\n",
            "   macro avg       0.93      0.94      0.93    138754\n",
            "weighted avg       0.96      0.96      0.96    138754\n",
            "\n"
          ],
          "name": "stdout"
        }
      ]
    },
    {
      "cell_type": "code",
      "metadata": {
        "id": "3srH2gA6phoM",
        "colab_type": "code",
        "colab": {}
      },
      "source": [
        "y_predicted_rnn = y_predicted"
      ],
      "execution_count": 0,
      "outputs": []
    },
    {
      "cell_type": "markdown",
      "metadata": {
        "id": "Mj3cAwO3J-oS",
        "colab_type": "text"
      },
      "source": [
        "##1 D CNN\n",
        " using a 1D CNN layer with 64 kernels .  achieved the  97% f1 scores accuracy(similar with simple rnn) , also, the results got 98% accuracy on benign URLs and 92% on malicious URLs."
      ]
    },
    {
      "cell_type": "code",
      "metadata": {
        "id": "KyyFG0E7plmD",
        "colab_type": "code",
        "colab": {
          "base_uri": "https://localhost:8080/",
          "height": 1000
        },
        "outputId": "93d880a9-c3e5-4af4-a8b5-073cb2f1c8cf"
      },
      "source": [
        "\n",
        "from keras.layers import Dense, Flatten, LSTM, Conv1D, MaxPooling1D, Dropout, Activation, GlobalMaxPooling1D\n",
        "max_features = len(dct)\n",
        "cnn_model = Sequential()\n",
        "cnn_model.add(Embedding(max_features, 64, input_length=50))\n",
        "cnn_model.add(Dropout(0.2))\n",
        "cnn_model.add(Conv1D(64, 5, activation='relu'))5\n",
        "cnn_model.add(GlobalMaxPooling1D())\n",
        "cnn_model.add(Dense(1, activation='sigmoid'))\n",
        "cnn_model.compile(loss='binary_crossentropy', optimizer='adam',    metrics=['accuracy'])\n",
        "    \n",
        "print(cnn_model.summary())\n",
        "\n",
        "history = cnn_model.fit(X_train, y_train, epochs=100, batch_size=256, validation_split=0.2)"
      ],
      "execution_count": 33,
      "outputs": [
        {
          "output_type": "stream",
          "text": [
            "WARNING:tensorflow:From /usr/local/lib/python3.6/dist-packages/keras/backend/tensorflow_backend.py:148: The name tf.placeholder_with_default is deprecated. Please use tf.compat.v1.placeholder_with_default instead.\n",
            "\n",
            "WARNING:tensorflow:From /usr/local/lib/python3.6/dist-packages/keras/backend/tensorflow_backend.py:3733: calling dropout (from tensorflow.python.ops.nn_ops) with keep_prob is deprecated and will be removed in a future version.\n",
            "Instructions for updating:\n",
            "Please use `rate` instead of `keep_prob`. Rate should be set to `rate = 1 - keep_prob`.\n",
            "Model: \"sequential_2\"\n",
            "_________________________________________________________________\n",
            "Layer (type)                 Output Shape              Param #   \n",
            "=================================================================\n",
            "embedding_2 (Embedding)      (None, 50, 64)            11456     \n",
            "_________________________________________________________________\n",
            "dropout_1 (Dropout)          (None, 50, 64)            0         \n",
            "_________________________________________________________________\n",
            "conv1d_1 (Conv1D)            (None, 46, 64)            20544     \n",
            "_________________________________________________________________\n",
            "global_max_pooling1d_1 (Glob (None, 64)                0         \n",
            "_________________________________________________________________\n",
            "dense_2 (Dense)              (None, 1)                 65        \n",
            "=================================================================\n",
            "Total params: 32,065\n",
            "Trainable params: 32,065\n",
            "Non-trainable params: 0\n",
            "_________________________________________________________________\n",
            "None\n",
            "Train on 225368 samples, validate on 56342 samples\n",
            "Epoch 1/100\n",
            "225368/225368 [==============================] - 7s 29us/step - loss: 0.2272 - acc: 0.9142 - val_loss: 0.1446 - val_acc: 0.9483\n",
            "Epoch 2/100\n",
            "225368/225368 [==============================] - 6s 25us/step - loss: 0.1314 - acc: 0.9530 - val_loss: 0.1143 - val_acc: 0.9606\n",
            "Epoch 3/100\n",
            "225368/225368 [==============================] - 6s 25us/step - loss: 0.1112 - acc: 0.9610 - val_loss: 0.1087 - val_acc: 0.9623\n",
            "Epoch 4/100\n",
            "225368/225368 [==============================] - 6s 25us/step - loss: 0.1019 - acc: 0.9645 - val_loss: 0.0972 - val_acc: 0.9668\n",
            "Epoch 5/100\n",
            "225368/225368 [==============================] - 5s 24us/step - loss: 0.0948 - acc: 0.9670 - val_loss: 0.0925 - val_acc: 0.9686\n",
            "Epoch 6/100\n",
            "225368/225368 [==============================] - 6s 25us/step - loss: 0.0918 - acc: 0.9683 - val_loss: 0.0907 - val_acc: 0.9692\n",
            "Epoch 7/100\n",
            "225368/225368 [==============================] - 6s 25us/step - loss: 0.0879 - acc: 0.9697 - val_loss: 0.0870 - val_acc: 0.9705\n",
            "Epoch 8/100\n",
            "225368/225368 [==============================] - 6s 25us/step - loss: 0.0850 - acc: 0.9706 - val_loss: 0.0879 - val_acc: 0.9701\n",
            "Epoch 9/100\n",
            "225368/225368 [==============================] - 6s 25us/step - loss: 0.0823 - acc: 0.9714 - val_loss: 0.0831 - val_acc: 0.9716\n",
            "Epoch 10/100\n",
            "225368/225368 [==============================] - 6s 25us/step - loss: 0.0805 - acc: 0.9722 - val_loss: 0.0866 - val_acc: 0.9707\n",
            "Epoch 11/100\n",
            "225368/225368 [==============================] - 6s 25us/step - loss: 0.0797 - acc: 0.9722 - val_loss: 0.0810 - val_acc: 0.9721\n",
            "Epoch 12/100\n",
            "225368/225368 [==============================] - 6s 25us/step - loss: 0.0773 - acc: 0.9729 - val_loss: 0.0834 - val_acc: 0.9722\n",
            "Epoch 13/100\n",
            "225368/225368 [==============================] - 6s 25us/step - loss: 0.0764 - acc: 0.9733 - val_loss: 0.0852 - val_acc: 0.9715\n",
            "Epoch 14/100\n",
            "225368/225368 [==============================] - 6s 25us/step - loss: 0.0747 - acc: 0.9740 - val_loss: 0.0792 - val_acc: 0.9733\n",
            "Epoch 15/100\n",
            "225368/225368 [==============================] - 6s 25us/step - loss: 0.0736 - acc: 0.9742 - val_loss: 0.0791 - val_acc: 0.9731\n",
            "Epoch 16/100\n",
            "225368/225368 [==============================] - 6s 24us/step - loss: 0.0727 - acc: 0.9748 - val_loss: 0.0811 - val_acc: 0.9724\n",
            "Epoch 17/100\n",
            "225368/225368 [==============================] - 6s 25us/step - loss: 0.0712 - acc: 0.9751 - val_loss: 0.0783 - val_acc: 0.9736\n",
            "Epoch 18/100\n",
            "225368/225368 [==============================] - 6s 24us/step - loss: 0.0716 - acc: 0.9748 - val_loss: 0.0785 - val_acc: 0.9734\n",
            "Epoch 19/100\n",
            "225368/225368 [==============================] - 6s 26us/step - loss: 0.0708 - acc: 0.9750 - val_loss: 0.0767 - val_acc: 0.9741\n",
            "Epoch 20/100\n",
            "225368/225368 [==============================] - 6s 25us/step - loss: 0.0696 - acc: 0.9755 - val_loss: 0.0822 - val_acc: 0.9731\n",
            "Epoch 21/100\n",
            "225368/225368 [==============================] - 6s 24us/step - loss: 0.0694 - acc: 0.9756 - val_loss: 0.0769 - val_acc: 0.9742\n",
            "Epoch 22/100\n",
            "225368/225368 [==============================] - 5s 24us/step - loss: 0.0687 - acc: 0.9761 - val_loss: 0.0767 - val_acc: 0.9736\n",
            "Epoch 23/100\n",
            "225368/225368 [==============================] - 6s 25us/step - loss: 0.0679 - acc: 0.9762 - val_loss: 0.0767 - val_acc: 0.9738\n",
            "Epoch 24/100\n",
            "225368/225368 [==============================] - 5s 24us/step - loss: 0.0674 - acc: 0.9761 - val_loss: 0.0766 - val_acc: 0.9739\n",
            "Epoch 25/100\n",
            "225368/225368 [==============================] - 6s 25us/step - loss: 0.0673 - acc: 0.9761 - val_loss: 0.0763 - val_acc: 0.9744\n",
            "Epoch 26/100\n",
            "225368/225368 [==============================] - 6s 25us/step - loss: 0.0671 - acc: 0.9765 - val_loss: 0.0755 - val_acc: 0.9741\n",
            "Epoch 27/100\n",
            "225368/225368 [==============================] - 6s 25us/step - loss: 0.0659 - acc: 0.9766 - val_loss: 0.0754 - val_acc: 0.9742\n",
            "Epoch 28/100\n",
            "225368/225368 [==============================] - 5s 24us/step - loss: 0.0662 - acc: 0.9766 - val_loss: 0.0748 - val_acc: 0.9745\n",
            "Epoch 29/100\n",
            "225368/225368 [==============================] - 5s 24us/step - loss: 0.0651 - acc: 0.9770 - val_loss: 0.0764 - val_acc: 0.9744\n",
            "Epoch 30/100\n",
            "225368/225368 [==============================] - 6s 25us/step - loss: 0.0647 - acc: 0.9774 - val_loss: 0.0747 - val_acc: 0.9751\n",
            "Epoch 31/100\n",
            "225368/225368 [==============================] - 5s 24us/step - loss: 0.0650 - acc: 0.9772 - val_loss: 0.0743 - val_acc: 0.9752\n",
            "Epoch 32/100\n",
            "225368/225368 [==============================] - 6s 25us/step - loss: 0.0641 - acc: 0.9775 - val_loss: 0.0850 - val_acc: 0.9724\n",
            "Epoch 33/100\n",
            "225368/225368 [==============================] - 6s 25us/step - loss: 0.0646 - acc: 0.9775 - val_loss: 0.0739 - val_acc: 0.9753\n",
            "Epoch 34/100\n",
            "225368/225368 [==============================] - 6s 24us/step - loss: 0.0644 - acc: 0.9769 - val_loss: 0.0772 - val_acc: 0.9741\n",
            "Epoch 35/100\n",
            "225368/225368 [==============================] - 6s 25us/step - loss: 0.0640 - acc: 0.9774 - val_loss: 0.0743 - val_acc: 0.9749\n",
            "Epoch 36/100\n",
            "225368/225368 [==============================] - 6s 25us/step - loss: 0.0631 - acc: 0.9779 - val_loss: 0.0738 - val_acc: 0.9752\n",
            "Epoch 37/100\n",
            "225368/225368 [==============================] - 6s 25us/step - loss: 0.0635 - acc: 0.9774 - val_loss: 0.0745 - val_acc: 0.9750\n",
            "Epoch 38/100\n",
            "225368/225368 [==============================] - 6s 25us/step - loss: 0.0633 - acc: 0.9773 - val_loss: 0.0808 - val_acc: 0.9733\n",
            "Epoch 39/100\n",
            "225368/225368 [==============================] - 6s 26us/step - loss: 0.0634 - acc: 0.9774 - val_loss: 0.0752 - val_acc: 0.9750\n",
            "Epoch 40/100\n",
            "225368/225368 [==============================] - 6s 25us/step - loss: 0.0626 - acc: 0.9776 - val_loss: 0.0728 - val_acc: 0.9755\n",
            "Epoch 41/100\n",
            "225368/225368 [==============================] - 6s 25us/step - loss: 0.0615 - acc: 0.9785 - val_loss: 0.0729 - val_acc: 0.9756\n",
            "Epoch 42/100\n",
            "225368/225368 [==============================] - 6s 25us/step - loss: 0.0618 - acc: 0.9780 - val_loss: 0.0749 - val_acc: 0.9752\n",
            "Epoch 43/100\n",
            "225368/225368 [==============================] - 5s 24us/step - loss: 0.0616 - acc: 0.9783 - val_loss: 0.0730 - val_acc: 0.9754\n",
            "Epoch 44/100\n",
            "225368/225368 [==============================] - 6s 25us/step - loss: 0.0621 - acc: 0.9781 - val_loss: 0.0723 - val_acc: 0.9752\n",
            "Epoch 45/100\n",
            "225368/225368 [==============================] - 5s 24us/step - loss: 0.0621 - acc: 0.9779 - val_loss: 0.0730 - val_acc: 0.9761\n",
            "Epoch 46/100\n",
            "225368/225368 [==============================] - 6s 25us/step - loss: 0.0611 - acc: 0.9787 - val_loss: 0.0726 - val_acc: 0.9760\n",
            "Epoch 47/100\n",
            "225368/225368 [==============================] - 6s 25us/step - loss: 0.0607 - acc: 0.9789 - val_loss: 0.0732 - val_acc: 0.9757\n",
            "Epoch 48/100\n",
            "225368/225368 [==============================] - 6s 24us/step - loss: 0.0603 - acc: 0.9786 - val_loss: 0.0759 - val_acc: 0.9752\n",
            "Epoch 49/100\n",
            "225368/225368 [==============================] - 6s 25us/step - loss: 0.0610 - acc: 0.9784 - val_loss: 0.0731 - val_acc: 0.9762\n",
            "Epoch 50/100\n",
            "225368/225368 [==============================] - 6s 25us/step - loss: 0.0605 - acc: 0.9786 - val_loss: 0.0746 - val_acc: 0.9753\n",
            "Epoch 51/100\n",
            "225368/225368 [==============================] - 6s 25us/step - loss: 0.0602 - acc: 0.9786 - val_loss: 0.0777 - val_acc: 0.9735\n",
            "Epoch 52/100\n",
            "225368/225368 [==============================] - 6s 25us/step - loss: 0.0600 - acc: 0.9785 - val_loss: 0.0744 - val_acc: 0.9753\n",
            "Epoch 53/100\n",
            "225368/225368 [==============================] - 6s 25us/step - loss: 0.0595 - acc: 0.9791 - val_loss: 0.0742 - val_acc: 0.9749\n",
            "Epoch 54/100\n",
            "225368/225368 [==============================] - 6s 25us/step - loss: 0.0608 - acc: 0.9784 - val_loss: 0.0733 - val_acc: 0.9756\n",
            "Epoch 55/100\n",
            "225368/225368 [==============================] - 6s 25us/step - loss: 0.0602 - acc: 0.9787 - val_loss: 0.0743 - val_acc: 0.9757\n",
            "Epoch 56/100\n",
            "225368/225368 [==============================] - 6s 25us/step - loss: 0.0602 - acc: 0.9787 - val_loss: 0.0726 - val_acc: 0.9763\n",
            "Epoch 57/100\n",
            "225368/225368 [==============================] - 5s 24us/step - loss: 0.0604 - acc: 0.9788 - val_loss: 0.0723 - val_acc: 0.9761\n",
            "Epoch 58/100\n",
            "225368/225368 [==============================] - 6s 25us/step - loss: 0.0588 - acc: 0.9790 - val_loss: 0.0737 - val_acc: 0.9759\n",
            "Epoch 59/100\n",
            "225368/225368 [==============================] - 6s 25us/step - loss: 0.0593 - acc: 0.9792 - val_loss: 0.0743 - val_acc: 0.9751\n",
            "Epoch 60/100\n",
            "225368/225368 [==============================] - 6s 25us/step - loss: 0.0594 - acc: 0.9790 - val_loss: 0.0723 - val_acc: 0.9760\n",
            "Epoch 61/100\n",
            "225368/225368 [==============================] - 6s 25us/step - loss: 0.0591 - acc: 0.9787 - val_loss: 0.0712 - val_acc: 0.9764\n",
            "Epoch 62/100\n",
            "225368/225368 [==============================] - 6s 25us/step - loss: 0.0585 - acc: 0.9794 - val_loss: 0.0740 - val_acc: 0.9757\n",
            "Epoch 63/100\n",
            "225368/225368 [==============================] - 6s 25us/step - loss: 0.0591 - acc: 0.9789 - val_loss: 0.0708 - val_acc: 0.9765\n",
            "Epoch 64/100\n",
            "225368/225368 [==============================] - 5s 24us/step - loss: 0.0580 - acc: 0.9796 - val_loss: 0.0723 - val_acc: 0.9762\n",
            "Epoch 65/100\n",
            "225368/225368 [==============================] - 5s 24us/step - loss: 0.0585 - acc: 0.9791 - val_loss: 0.0722 - val_acc: 0.9760\n",
            "Epoch 66/100\n",
            "225368/225368 [==============================] - 6s 25us/step - loss: 0.0584 - acc: 0.9792 - val_loss: 0.0719 - val_acc: 0.9763\n",
            "Epoch 67/100\n",
            "225368/225368 [==============================] - 6s 25us/step - loss: 0.0585 - acc: 0.9795 - val_loss: 0.0758 - val_acc: 0.9740\n",
            "Epoch 68/100\n",
            "225368/225368 [==============================] - 6s 25us/step - loss: 0.0589 - acc: 0.9791 - val_loss: 0.0733 - val_acc: 0.9754\n",
            "Epoch 69/100\n",
            "225368/225368 [==============================] - 5s 24us/step - loss: 0.0582 - acc: 0.9791 - val_loss: 0.0728 - val_acc: 0.9764\n",
            "Epoch 70/100\n",
            "225368/225368 [==============================] - 5s 24us/step - loss: 0.0581 - acc: 0.9794 - val_loss: 0.0721 - val_acc: 0.9766\n",
            "Epoch 71/100\n",
            "225368/225368 [==============================] - 5s 24us/step - loss: 0.0579 - acc: 0.9795 - val_loss: 0.0712 - val_acc: 0.9768\n",
            "Epoch 72/100\n",
            "225368/225368 [==============================] - 5s 24us/step - loss: 0.0580 - acc: 0.9795 - val_loss: 0.0736 - val_acc: 0.9757\n",
            "Epoch 73/100\n",
            "225368/225368 [==============================] - 6s 24us/step - loss: 0.0576 - acc: 0.9794 - val_loss: 0.0735 - val_acc: 0.9763\n",
            "Epoch 74/100\n",
            "225368/225368 [==============================] - 6s 25us/step - loss: 0.0581 - acc: 0.9793 - val_loss: 0.0734 - val_acc: 0.9762\n",
            "Epoch 75/100\n",
            "225368/225368 [==============================] - 6s 25us/step - loss: 0.0579 - acc: 0.9796 - val_loss: 0.0719 - val_acc: 0.9762\n",
            "Epoch 76/100\n",
            "225368/225368 [==============================] - 5s 24us/step - loss: 0.0575 - acc: 0.9791 - val_loss: 0.0727 - val_acc: 0.9763\n",
            "Epoch 77/100\n",
            "225368/225368 [==============================] - 6s 25us/step - loss: 0.0572 - acc: 0.9798 - val_loss: 0.0757 - val_acc: 0.9757\n",
            "Epoch 78/100\n",
            "225368/225368 [==============================] - 5s 24us/step - loss: 0.0573 - acc: 0.9796 - val_loss: 0.0713 - val_acc: 0.9769\n",
            "Epoch 79/100\n",
            "225368/225368 [==============================] - 5s 24us/step - loss: 0.0575 - acc: 0.9796 - val_loss: 0.0721 - val_acc: 0.9767\n",
            "Epoch 80/100\n",
            "225368/225368 [==============================] - 5s 24us/step - loss: 0.0574 - acc: 0.9797 - val_loss: 0.0720 - val_acc: 0.9761\n",
            "Epoch 81/100\n",
            "225368/225368 [==============================] - 5s 24us/step - loss: 0.0565 - acc: 0.9800 - val_loss: 0.0725 - val_acc: 0.9764\n",
            "Epoch 82/100\n",
            "225368/225368 [==============================] - 5s 24us/step - loss: 0.0570 - acc: 0.9799 - val_loss: 0.0716 - val_acc: 0.9772\n",
            "Epoch 83/100\n",
            "225368/225368 [==============================] - 6s 25us/step - loss: 0.0573 - acc: 0.9797 - val_loss: 0.0731 - val_acc: 0.9769\n",
            "Epoch 84/100\n",
            "225368/225368 [==============================] - 6s 25us/step - loss: 0.0564 - acc: 0.9800 - val_loss: 0.0746 - val_acc: 0.9763\n",
            "Epoch 85/100\n",
            "225368/225368 [==============================] - 5s 24us/step - loss: 0.0570 - acc: 0.9799 - val_loss: 0.0723 - val_acc: 0.9765\n",
            "Epoch 86/100\n",
            "225368/225368 [==============================] - 6s 25us/step - loss: 0.0569 - acc: 0.9798 - val_loss: 0.0744 - val_acc: 0.9753\n",
            "Epoch 87/100\n",
            "225368/225368 [==============================] - 6s 24us/step - loss: 0.0563 - acc: 0.9799 - val_loss: 0.0718 - val_acc: 0.9765\n",
            "Epoch 88/100\n",
            "225368/225368 [==============================] - 6s 25us/step - loss: 0.0569 - acc: 0.9800 - val_loss: 0.0747 - val_acc: 0.9764\n",
            "Epoch 89/100\n",
            "225368/225368 [==============================] - 5s 24us/step - loss: 0.0567 - acc: 0.9798 - val_loss: 0.0714 - val_acc: 0.9771\n",
            "Epoch 90/100\n",
            "225368/225368 [==============================] - 6s 25us/step - loss: 0.0563 - acc: 0.9800 - val_loss: 0.0717 - val_acc: 0.9770\n",
            "Epoch 91/100\n",
            "225368/225368 [==============================] - 5s 24us/step - loss: 0.0560 - acc: 0.9802 - val_loss: 0.0724 - val_acc: 0.9764\n",
            "Epoch 92/100\n",
            "225368/225368 [==============================] - 6s 25us/step - loss: 0.0568 - acc: 0.9796 - val_loss: 0.0719 - val_acc: 0.9768\n",
            "Epoch 93/100\n",
            "225368/225368 [==============================] - 5s 24us/step - loss: 0.0562 - acc: 0.9799 - val_loss: 0.0747 - val_acc: 0.9758\n",
            "Epoch 94/100\n",
            "225368/225368 [==============================] - 6s 25us/step - loss: 0.0567 - acc: 0.9800 - val_loss: 0.0737 - val_acc: 0.9761\n",
            "Epoch 95/100\n",
            "225368/225368 [==============================] - 6s 26us/step - loss: 0.0554 - acc: 0.9804 - val_loss: 0.0712 - val_acc: 0.9770\n",
            "Epoch 96/100\n",
            "225368/225368 [==============================] - 5s 24us/step - loss: 0.0566 - acc: 0.9797 - val_loss: 0.0732 - val_acc: 0.9761\n",
            "Epoch 97/100\n",
            "225368/225368 [==============================] - 5s 24us/step - loss: 0.0562 - acc: 0.9803 - val_loss: 0.0724 - val_acc: 0.9768\n",
            "Epoch 98/100\n",
            "225368/225368 [==============================] - 5s 24us/step - loss: 0.0558 - acc: 0.9804 - val_loss: 0.0730 - val_acc: 0.9762\n",
            "Epoch 99/100\n",
            "225368/225368 [==============================] - 5s 24us/step - loss: 0.0556 - acc: 0.9801 - val_loss: 0.0748 - val_acc: 0.9755\n",
            "Epoch 100/100\n",
            "225368/225368 [==============================] - 6s 25us/step - loss: 0.0567 - acc: 0.9801 - val_loss: 0.0730 - val_acc: 0.9768\n"
          ],
          "name": "stdout"
        }
      ]
    },
    {
      "cell_type": "code",
      "metadata": {
        "id": "h7tdJBDYpoXN",
        "colab_type": "code",
        "colab": {
          "base_uri": "https://localhost:8080/",
          "height": 545
        },
        "outputId": "e4d491eb-999b-4843-9016-332f49e25d6d"
      },
      "source": [
        "plot_model_training_results(history)"
      ],
      "execution_count": 39,
      "outputs": [
        {
          "output_type": "display_data",
          "data": {
            "image/png": "[encoded data removed]",
            "text/plain": [
              "<Figure size 432x288 with 1 Axes>"
            ]
          },
          "metadata": {
            "tags": []
          }
        },
        {
          "output_type": "display_data",
          "data": {
            "image/png": "[encoded data removed]",
            "text/plain": [
              "<Figure size 432x288 with 1 Axes>"
            ]
          },
          "metadata": {
            "tags": []
          }
        }
      ]
    },
    {
      "cell_type": "code",
      "metadata": {
        "id": "_FFT4anzpq8j",
        "colab_type": "code",
        "colab": {
          "base_uri": "https://localhost:8080/",
          "height": 34
        },
        "outputId": "273fa5eb-7455-4e7f-e25b-3afdf46c1b50"
      },
      "source": [
        "# determine accuracy on holdout set\n",
        "y_predicted = cnn_model.predict_classes(X_test)\n",
        "\n",
        "# the output is provided as a list of lists (as if the output of the classifier \n",
        "# would have been multidimensional (binary classifier as a special case of\n",
        "# multiclass classifier)) so flatten out this list of list\n",
        "y_predicted = [item for sublist in y_predicted for item in sublist]\n",
        "\n",
        "accuracy = np.mean(y_predicted == y_test)\n",
        "print(\"Accuracy of the CNN model on the holdout set of size {} is {}\".format(len(y_test), accuracy))"
      ],
      "execution_count": 34,
      "outputs": [
        {
          "output_type": "stream",
          "text": [
            "Accuracy of the CNN model on the holdout set of size 138754 is 0.9768727388039263\n"
          ],
          "name": "stdout"
        }
      ]
    },
    {
      "cell_type": "code",
      "metadata": {
        "id": "fl4xV1VOpvJX",
        "colab_type": "code",
        "colab": {
          "base_uri": "https://localhost:8080/",
          "height": 295
        },
        "outputId": "4fecf4c4-c2c6-489f-878a-87be7a1dbb4d"
      },
      "source": [
        "plot_roc_curve(y_test, y_predicted, \"CNN\")"
      ],
      "execution_count": 35,
      "outputs": [
        {
          "output_type": "display_data",
          "data": {
            "image/png": "[encoded data removed]",
            "text/plain": [
              "<Figure size 432x288 with 1 Axes>"
            ]
          },
          "metadata": {
            "tags": []
          }
        }
      ]
    },
    {
      "cell_type": "code",
      "metadata": {
        "id": "Jn9nyJ18pwTk",
        "colab_type": "code",
        "colab": {
          "base_uri": "https://localhost:8080/",
          "height": 348
        },
        "outputId": "83970aa4-2b10-4e7d-99e1-967f0c29b760"
      },
      "source": [
        "\n",
        "# Compute confusion matrix\n",
        "cnf_matrix = confusion_matrix(list(y_test), y_predicted)\n",
        "np.set_printoptions(precision=2)\n",
        "\n",
        "# Plot non-normalized confusion matrix\n",
        "plt.figure()\n",
        "plot_confusion_matrix(cnf_matrix, classes=['benign', 'malware'],\n",
        "                      title='Confusion matrix for CNN model')"
      ],
      "execution_count": 36,
      "outputs": [
        {
          "output_type": "stream",
          "text": [
            "Confusion matrix, without normalization\n",
            "[[112712   1057]\n",
            " [  2152  22833]]\n"
          ],
          "name": "stdout"
        },
        {
          "output_type": "display_data",
          "data": {
            "image/png": "[encoded data removed]",
            "text/plain": [
              "<Figure size 432x288 with 2 Axes>"
            ]
          },
          "metadata": {
            "tags": []
          }
        }
      ]
    },
    {
      "cell_type": "code",
      "metadata": {
        "id": "WrVs-bF9pz-Q",
        "colab_type": "code",
        "colab": {
          "base_uri": "https://localhost:8080/",
          "height": 170
        },
        "outputId": "804bda52-c011-4424-ac4d-ba6fbf7b27ff"
      },
      "source": [
        "\n",
        "from sklearn.metrics import classification_report\n",
        "print(classification_report(y_test, y_predicted))"
      ],
      "execution_count": 37,
      "outputs": [
        {
          "output_type": "stream",
          "text": [
            "              precision    recall  f1-score   support\n",
            "\n",
            "           0       0.98      0.99      0.99    113769\n",
            "           1       0.96      0.91      0.93     24985\n",
            "\n",
            "    accuracy                           0.98    138754\n",
            "   macro avg       0.97      0.95      0.96    138754\n",
            "weighted avg       0.98      0.98      0.98    138754\n",
            "\n"
          ],
          "name": "stdout"
        }
      ]
    },
    {
      "cell_type": "code",
      "metadata": {
        "id": "w3Aw61v0p3be",
        "colab_type": "code",
        "colab": {}
      },
      "source": [
        "y_predicted_cnn = y_predicted"
      ],
      "execution_count": 0,
      "outputs": []
    },
    {
      "cell_type": "markdown",
      "metadata": {
        "id": "ShjSuMANKZv9",
        "colab_type": "text"
      },
      "source": [
        "###3.3 Comparison betwen SimpleRNN and CNN for text classificiation###"
      ]
    },
    {
      "cell_type": "code",
      "metadata": {
        "id": "JiBjzX9up6Ct",
        "colab_type": "code",
        "colab": {
          "base_uri": "https://localhost:8080/",
          "height": 295
        },
        "outputId": "d395fe3c-4da4-4ca5-f63f-9044e3c513b2"
      },
      "source": [
        "fpr_keras_rnn, tpr_keras_rnn, thresholds_keras_rnn = roc_curve(y_test, y_predicted_rnn)\n",
        "fpr_keras_cnn, tpr_keras_cnn, thresholds_keras_cnn = roc_curve(y_test, y_predicted_cnn)\n",
        "  \n",
        "auc_keras_rnn = auc(fpr_keras_rnn, tpr_keras_rnn)\n",
        "auc_keras_cnn = auc(fpr_keras_cnn, tpr_keras_cnn)\n",
        "\n",
        "plt.figure(1)\n",
        "plt.plot([0, 1], [0, 1], 'k--')\n",
        "plt.plot(fpr_keras_rnn, tpr_keras_rnn, label='Keras RNN (area = {:.3f})'.format(auc_keras_rnn))\n",
        "plt.plot(fpr_keras_cnn, tpr_keras_cnn, label='Keras CNN (area = {:.3f})'.format(auc_keras_cnn))\n",
        "plt.xlabel('False positive rate')\n",
        "plt.ylabel('True positive rate')\n",
        "plt.title('ROC curve for SimpleRNN and CNN')\n",
        "plt.legend(loc='best')\n",
        "plt.show()"
      ],
      "execution_count": 40,
      "outputs": [
        {
          "output_type": "display_data",
          "data": {
            "image/png": "[encoded data removed]",
            "text/plain": [
              "<Figure size 432x288 with 1 Axes>"
            ]
          },
          "metadata": {
            "tags": []
          }
        }
      ]
    },
    {
      "cell_type": "markdown",
      "metadata": {
        "id": "HHRuKZfHKXGn",
        "colab_type": "text"
      },
      "source": [
        "\n",
        "for rnn and cnn in this case, the overall accuracy from f1 socres of both of them(96% and 98%)  are very similar. However, the CNN obtained better performance for identifying the malicious URLs at 92% ,compared to RNN which got only as compared to 86% for the counterpart.  Also, the plot above showed that Cnn attained  better AUC value  0.952 , when the RNN is with 0.935 auc . Therefore, we should use CNN for identfying true malicious URLS \n",
        ".In addition, the training time for CNN is much shorter than Rnn. "
      ]
    }
  ]
}