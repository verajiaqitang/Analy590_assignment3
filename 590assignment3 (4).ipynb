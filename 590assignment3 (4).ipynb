{
  "nbformat": 4,
  "nbformat_minor": 0,
  "metadata": {
    "colab": {
      "name": "590assignment3.ipynb",
      "provenance": [],
      "collapsed_sections": []
    },
    "kernelspec": {
      "name": "python3",
      "display_name": "Python 3"
    },
    "accelerator": "GPU"
  },
  "cells": [
    {
      "cell_type": "markdown",
      "metadata": {
        "id": "XjfcjUWpCBaT",
        "colab_type": "text"
      },
      "source": [
        "##Question 1##\n",
        "Convolutional Autoencoder for Fashion data\n",
        "\n",
        "##I used pytorch for quesiton1 and 2 , for question3, i used keras##"
      ]
    },
    {
      "cell_type": "code",
      "metadata": {
        "id": "FlV3iqK5lBY-",
        "colab_type": "code",
        "outputId": "38a57346-8bc8-4064-b7ed-844888804622",
        "colab": {
          "base_uri": "https://localhost:8080/",
          "height": 34
        }
      },
      "source": [
        "# import standard PyTorch modules\n",
        "import torch\n",
        "import torch.nn as nn\n",
        "import torch.nn.functional as F\n",
        "import torch.optim as optim\n",
        "from torch.utils.tensorboard import SummaryWriter # TensorBoard support\n",
        "\n",
        "# import torchvision module to handle image manipulation\n",
        "import torchvision\n",
        "import torchvision.transforms as transforms\n",
        "\n",
        "# calculate train time, writing train data to files etc.\n",
        "import time\n",
        "import pandas as pd\n",
        "import json\n",
        "from IPython.display import clear_output\n",
        "import random\n",
        "import matplotlib.pyplot as plt\n",
        "import torch\n",
        "from   torch.autograd import Variable\n",
        "\n",
        "import numpy as np\n",
        "import torchvision\n",
        "from   torchvision import datasets, transforms\n",
        "torch.set_printoptions(linewidth=120)\n",
        "torch.set_grad_enabled(True)  "
      ],
      "execution_count": 10,
      "outputs": [
        {
          "output_type": "execute_result",
          "data": {
            "text/plain": [
              "<torch.autograd.grad_mode.set_grad_enabled at 0x7f5bfae961d0>"
            ]
          },
          "metadata": {
            "tags": []
          },
          "execution_count": 10
        }
      ]
    },
    {
      "cell_type": "code",
      "metadata": {
        "id": "gwKaM9limjts",
        "colab_type": "code",
        "colab": {}
      },
      "source": [
        "\n",
        "# Use standard FashionMNIST dataset\n",
        "train_set = torchvision.datasets.FashionMNIST(\n",
        "    root = './data/FashionMNIST',\n",
        "    train = True,\n",
        "    download = True,\n",
        "    transform = transforms.Compose([\n",
        "        transforms.ToTensor()                                 \n",
        "    ])\n",
        ")"
      ],
      "execution_count": 0,
      "outputs": []
    },
    {
      "cell_type": "code",
      "metadata": {
        "id": "aImV0Ol9nkxF",
        "colab_type": "code",
        "colab": {}
      },
      "source": [
        "\n",
        "# Use standard FashionMNIST dataset test\n",
        "test_set = torchvision.datasets.FashionMNIST(\n",
        "    root = './data/FashionMNIST',\n",
        "    train = False,\n",
        "    download = True,\n",
        "    transform = transforms.Compose([\n",
        "        transforms.ToTensor()                                 \n",
        "    ])\n",
        ")"
      ],
      "execution_count": 0,
      "outputs": []
    },
    {
      "cell_type": "code",
      "metadata": {
        "id": "z7VXxw8go4-c",
        "colab_type": "code",
        "colab": {}
      },
      "source": [
        "\n",
        "IMAGE_SIZE = 784\n",
        "IMAGE_WIDTH = IMAGE_HEIGHT = 28\n",
        "\n",
        "# Hyperparameters\n",
        "code_size = 20\n",
        "num_epochs = 50\n",
        "batch_size = 128\n",
        "lr = 0.002\n",
        "optimizer_cls = optim.Adam"
      ],
      "execution_count": 0,
      "outputs": []
    },
    {
      "cell_type": "code",
      "metadata": {
        "id": "PL_ZqTU5o5p_",
        "colab_type": "code",
        "colab": {}
      },
      "source": [
        "##load train and test\n",
        "train_loader = torch.utils.data.DataLoader(train_set, shuffle=True, batch_size=batch_size, num_workers=4, drop_last=True)\n",
        "test_loader = torch.utils.data.DataLoader(test_set, shuffle=False, batch_size=batch_size, num_workers=4)"
      ],
      "execution_count": 0,
      "outputs": []
    },
    {
      "cell_type": "code",
      "metadata": {
        "id": "SUotR1hY-C12",
        "colab_type": "code",
        "outputId": "a5d0b45b-4747-472d-89e5-27e9f35d7dbf",
        "colab": {
          "base_uri": "https://localhost:8080/",
          "height": 499
        }
      },
      "source": [
        "##show the data\n",
        "classes = ('T-Shirt','Trouser','Pullover','Dress','Coat','Sandal','Shirt','Sneaker','Bag','Ankle Boot')\n",
        "def imshow(img):\n",
        "  npimg = img.numpy() #convert the tensor to numpy for displaying the image\n",
        "  plt.imshow(np.transpose(npimg, (1, 2, 0))) \n",
        "  plt.show()\n",
        "labels=['Shirt','Sneaker','Bag','Ankle Boot']\n",
        "plt.figure(figsize = (3,3)) \n",
        "\n",
        "labels_map = {0 : 'T-Shirt', 1 : 'Trouser', 2 : 'Pullover', 3 : 'Dress', 4 : 'Coat', 5 : 'Sandal', 6 : 'Shirt',\n",
        "              7 : 'Sneaker', 8 : 'Bag', 9 : 'Ankle Boot'};\n",
        "fig = plt.figure(figsize=(8,8));\n",
        "columns = 4;\n",
        "rows = 5;\n",
        "for i in range(1, columns*rows +1):\n",
        "    img_xy = np.random.randint(len(train_set));\n",
        "    img = train_set[img_xy][0][0,:,:]\n",
        "    fig.add_subplot(rows, columns, i)\n",
        "    plt.title(labels_map[train_set[img_xy][1]])\n",
        "    plt.axis('off')\n",
        "    plt.imshow(img, cmap='gray')\n",
        "plt.show()"
      ],
      "execution_count": 15,
      "outputs": [
        {
          "output_type": "display_data",
          "data": {
            "text/plain": [
              "<Figure size 216x216 with 0 Axes>"
            ]
          },
          "metadata": {
            "tags": []
          }
        },
        {
          "output_type": "display_data",
          "data": {
            "image/png": "[encoded data removed]",
            "text/plain": [
              "<Figure size 576x576 with 20 Axes>"
            ]
          },
          "metadata": {
            "tags": []
          }
        }
      ]
    },
    {
      "cell_type": "markdown",
      "metadata": {
        "id": "34mW0USxICzE",
        "colab_type": "text"
      },
      "source": [
        "##Convolutional Autoencoder \n",
        "using a convolutional autoencoder to encode and decode images in the Fashion-MNIST dataset. The encoding piece uses 2 convolutional layrers of dimensionaliy 16, 8  and each kernel is of size 3x3, stride is 2, using max-pooling from a 2x2 matrix after each convolutional layer. The decoder piece is simply the reverse of the encoder, uses 2 conv layers of dimensionality  8 and 16 with each layer followed by an up-sampling layer of size 2x2 matrix."
      ]
    },
    {
      "cell_type": "code",
      "metadata": {
        "id": "BhGY1YikAB5w",
        "colab_type": "code",
        "colab": {}
      },
      "source": [
        "\n",
        "# define the NN architecture\n",
        "class ConvAutoencoder(nn.Module):\n",
        "    def __init__(self):\n",
        "        super(ConvAutoencoder, self).__init__()\n",
        "        ## encoder layers ##\n",
        "        # conv layer (depth from 1 --> 16), 3x3 kernels\n",
        "        self.conv1 = nn.Conv2d(1, 16, 3, padding=1)  \n",
        "        # conv layer (depth from 16 --> 8), 3x3 kernels\n",
        "        self.conv2 = nn.Conv2d(16, 4, 3, padding=1)\n",
        "        # pooling layer to reduce x-y dims by two; kernel and stride of 2\n",
        "        self.pool = nn.MaxPool2d(2, 2)\n",
        "        \n",
        "        ## decoder layers ##\n",
        "        self.conv4 = nn.Conv2d(4, 16, 3, padding=1)\n",
        "        self.conv5 = nn.Conv2d(16, 1, 3, padding=1)\n",
        "        \n",
        "\n",
        "    def forward(self, x):\n",
        "        # add layer, with relu activation function\n",
        "        # and maxpooling after\n",
        "        x = F.relu(self.conv1(x))\n",
        "        x = self.pool(x)\n",
        "        # add hidden layer, with relu activation function\n",
        "        x = F.relu(self.conv2(x))\n",
        "        x = self.pool(x)  # compressed representation\n",
        "        \n",
        "        ## decoder \n",
        "        # upsample, followed by a conv layer, with relu activation function  \n",
        "        # this function is called `interpolate` in some PyTorch versions\n",
        "        x = F.upsample(x, scale_factor=2, mode='nearest')\n",
        "        x = F.relu(self.conv4(x))\n",
        "        # upsample again, output should have a sigmoid applied\n",
        "        x = F.upsample(x, scale_factor=2, mode='nearest')\n",
        "        x = F.sigmoid(self.conv5(x))\n",
        "        \n",
        "        return x\n"
      ],
      "execution_count": 0,
      "outputs": []
    },
    {
      "cell_type": "code",
      "metadata": {
        "id": "00EzotGHAH14",
        "colab_type": "code",
        "colab": {}
      },
      "source": [
        "autoencoder = ConvAutoencoder()\n",
        "loss_fn = nn.BCELoss()\n",
        "optimizer = optimizer_cls(autoencoder.parameters(), lr=lr)\n"
      ],
      "execution_count": 0,
      "outputs": []
    },
    {
      "cell_type": "code",
      "metadata": {
        "id": "LyoHx8-CAX9Q",
        "colab_type": "code",
        "outputId": "4a577983-e136-4715-bebe-96b49714fad2",
        "colab": {
          "base_uri": "https://localhost:8080/",
          "height": 615
        }
      },
      "source": [
        "n_epochs = 30\n",
        "train_losses=[]\n",
        "test_losses=[]\n",
        "for epoch in range(1, n_epochs+1):\n",
        "    # monitor training loss\n",
        "    train_loss = 0.0\n",
        "    \n",
        "    ###################\n",
        "    # train the model #\n",
        "    ###################\n",
        "    for data in train_loader:\n",
        "        # _ stands in for labels, here\n",
        "        # no need to flatten images\n",
        "        images, _ = data\n",
        "        # clear the gradients of all optimized variables\n",
        "        optimizer.zero_grad()\n",
        "        # forward pass: compute predicted outputs by passing inputs to the model\n",
        "        outputs = autoencoder(images)\n",
        "        # calculate the loss\n",
        "        loss = loss_fn(outputs, images)\n",
        "        # backward pass: compute gradient of the loss with respect to model parameters\n",
        "        loss.backward()\n",
        "        # perform a single optimization step (parameter update)\n",
        "        optimizer.step()\n",
        "        # update running training loss\n",
        "        train_loss += loss.item()*images.size(0)\n",
        "\n",
        "    train_loss = train_loss/len(train_loader)\n",
        "    train_losses.append(train_loss/len(train_loader))\n",
        "    print('Epoch: {} \\tTraining Loss: {:.6f}'.format(\n",
        "        epoch, \n",
        "        train_loss/len(train_loader)\n",
        "        ))         \n",
        "    # print avg training statistics \n",
        "    \n",
        "\n",
        " "
      ],
      "execution_count": 9,
      "outputs": [
        {
          "output_type": "stream",
          "text": [
            "/usr/local/lib/python3.6/dist-packages/torch/nn/functional.py:2404: UserWarning: nn.functional.upsample is deprecated. Use nn.functional.interpolate instead.\n",
            "  warnings.warn(\"nn.functional.upsample is deprecated. Use nn.functional.interpolate instead.\")\n",
            "/usr/local/lib/python3.6/dist-packages/torch/nn/functional.py:1351: UserWarning: nn.functional.sigmoid is deprecated. Use torch.sigmoid instead.\n",
            "  warnings.warn(\"nn.functional.sigmoid is deprecated. Use torch.sigmoid instead.\")\n"
          ],
          "name": "stderr"
        },
        {
          "output_type": "stream",
          "text": [
            "Epoch: 1 \tTraining Loss: 0.087538\n",
            "Epoch: 2 \tTraining Loss: 0.076555\n",
            "Epoch: 3 \tTraining Loss: 0.075822\n",
            "Epoch: 4 \tTraining Loss: 0.075357\n",
            "Epoch: 5 \tTraining Loss: 0.074967\n",
            "Epoch: 6 \tTraining Loss: 0.074679\n",
            "Epoch: 7 \tTraining Loss: 0.074450\n",
            "Epoch: 8 \tTraining Loss: 0.074295\n",
            "Epoch: 9 \tTraining Loss: 0.074177\n",
            "Epoch: 10 \tTraining Loss: 0.074092\n",
            "Epoch: 11 \tTraining Loss: 0.074020\n",
            "Epoch: 12 \tTraining Loss: 0.073949\n",
            "Epoch: 13 \tTraining Loss: 0.073860\n",
            "Epoch: 14 \tTraining Loss: 0.073809\n",
            "Epoch: 15 \tTraining Loss: 0.073754\n",
            "Epoch: 16 \tTraining Loss: 0.073685\n",
            "Epoch: 17 \tTraining Loss: 0.073629\n",
            "Epoch: 18 \tTraining Loss: 0.073592\n",
            "Epoch: 19 \tTraining Loss: 0.073530\n",
            "Epoch: 20 \tTraining Loss: 0.073491\n",
            "Epoch: 21 \tTraining Loss: 0.073457\n",
            "Epoch: 22 \tTraining Loss: 0.073413\n",
            "Epoch: 23 \tTraining Loss: 0.073396\n",
            "Epoch: 24 \tTraining Loss: 0.073344\n",
            "Epoch: 25 \tTraining Loss: 0.073344\n",
            "Epoch: 26 \tTraining Loss: 0.073328\n",
            "Epoch: 27 \tTraining Loss: 0.073272\n",
            "Epoch: 28 \tTraining Loss: 0.073272\n",
            "Epoch: 29 \tTraining Loss: 0.073233\n",
            "Epoch: 30 \tTraining Loss: 0.073219\n"
          ],
          "name": "stdout"
        }
      ]
    },
    {
      "cell_type": "markdown",
      "metadata": {
        "id": "TFe0gYT_TAO8",
        "colab_type": "text"
      },
      "source": [
        ""
      ]
    },
    {
      "cell_type": "code",
      "metadata": {
        "id": "dCHhKVdLBwHi",
        "colab_type": "code",
        "outputId": "46ec8cd1-1c2a-46e4-8b1b-6748de3be555",
        "colab": {
          "base_uri": "https://localhost:8080/",
          "height": 283
        }
      },
      "source": [
        "plt.plot(train_losses,label = \"Train losses\")\n"
      ],
      "execution_count": 17,
      "outputs": [
        {
          "output_type": "execute_result",
          "data": {
            "text/plain": [
              "[<matplotlib.lines.Line2D at 0x7f5bf05233c8>]"
            ]
          },
          "metadata": {
            "tags": []
          },
          "execution_count": 17
        },
        {
          "output_type": "display_data",
          "data": {
            "image/png": "[encoded data removed]",
            "text/plain": [
              "<Figure size 432x288 with 1 Axes>"
            ]
          },
          "metadata": {
            "tags": []
          }
        }
      ]
    },
    {
      "cell_type": "code",
      "metadata": {
        "id": "DkXJ0kVSAslH",
        "colab_type": "code",
        "outputId": "7d57e2aa-16c6-4334-94e9-2e37245744fc",
        "colab": {
          "base_uri": "https://localhost:8080/",
          "height": 340
        }
      },
      "source": [
        "\n",
        "# obtain one batch of test images\n",
        "dataiter = iter(test_loader)\n",
        "images, labels = dataiter.next()\n",
        "\n",
        "# get sample outputs\n",
        "output = autoencoder(images)\n",
        "# prep images for display\n",
        "images = images.numpy()\n",
        "\n",
        "# output is resized into a batch of iages\n",
        "output = output.view(batch_size, 1, 28, 28)\n",
        "# use detach when it's an output that requires_grad\n",
        "output = output.detach().numpy()\n",
        "\n",
        "# plot the first ten input images and then reconstructed images\n",
        "fig, axes = plt.subplots(nrows=2, ncols=10, sharex=True, sharey=True, figsize=(25,4))\n",
        "\n",
        "# input images on top row, reconstructions on bottom\n",
        "for images, row in zip([images, output], axes):\n",
        "    for img, ax in zip(images, row):\n",
        "        ax.imshow(np.squeeze(img), cmap='gray')\n",
        "        ax.get_xaxis().set_visible(False)\n",
        "        ax.get_yaxis().set_visible(False)"
      ],
      "execution_count": 18,
      "outputs": [
        {
          "output_type": "stream",
          "text": [
            "/usr/local/lib/python3.6/dist-packages/torch/nn/functional.py:2404: UserWarning: nn.functional.upsample is deprecated. Use nn.functional.interpolate instead.\n",
            "  warnings.warn(\"nn.functional.upsample is deprecated. Use nn.functional.interpolate instead.\")\n",
            "/usr/local/lib/python3.6/dist-packages/torch/nn/functional.py:1351: UserWarning: nn.functional.sigmoid is deprecated. Use torch.sigmoid instead.\n",
            "  warnings.warn(\"nn.functional.sigmoid is deprecated. Use torch.sigmoid instead.\")\n"
          ],
          "name": "stderr"
        },
        {
          "output_type": "display_data",
          "data": {
            "image/png": "[encoded data removed]",
            "text/plain": [
              "<Figure size 1800x288 with 20 Axes>"
            ]
          },
          "metadata": {
            "tags": []
          }
        }
      ]
    },
    {
      "cell_type": "markdown",
      "metadata": {
        "id": "ItwOH539Iuk4",
        "colab_type": "text"
      },
      "source": [
        "\n",
        "From the result, it is showed the decoding results display the original images and the reconstructed images. "
      ]
    },
    {
      "cell_type": "markdown",
      "metadata": {
        "id": "z68yJ2WhHcEE",
        "colab_type": "text"
      },
      "source": [
        "##Question 2##\n",
        "2 layers cnn\n",
        "##2.1 Using ConvNets##\n",
        "uisng CNNs in this problem to classify the various clothing items in the fashion MNIST dataset. We get a final accuracy of 90.85% on the test set. The architecture of the CNN is as follows.\n",
        "\n",
        "A 2D convolution layer of 32 kernels of size 5x5.\n",
        "Max polling over a 2x2 area to downsample the output.\n",
        "Another 2D convolution layer of 32 kernels of size 5*5.\n",
        "rical crossentropy since this is a multi class classification problem.\n",
        "The choices for the size of the convolution layers and dense layer are standard baseline numbers for image classification problems."
      ]
    },
    {
      "cell_type": "code",
      "metadata": {
        "id": "nzQt_pvlSUzT",
        "colab_type": "code",
        "colab": {}
      },
      "source": [
        "\n",
        "import torch.nn.functional as F\n",
        "class CNN(nn.Module):\n",
        "    def __init__(self,num_classes=10):\n",
        "        super(CNN, self).__init__()\n",
        "        self.layer1 = nn.Sequential(\n",
        "            nn.Conv2d(1, 16, kernel_size=5, padding=2),\n",
        "            nn.BatchNorm2d(16),\n",
        "            nn.ReLU(),\n",
        "            nn.AvgPool2d(2))\n",
        "        self.layer2 = nn.Sequential(\n",
        "            nn.Conv2d(16, 32, kernel_size=5, padding=2),\n",
        "            nn.BatchNorm2d(32),\n",
        "            nn.ReLU(),\n",
        "            nn.AvgPool2d(2))\n",
        "        self.fc1 = nn.Linear(7*7*32, 120)\n",
        "        self.fc2 = nn.Linear(120, 84)\n",
        "        self.fc3 = nn.Linear(84, 10)\n",
        "        \n",
        "    def forward(self, x):\n",
        "        out = self.layer1(x)\n",
        "        out = self.layer2(out)\n",
        "        out = out.view(out.size(0), -1)\n",
        "        out = F.relu(self.fc1(out))\n",
        "        out = F.relu(self.fc2(out))\n",
        "        out = self.fc3(out)\n",
        "        return out"
      ],
      "execution_count": 0,
      "outputs": []
    },
    {
      "cell_type": "code",
      "metadata": {
        "id": "IfrIvgjxSlYj",
        "colab_type": "code",
        "colab": {}
      },
      "source": [
        "num_epochs = 50\n",
        "num_classes = 10\n",
        "batch_size = 100\n",
        "learning_rate = 0.001"
      ],
      "execution_count": 0,
      "outputs": []
    },
    {
      "cell_type": "code",
      "metadata": {
        "id": "LlOuev1bYeHQ",
        "colab_type": "code",
        "colab": {}
      },
      "source": [
        "\n",
        "device = torch.device('cuda:0' if torch.cuda.is_available() else 'cpu')\n",
        "model = CNN(num_classes).to(device)"
      ],
      "execution_count": 0,
      "outputs": []
    },
    {
      "cell_type": "code",
      "metadata": {
        "id": "pmf0GjWjS3X4",
        "colab_type": "code",
        "colab": {}
      },
      "source": [
        "criterion = nn.CrossEntropyLoss()\n",
        "optimizer = torch.optim.Adam(model.parameters(), lr=learning_rate)"
      ],
      "execution_count": 0,
      "outputs": []
    },
    {
      "cell_type": "code",
      "metadata": {
        "id": "es19UTepVbO-",
        "colab_type": "code",
        "colab": {}
      },
      "source": [
        "# function to do evaluation (calculate the accuracy) in gpu\n",
        "def evaluation(dataloader):\n",
        "     total, correct = 0, 0\n",
        "     #keeping the network in evaluation mode \n",
        "     model.eval()\n",
        "     for data in dataloader:\n",
        "         inputs, labels = data\n",
        "         #moving the inputs and labels to gpu\n",
        "         inputs, labels = inputs.to(device), labels.to(device)\n",
        "         outputs = model(inputs)\n",
        "         _, pred = torch.max(outputs.data, 1)\n",
        "         total += labels.size(0)\n",
        "         correct += (pred == labels).sum().item()\n",
        "     return 100 * correct / total"
      ],
      "execution_count": 0,
      "outputs": []
    },
    {
      "cell_type": "code",
      "metadata": {
        "id": "4JlnOriq5Ss3",
        "colab_type": "code",
        "colab": {}
      },
      "source": [
        "epoch=50"
      ],
      "execution_count": 0,
      "outputs": []
    },
    {
      "cell_type": "code",
      "metadata": {
        "id": "NWkFnLILaBFT",
        "colab_type": "code",
        "outputId": "85d6a2b6-01fa-47f4-96a7-a9ea8b547809",
        "colab": {
          "base_uri": "https://localhost:8080/",
          "height": 867
        }
      },
      "source": [
        "test_losses=[]\n",
        "train_losses=[]\n",
        "for e in range(epoch):\n",
        "    train_loss = 0\n",
        "    test_loss = 0\n",
        "    accuracy = 0\n",
        "    for images, labels in train_loader:\n",
        "        images,labels = images.to(device),labels.to(device)\n",
        "        optimizer.zero_grad()\n",
        "        op = model(images)\n",
        "        loss = criterion(op, labels)\n",
        "        train_loss += loss.item()\n",
        "        loss.backward()\n",
        "        optimizer.step()\n",
        "    else:\n",
        "        with torch.no_grad():\n",
        "            model.eval()\n",
        "            for images,labels in test_loader:\n",
        "                images,labels = images.to(device),labels.to(device)\n",
        "                log_ps = model(images)\n",
        "                prob = torch.exp(log_ps)\n",
        "                top_probs, top_classes = prob.topk(1, dim=1)\n",
        "                equals = labels == top_classes.view(labels.shape)\n",
        "                accuracy += equals.type(torch.FloatTensor).mean()\n",
        "                test_loss += criterion(log_ps, labels)\n",
        "        model.train()\n",
        "    print(\"Epoch: {}/{}.. \".format(e+1, epoch),\n",
        "              \"Training Loss: {:.3f}.. \".format(train_loss/len(train_loader)),\n",
        "              \"Test Loss: {:.3f}.. \".format(test_loss/len(test_loader)),\n",
        "              \"Test Accuracy: {:.3f}\".format(accuracy/len(test_loader)))\n",
        "    train_losses.append(train_loss/len(train_loader))\n",
        "    test_losses.append(test_loss/len(test_loader))\n",
        "        "
      ],
      "execution_count": 25,
      "outputs": [
        {
          "output_type": "stream",
          "text": [
            "Epoch: 1/50..  Training Loss: 0.458..  Test Loss: 0.330..  Test Accuracy: 0.881\n",
            "Epoch: 2/50..  Training Loss: 0.294..  Test Loss: 0.302..  Test Accuracy: 0.889\n",
            "Epoch: 3/50..  Training Loss: 0.263..  Test Loss: 0.276..  Test Accuracy: 0.896\n",
            "Epoch: 4/50..  Training Loss: 0.233..  Test Loss: 0.268..  Test Accuracy: 0.902\n",
            "Epoch: 5/50..  Training Loss: 0.216..  Test Loss: 0.245..  Test Accuracy: 0.912\n",
            "Epoch: 6/50..  Training Loss: 0.198..  Test Loss: 0.258..  Test Accuracy: 0.908\n",
            "Epoch: 7/50..  Training Loss: 0.187..  Test Loss: 0.232..  Test Accuracy: 0.915\n",
            "Epoch: 8/50..  Training Loss: 0.174..  Test Loss: 0.242..  Test Accuracy: 0.915\n",
            "Epoch: 9/50..  Training Loss: 0.162..  Test Loss: 0.232..  Test Accuracy: 0.917\n",
            "Epoch: 10/50..  Training Loss: 0.152..  Test Loss: 0.242..  Test Accuracy: 0.912\n",
            "Epoch: 11/50..  Training Loss: 0.141..  Test Loss: 0.238..  Test Accuracy: 0.918\n",
            "Epoch: 12/50..  Training Loss: 0.131..  Test Loss: 0.236..  Test Accuracy: 0.919\n",
            "Epoch: 13/50..  Training Loss: 0.123..  Test Loss: 0.251..  Test Accuracy: 0.919\n",
            "Epoch: 14/50..  Training Loss: 0.113..  Test Loss: 0.246..  Test Accuracy: 0.918\n",
            "Epoch: 15/50..  Training Loss: 0.104..  Test Loss: 0.244..  Test Accuracy: 0.924\n",
            "Epoch: 16/50..  Training Loss: 0.099..  Test Loss: 0.266..  Test Accuracy: 0.915\n",
            "Epoch: 17/50..  Training Loss: 0.087..  Test Loss: 0.253..  Test Accuracy: 0.922\n",
            "Epoch: 18/50..  Training Loss: 0.084..  Test Loss: 0.270..  Test Accuracy: 0.923\n",
            "Epoch: 19/50..  Training Loss: 0.075..  Test Loss: 0.291..  Test Accuracy: 0.921\n",
            "Epoch: 20/50..  Training Loss: 0.071..  Test Loss: 0.337..  Test Accuracy: 0.910\n",
            "Epoch: 21/50..  Training Loss: 0.067..  Test Loss: 0.276..  Test Accuracy: 0.926\n",
            "Epoch: 22/50..  Training Loss: 0.060..  Test Loss: 0.330..  Test Accuracy: 0.922\n",
            "Epoch: 23/50..  Training Loss: 0.054..  Test Loss: 0.315..  Test Accuracy: 0.925\n",
            "Epoch: 24/50..  Training Loss: 0.053..  Test Loss: 0.347..  Test Accuracy: 0.915\n",
            "Epoch: 25/50..  Training Loss: 0.048..  Test Loss: 0.333..  Test Accuracy: 0.924\n",
            "Epoch: 26/50..  Training Loss: 0.043..  Test Loss: 0.340..  Test Accuracy: 0.921\n",
            "Epoch: 27/50..  Training Loss: 0.042..  Test Loss: 0.414..  Test Accuracy: 0.914\n",
            "Epoch: 28/50..  Training Loss: 0.041..  Test Loss: 0.348..  Test Accuracy: 0.922\n",
            "Epoch: 29/50..  Training Loss: 0.038..  Test Loss: 0.379..  Test Accuracy: 0.912\n",
            "Epoch: 30/50..  Training Loss: 0.032..  Test Loss: 0.413..  Test Accuracy: 0.923\n",
            "Epoch: 31/50..  Training Loss: 0.033..  Test Loss: 0.390..  Test Accuracy: 0.918\n",
            "Epoch: 32/50..  Training Loss: 0.034..  Test Loss: 0.391..  Test Accuracy: 0.922\n",
            "Epoch: 33/50..  Training Loss: 0.028..  Test Loss: 0.416..  Test Accuracy: 0.921\n",
            "Epoch: 34/50..  Training Loss: 0.029..  Test Loss: 0.427..  Test Accuracy: 0.918\n",
            "Epoch: 35/50..  Training Loss: 0.030..  Test Loss: 0.418..  Test Accuracy: 0.921\n",
            "Epoch: 36/50..  Training Loss: 0.022..  Test Loss: 0.425..  Test Accuracy: 0.922\n",
            "Epoch: 37/50..  Training Loss: 0.022..  Test Loss: 0.458..  Test Accuracy: 0.922\n",
            "Epoch: 38/50..  Training Loss: 0.025..  Test Loss: 0.506..  Test Accuracy: 0.912\n",
            "Epoch: 39/50..  Training Loss: 0.021..  Test Loss: 0.471..  Test Accuracy: 0.925\n",
            "Epoch: 40/50..  Training Loss: 0.025..  Test Loss: 0.450..  Test Accuracy: 0.919\n",
            "Epoch: 41/50..  Training Loss: 0.018..  Test Loss: 0.508..  Test Accuracy: 0.919\n",
            "Epoch: 42/50..  Training Loss: 0.020..  Test Loss: 0.472..  Test Accuracy: 0.913\n",
            "Epoch: 43/50..  Training Loss: 0.026..  Test Loss: 0.505..  Test Accuracy: 0.919\n",
            "Epoch: 44/50..  Training Loss: 0.014..  Test Loss: 0.560..  Test Accuracy: 0.917\n",
            "Epoch: 45/50..  Training Loss: 0.019..  Test Loss: 0.492..  Test Accuracy: 0.925\n",
            "Epoch: 46/50..  Training Loss: 0.020..  Test Loss: 0.458..  Test Accuracy: 0.924\n",
            "Epoch: 47/50..  Training Loss: 0.016..  Test Loss: 0.508..  Test Accuracy: 0.918\n",
            "Epoch: 48/50..  Training Loss: 0.019..  Test Loss: 0.514..  Test Accuracy: 0.923\n",
            "Epoch: 49/50..  Training Loss: 0.013..  Test Loss: 0.568..  Test Accuracy: 0.916\n",
            "Epoch: 50/50..  Training Loss: 0.019..  Test Loss: 0.516..  Test Accuracy: 0.919\n"
          ],
          "name": "stdout"
        }
      ]
    },
    {
      "cell_type": "code",
      "metadata": {
        "id": "X651FHA0LUnE",
        "colab_type": "code",
        "outputId": "b8fb78d6-cb20-430c-81bd-f909962d430a",
        "colab": {
          "base_uri": "https://localhost:8080/",
          "height": 282
        }
      },
      "source": [
        "\n",
        "plt.plot(train_losses,label = \"Train losses\")\n",
        "plt.plot(test_losses, label = \"Test losses\")\n",
        "plt.legend()"
      ],
      "execution_count": 26,
      "outputs": [
        {
          "output_type": "execute_result",
          "data": {
            "text/plain": [
              "<matplotlib.legend.Legend at 0x7f5bfa712128>"
            ]
          },
          "metadata": {
            "tags": []
          },
          "execution_count": 26
        },
        {
          "output_type": "display_data",
          "data": {
            "image/png": "[encoded data removed]",
            "text/plain": [
              "<Figure size 432x288 with 1 Axes>"
            ]
          },
          "metadata": {
            "tags": []
          }
        }
      ]
    },
    {
      "cell_type": "markdown",
      "metadata": {
        "id": "ositHClqV45h",
        "colab_type": "text"
      },
      "source": [
        "##2.2#\n",
        "Using VGG for fashion mnist"
      ]
    },
    {
      "cell_type": "code",
      "metadata": {
        "id": "HT_AHOrMq8In",
        "colab_type": "code",
        "outputId": "b0b0468d-7d46-471d-bcb7-ed129ec7dfde",
        "colab": {
          "base_uri": "https://localhost:8080/",
          "height": 1000
        }
      },
      "source": [
        "conv_base = VGG16(weights=\"imagenet\", include_top=False, input_shape=(48, 48, 3))\n",
        "conv_base.trainable = False\n",
        "conv_base.summary()"
      ],
      "execution_count": 29,
      "outputs": [
        {
          "output_type": "stream",
          "text": [
            "WARNING:tensorflow:From /usr/local/lib/python3.6/dist-packages/keras/backend/tensorflow_backend.py:66: The name tf.get_default_graph is deprecated. Please use tf.compat.v1.get_default_graph instead.\n",
            "\n",
            "WARNING:tensorflow:From /usr/local/lib/python3.6/dist-packages/keras/backend/tensorflow_backend.py:541: The name tf.placeholder is deprecated. Please use tf.compat.v1.placeholder instead.\n",
            "\n",
            "WARNING:tensorflow:From /usr/local/lib/python3.6/dist-packages/keras/backend/tensorflow_backend.py:4432: The name tf.random_uniform is deprecated. Please use tf.random.uniform instead.\n",
            "\n",
            "WARNING:tensorflow:From /usr/local/lib/python3.6/dist-packages/keras/backend/tensorflow_backend.py:4267: The name tf.nn.max_pool is deprecated. Please use tf.nn.max_pool2d instead.\n",
            "\n",
            "Downloading data from https://github.com/fchollet/deep-learning-models/releases/download/v0.1/vgg16_weights_tf_dim_ordering_tf_kernels_notop.h5\n",
            "58892288/58889256 [==============================] - 3s 0us/step\n",
            "WARNING:tensorflow:From /usr/local/lib/python3.6/dist-packages/keras/backend/tensorflow_backend.py:190: The name tf.get_default_session is deprecated. Please use tf.compat.v1.get_default_session instead.\n",
            "\n",
            "WARNING:tensorflow:From /usr/local/lib/python3.6/dist-packages/keras/backend/tensorflow_backend.py:197: The name tf.ConfigProto is deprecated. Please use tf.compat.v1.ConfigProto instead.\n",
            "\n",
            "WARNING:tensorflow:From /usr/local/lib/python3.6/dist-packages/keras/backend/tensorflow_backend.py:203: The name tf.Session is deprecated. Please use tf.compat.v1.Session instead.\n",
            "\n",
            "WARNING:tensorflow:From /usr/local/lib/python3.6/dist-packages/keras/backend/tensorflow_backend.py:207: The name tf.global_variables is deprecated. Please use tf.compat.v1.global_variables instead.\n",
            "\n",
            "WARNING:tensorflow:From /usr/local/lib/python3.6/dist-packages/keras/backend/tensorflow_backend.py:216: The name tf.is_variable_initialized is deprecated. Please use tf.compat.v1.is_variable_initialized instead.\n",
            "\n",
            "WARNING:tensorflow:From /usr/local/lib/python3.6/dist-packages/keras/backend/tensorflow_backend.py:223: The name tf.variables_initializer is deprecated. Please use tf.compat.v1.variables_initializer instead.\n",
            "\n",
            "Model: \"vgg16\"\n",
            "_________________________________________________________________\n",
            "Layer (type)                 Output Shape              Param #   \n",
            "=================================================================\n",
            "input_1 (InputLayer)         (None, 48, 48, 3)         0         \n",
            "_________________________________________________________________\n",
            "block1_conv1 (Conv2D)        (None, 48, 48, 64)        1792      \n",
            "_________________________________________________________________\n",
            "block1_conv2 (Conv2D)        (None, 48, 48, 64)        36928     \n",
            "_________________________________________________________________\n",
            "block1_pool (MaxPooling2D)   (None, 24, 24, 64)        0         \n",
            "_________________________________________________________________\n",
            "block2_conv1 (Conv2D)        (None, 24, 24, 128)       73856     \n",
            "_________________________________________________________________\n",
            "block2_conv2 (Conv2D)        (None, 24, 24, 128)       147584    \n",
            "_________________________________________________________________\n",
            "block2_pool (MaxPooling2D)   (None, 12, 12, 128)       0         \n",
            "_________________________________________________________________\n",
            "block3_conv1 (Conv2D)        (None, 12, 12, 256)       295168    \n",
            "_________________________________________________________________\n",
            "block3_conv2 (Conv2D)        (None, 12, 12, 256)       590080    \n",
            "_________________________________________________________________\n",
            "block3_conv3 (Conv2D)        (None, 12, 12, 256)       590080    \n",
            "_________________________________________________________________\n",
            "block3_pool (MaxPooling2D)   (None, 6, 6, 256)         0         \n",
            "_________________________________________________________________\n",
            "block4_conv1 (Conv2D)        (None, 6, 6, 512)         1180160   \n",
            "_________________________________________________________________\n",
            "block4_conv2 (Conv2D)        (None, 6, 6, 512)         2359808   \n",
            "_________________________________________________________________\n",
            "block4_conv3 (Conv2D)        (None, 6, 6, 512)         2359808   \n",
            "_________________________________________________________________\n",
            "block4_pool (MaxPooling2D)   (None, 3, 3, 512)         0         \n",
            "_________________________________________________________________\n",
            "block5_conv1 (Conv2D)        (None, 3, 3, 512)         2359808   \n",
            "_________________________________________________________________\n",
            "block5_conv2 (Conv2D)        (None, 3, 3, 512)         2359808   \n",
            "_________________________________________________________________\n",
            "block5_conv3 (Conv2D)        (None, 3, 3, 512)         2359808   \n",
            "_________________________________________________________________\n",
            "block5_pool (MaxPooling2D)   (None, 1, 1, 512)         0         \n",
            "=================================================================\n",
            "Total params: 14,714,688\n",
            "Trainable params: 0\n",
            "Non-trainable params: 14,714,688\n",
            "_________________________________________________________________\n"
          ],
          "name": "stdout"
        }
      ]
    },
    {
      "cell_type": "code",
      "metadata": {
        "id": "JIw3pqlLrW_2",
        "colab_type": "code",
        "colab": {
          "base_uri": "https://localhost:8080/",
          "height": 80
        },
        "outputId": "d67ca4ea-ab47-4f46-aa96-03718f5cccc1"
      },
      "source": [
        "from keras.datasets import fashion_mnist\n",
        "import numpy as np\n",
        "from keras.layers import Input, Dense, Conv2D, MaxPooling2D \n",
        "from keras.layers import UpSampling2D, Dropout, Activation, Flatten \n",
        "from keras.layers import LeakyReLU, LSTM, Conv1D, GlobalMaxPooling1D\n",
        "from keras.models import Model, Sequential\n",
        "from matplotlib import pyplot as plt\n",
        "from keras.utils import np_utils\n",
        "import keras\n",
        "from keras.applications import VGG16\n",
        "from keras.preprocessing.image import img_to_array, array_to_img\n",
        "from sklearn.model_selection import train_test_split\n",
        "from keras.applications.vgg16 import preprocess_input\n",
        "import pandas as pd\n",
        "from keras.layers.embeddings import Embedding\n",
        "from keras.callbacks import TensorBoard\n",
        "from keras.preprocessing import sequence\n",
        "from keras.preprocessing.text import Tokenizer\n",
        "from sklearn.utils import class_weight\n",
        "from sklearn.metrics import roc_curve\n",
        "from sklearn.metrics import auc"
      ],
      "execution_count": 28,
      "outputs": [
        {
          "output_type": "stream",
          "text": [
            "Using TensorFlow backend.\n"
          ],
          "name": "stderr"
        },
        {
          "output_type": "display_data",
          "data": {
            "text/html": [
              "<p style=\"color: red;\">\n",
              "The default version of TensorFlow in Colab will soon switch to TensorFlow 2.x.<br>\n",
              "We recommend you <a href=\"https://www.tensorflow.org/guide/migrate\" target=\"_blank\">upgrade</a> now \n",
              "or ensure your notebook will continue to use TensorFlow 1.x via the <code>%tensorflow_version 1.x</code> magic:\n",
              "<a href=\"https://colab.research.google.com/notebooks/tensorflow_version.ipynb\" target=\"_blank\">more info</a>.</p>\n"
            ],
            "text/plain": [
              "<IPython.core.display.HTML object>"
            ]
          },
          "metadata": {
            "tags": []
          }
        }
      ]
    },
    {
      "cell_type": "code",
      "metadata": {
        "id": "4v3cosHOrXJB",
        "colab_type": "code",
        "outputId": "4fd5fd77-9b41-4873-928d-ff891038c354",
        "colab": {
          "base_uri": "https://localhost:8080/",
          "height": 153
        }
      },
      "source": [
        "(x_train, y_train), (x_test, y_test) = fashion_mnist.load_data()"
      ],
      "execution_count": 30,
      "outputs": [
        {
          "output_type": "stream",
          "text": [
            "Downloading data from http://fashion-mnist.s3-website.eu-central-1.amazonaws.com/train-labels-idx1-ubyte.gz\n",
            "32768/29515 [=================================] - 0s 0us/step\n",
            "Downloading data from http://fashion-mnist.s3-website.eu-central-1.amazonaws.com/train-images-idx3-ubyte.gz\n",
            "26427392/26421880 [==============================] - 0s 0us/step\n",
            "Downloading data from http://fashion-mnist.s3-website.eu-central-1.amazonaws.com/t10k-labels-idx1-ubyte.gz\n",
            "8192/5148 [===============================================] - 0s 0us/step\n",
            "Downloading data from http://fashion-mnist.s3-website.eu-central-1.amazonaws.com/t10k-images-idx3-ubyte.gz\n",
            "4423680/4422102 [==============================] - 0s 0us/step\n"
          ],
          "name": "stdout"
        }
      ]
    },
    {
      "cell_type": "code",
      "metadata": {
        "id": "lTOYs25KruZt",
        "colab_type": "code",
        "colab": {}
      },
      "source": [
        "\n",
        "#convert images to three channels\n",
        "train_X = np.stack([x_train] *3, axis = -1)\n",
        "test_X = np.stack([x_test] *3, axis = -1)\n",
        "train_X = train_X.reshape(-1, 28,28,3)\n",
        "test_X = test_X.reshape (-1,28,28,3)\n",
        "\n",
        "#resize the images to 48 x 48 for VGG16\n",
        "train_X = np.asarray([img_to_array(array_to_img(im, scale=False).resize((48,48))) for im in train_X])\n",
        "test_X = np.asarray([img_to_array(array_to_img(im, scale=False).resize((48,48))) for im in test_X])\n",
        "\n",
        "\n",
        "#converting labels to one hot encoded format\n",
        "train_Y_one_hot = np_utils.to_categorical(y_train)\n",
        "test_Y_one_hot = np_utils.to_categorical(y_test)\n",
        "\n",
        "#split train data as train and validation data\n",
        "train_X,valid_X,train_Label,valid_Label = train_test_split(train_X,\n",
        "                                                           train_Y_one_hot,\n",
        "                                                           test_size=0.2,\n",
        "                                                           random_state=13)"
      ],
      "execution_count": 0,
      "outputs": []
    },
    {
      "cell_type": "code",
      "metadata": {
        "id": "84Re7WjwrSSK",
        "colab_type": "code",
        "colab": {}
      },
      "source": [
        "\n",
        "y_train = np_utils.to_categorical(y_train, 10)\n",
        "y_test = np_utils.to_categorical(y_test, 10)\n",
        "train_x,valid_x,train_label,valid_label = train_test_split(x_train, y_train, test_size=0.2, random_state=13)"
      ],
      "execution_count": 0,
      "outputs": []
    },
    {
      "cell_type": "code",
      "metadata": {
        "id": "z8eHKWAkq96k",
        "colab_type": "code",
        "outputId": "48be6250-8d30-42c1-886f-812b395bbbd9",
        "colab": {
          "base_uri": "https://localhost:8080/",
          "height": 68
        }
      },
      "source": [
        "#extract features from convolutional base\n",
        "train_features = conv_base.predict(np.array(train_X), batch_size=32, verbose=1)\n",
        "test_features = conv_base.predict(np.array(test_X), batch_size=32, verbose=1)\n",
        "val_features = conv_base.predict(np.array(valid_X), batch_size=32, verbose=1)"
      ],
      "execution_count": 33,
      "outputs": [
        {
          "output_type": "stream",
          "text": [
            "48000/48000 [==============================] - 12s 257us/step\n",
            "10000/10000 [==============================] - 3s 256us/step\n",
            "12000/12000 [==============================] - 3s 247us/step\n"
          ],
          "name": "stdout"
        }
      ]
    },
    {
      "cell_type": "code",
      "metadata": {
        "id": "lkDxZ13wrCCU",
        "colab_type": "code",
        "colab": {}
      },
      "source": [
        "#flatten extracted features\n",
        "train_features_flat = np.reshape(train_features, (48000, 1*1*512))\n",
        "test_features_flat = np.reshape(test_features, (10000, 1*1*512))\n",
        "val_features_flat = np.reshape(val_features, (12000, 1*1*512))"
      ],
      "execution_count": 0,
      "outputs": []
    },
    {
      "cell_type": "markdown",
      "metadata": {
        "id": "8wB4u87crDvr",
        "colab_type": "text"
      },
      "source": [
        ""
      ]
    },
    {
      "cell_type": "code",
      "metadata": {
        "id": "XPj2ykS1rD96",
        "colab_type": "code",
        "colab": {}
      },
      "source": [
        "model = Sequential()\n",
        "model.add(Dense(512, activation='relu', input_dim=(1*1*512)))\n",
        "model.add(LeakyReLU(alpha=0.1))\n",
        "model.add(Dense(len(classes), activation='softmax'))"
      ],
      "execution_count": 0,
      "outputs": []
    },
    {
      "cell_type": "code",
      "metadata": {
        "id": "GGcgGVfBrFsK",
        "colab_type": "code",
        "outputId": "f61283e9-7435-4e01-cb63-8f199089ca68",
        "colab": {
          "base_uri": "https://localhost:8080/",
          "height": 255
        }
      },
      "source": [
        "model.summary()"
      ],
      "execution_count": 36,
      "outputs": [
        {
          "output_type": "stream",
          "text": [
            "Model: \"sequential_1\"\n",
            "_________________________________________________________________\n",
            "Layer (type)                 Output Shape              Param #   \n",
            "=================================================================\n",
            "dense_1 (Dense)              (None, 512)               262656    \n",
            "_________________________________________________________________\n",
            "leaky_re_lu_1 (LeakyReLU)    (None, 512)               0         \n",
            "_________________________________________________________________\n",
            "dense_2 (Dense)              (None, 10)                5130      \n",
            "=================================================================\n",
            "Total params: 267,786\n",
            "Trainable params: 267,786\n",
            "Non-trainable params: 0\n",
            "_________________________________________________________________\n"
          ],
          "name": "stdout"
        }
      ]
    },
    {
      "cell_type": "code",
      "metadata": {
        "id": "2T1ao0OarJYv",
        "colab_type": "code",
        "colab": {
          "base_uri": "https://localhost:8080/",
          "height": 105
        },
        "outputId": "d4167d00-84d2-4a91-e3fd-52fcf7ab48c5"
      },
      "source": [
        "model.compile(loss=\"categorical_crossentropy\", optimizer = 'Adam',metrics=[\"accuracy\"])"
      ],
      "execution_count": 37,
      "outputs": [
        {
          "output_type": "stream",
          "text": [
            "WARNING:tensorflow:From /usr/local/lib/python3.6/dist-packages/keras/optimizers.py:793: The name tf.train.Optimizer is deprecated. Please use tf.compat.v1.train.Optimizer instead.\n",
            "\n",
            "WARNING:tensorflow:From /usr/local/lib/python3.6/dist-packages/keras/backend/tensorflow_backend.py:3576: The name tf.log is deprecated. Please use tf.math.log instead.\n",
            "\n"
          ],
          "name": "stdout"
        }
      ]
    },
    {
      "cell_type": "code",
      "metadata": {
        "id": "WBM1Too0rJ7d",
        "colab_type": "code",
        "outputId": "b29fd5a2-e361-421b-c3fd-25b3528a9f7b",
        "colab": {
          "base_uri": "https://localhost:8080/",
          "height": 513
        }
      },
      "source": [
        "#train model with convolutional base features\n",
        "trans_model = model.fit(\n",
        "    train_features_flat,\n",
        "    train_Label,\n",
        "    epochs=10,\n",
        "    validation_data=(val_features_flat, valid_Label))"
      ],
      "execution_count": 38,
      "outputs": [
        {
          "output_type": "stream",
          "text": [
            "WARNING:tensorflow:From /usr/local/lib/python3.6/dist-packages/tensorflow_core/python/ops/math_grad.py:1424: where (from tensorflow.python.ops.array_ops) is deprecated and will be removed in a future version.\n",
            "Instructions for updating:\n",
            "Use tf.where in 2.0, which has the same broadcast rule as np.where\n",
            "WARNING:tensorflow:From /usr/local/lib/python3.6/dist-packages/keras/backend/tensorflow_backend.py:1033: The name tf.assign_add is deprecated. Please use tf.compat.v1.assign_add instead.\n",
            "\n",
            "WARNING:tensorflow:From /usr/local/lib/python3.6/dist-packages/keras/backend/tensorflow_backend.py:1020: The name tf.assign is deprecated. Please use tf.compat.v1.assign instead.\n",
            "\n",
            "Train on 48000 samples, validate on 12000 samples\n",
            "Epoch 1/10\n",
            "48000/48000 [==============================] - 7s 147us/step - loss: 3.0102 - acc: 0.7147 - val_loss: 0.4889 - val_acc: 0.8332\n",
            "Epoch 2/10\n",
            "48000/48000 [==============================] - 7s 144us/step - loss: 0.4188 - acc: 0.8507 - val_loss: 0.4774 - val_acc: 0.8421\n",
            "Epoch 3/10\n",
            "48000/48000 [==============================] - 7s 143us/step - loss: 0.3614 - acc: 0.8715 - val_loss: 0.4616 - val_acc: 0.8441\n",
            "Epoch 4/10\n",
            "48000/48000 [==============================] - 7s 141us/step - loss: 0.3342 - acc: 0.8789 - val_loss: 0.4747 - val_acc: 0.8448\n",
            "Epoch 5/10\n",
            "48000/48000 [==============================] - 7s 143us/step - loss: 0.3064 - acc: 0.8898 - val_loss: 0.4880 - val_acc: 0.8498\n",
            "Epoch 6/10\n",
            "48000/48000 [==============================] - 7s 144us/step - loss: 0.2823 - acc: 0.8984 - val_loss: 0.4690 - val_acc: 0.8560\n",
            "Epoch 7/10\n",
            "48000/48000 [==============================] - 7s 140us/step - loss: 0.2591 - acc: 0.9062 - val_loss: 0.5074 - val_acc: 0.8549\n",
            "Epoch 8/10\n",
            "48000/48000 [==============================] - 7s 142us/step - loss: 0.2425 - acc: 0.9135 - val_loss: 0.5518 - val_acc: 0.8524\n",
            "Epoch 9/10\n",
            "48000/48000 [==============================] - 7s 145us/step - loss: 0.2289 - acc: 0.9176 - val_loss: 0.5777 - val_acc: 0.8544\n",
            "Epoch 10/10\n",
            "48000/48000 [==============================] - 7s 143us/step - loss: 0.2125 - acc: 0.9242 - val_loss: 0.5759 - val_acc: 0.8561\n"
          ],
          "name": "stdout"
        }
      ]
    },
    {
      "cell_type": "markdown",
      "metadata": {
        "id": "UG2VvGrDt9jM",
        "colab_type": "text"
      },
      "source": [
        "The transfer learning model improved over 10 epochs. The training losses and accuracies are similarly poor. Overall, this model performed much worse than the deep CNN in the previous part."
      ]
    },
    {
      "cell_type": "markdown",
      "metadata": {
        "id": "Gi8sKcN_HuLi",
        "colab_type": "text"
      },
      "source": [
        "##Question3##\n",
        "##USING KERAS FOR Q3#\n",
        "#cnn and rnn\n"
      ]
    },
    {
      "cell_type": "code",
      "metadata": {
        "id": "NKatwaL4ZK6m",
        "colab_type": "code",
        "outputId": "ee2e396c-e15b-4e04-9587-611b9fff5f69",
        "colab": {
          "base_uri": "https://localhost:8080/",
          "height": 136
        }
      },
      "source": [
        "import pandas as pd\n",
        "import nltk\n",
        "import collections\n",
        "from nltk.util import ngrams\n",
        "from nltk.tokenize import word_tokenize\n",
        "from nltk.stem.porter import PorterStemmer\n",
        "from nltk.stem import WordNetLemmatizer\n",
        "from sklearn.model_selection import train_test_split\n",
        "from keras.applications.vgg16 import preprocess_input\n",
        "from keras.layers.embeddings import Embedding\n",
        "from keras.layers import Input, Dense, Dropout, Activation, Flatten, GlobalMaxPooling1D, LSTM\n",
        "from keras.callbacks import TensorBoard\n",
        "from keras.preprocessing import sequence\n",
        "from keras.preprocessing.text import Tokenizer\n",
        "from sklearn.utils import class_weight\n",
        "from keras.layers import LSTM, Conv1D, GlobalMaxPooling1D\n",
        "import regex\n",
        "from nltk.corpus import stopwords\n",
        "import gensim\n",
        "from gensim.models import Word2Vec\n",
        "from tensorflow.keras.preprocessing import sequence\n",
        "import  pandas as pd\n",
        "\n",
        "nltk.download('stopwords')\n",
        "nltk.download('wordnet')\n",
        "nltk.download('punkt')"
      ],
      "execution_count": 41,
      "outputs": [
        {
          "output_type": "stream",
          "text": [
            "[nltk_data] Downloading package stopwords to /root/nltk_data...\n",
            "[nltk_data]   Unzipping corpora/stopwords.zip.\n",
            "[nltk_data] Downloading package wordnet to /root/nltk_data...\n",
            "[nltk_data]   Unzipping corpora/wordnet.zip.\n",
            "[nltk_data] Downloading package punkt to /root/nltk_data...\n",
            "[nltk_data]   Unzipping tokenizers/punkt.zip.\n"
          ],
          "name": "stdout"
        },
        {
          "output_type": "execute_result",
          "data": {
            "text/plain": [
              "True"
            ]
          },
          "metadata": {
            "tags": []
          },
          "execution_count": 41
        }
      ]
    },
    {
      "cell_type": "code",
      "metadata": {
        "id": "UKphpk0pfkWL",
        "colab_type": "code",
        "outputId": "04482cdd-2f4e-430b-80c6-b9eeb3c2c37f",
        "colab": {
          "base_uri": "https://localhost:8080/",
          "height": 122
        }
      },
      "source": [
        "!pip install regex"
      ],
      "execution_count": 40,
      "outputs": [
        {
          "output_type": "stream",
          "text": [
            "Collecting regex\n",
            "\u001b[?25l  Downloading https://files.pythonhosted.org/packages/e3/8e/cbf2295643d7265e7883326fb4654e643bfc93b3a8a8274d8010a39d8804/regex-2019.11.1-cp36-cp36m-manylinux1_x86_64.whl (643kB)\n",
            "\r\u001b[K     |▌                               | 10kB 22.9MB/s eta 0:00:01\r\u001b[K     |█                               | 20kB 4.2MB/s eta 0:00:01\r\u001b[K     |█▌                              | 30kB 6.0MB/s eta 0:00:01\r\u001b[K     |██                              | 40kB 7.7MB/s eta 0:00:01\r\u001b[K     |██▌                             | 51kB 4.9MB/s eta 0:00:01\r\u001b[K     |███                             | 61kB 5.8MB/s eta 0:00:01\r\u001b[K     |███▋                            | 71kB 6.5MB/s eta 0:00:01\r\u001b[K     |████                            | 81kB 7.3MB/s eta 0:00:01\r\u001b[K     |████▋                           | 92kB 8.0MB/s eta 0:00:01\r\u001b[K     |█████                           | 102kB 6.5MB/s eta 0:00:01\r\u001b[K     |█████▋                          | 112kB 6.5MB/s eta 0:00:01\r\u001b[K     |██████                          | 122kB 6.5MB/s eta 0:00:01\r\u001b[K     |██████▋                         | 133kB 6.5MB/s eta 0:00:01\r\u001b[K     |███████▏                        | 143kB 6.5MB/s eta 0:00:01\r\u001b[K     |███████▋                        | 153kB 6.5MB/s eta 0:00:01\r\u001b[K     |████████▏                       | 163kB 6.5MB/s eta 0:00:01\r\u001b[K     |████████▋                       | 174kB 6.5MB/s eta 0:00:01\r\u001b[K     |█████████▏                      | 184kB 6.5MB/s eta 0:00:01\r\u001b[K     |█████████▊                      | 194kB 6.5MB/s eta 0:00:01\r\u001b[K     |██████████▏                     | 204kB 6.5MB/s eta 0:00:01\r\u001b[K     |██████████▊                     | 215kB 6.5MB/s eta 0:00:01\r\u001b[K     |███████████▏                    | 225kB 6.5MB/s eta 0:00:01\r\u001b[K     |███████████▊                    | 235kB 6.5MB/s eta 0:00:01\r\u001b[K     |████████████▏                   | 245kB 6.5MB/s eta 0:00:01\r\u001b[K     |████████████▊                   | 256kB 6.5MB/s eta 0:00:01\r\u001b[K     |█████████████▎                  | 266kB 6.5MB/s eta 0:00:01\r\u001b[K     |█████████████▊                  | 276kB 6.5MB/s eta 0:00:01\r\u001b[K     |██████████████▎                 | 286kB 6.5MB/s eta 0:00:01\r\u001b[K     |██████████████▊                 | 296kB 6.5MB/s eta 0:00:01\r\u001b[K     |███████████████▎                | 307kB 6.5MB/s eta 0:00:01\r\u001b[K     |███████████████▉                | 317kB 6.5MB/s eta 0:00:01\r\u001b[K     |████████████████▎               | 327kB 6.5MB/s eta 0:00:01\r\u001b[K     |████████████████▉               | 337kB 6.5MB/s eta 0:00:01\r\u001b[K     |█████████████████▎              | 348kB 6.5MB/s eta 0:00:01\r\u001b[K     |█████████████████▉              | 358kB 6.5MB/s eta 0:00:01\r\u001b[K     |██████████████████▎             | 368kB 6.5MB/s eta 0:00:01\r\u001b[K     |██████████████████▉             | 378kB 6.5MB/s eta 0:00:01\r\u001b[K     |███████████████████▍            | 389kB 6.5MB/s eta 0:00:01\r\u001b[K     |███████████████████▉            | 399kB 6.5MB/s eta 0:00:01\r\u001b[K     |████████████████████▍           | 409kB 6.5MB/s eta 0:00:01\r\u001b[K     |████████████████████▉           | 419kB 6.5MB/s eta 0:00:01\r\u001b[K     |█████████████████████▍          | 430kB 6.5MB/s eta 0:00:01\r\u001b[K     |██████████████████████          | 440kB 6.5MB/s eta 0:00:01\r\u001b[K     |██████████████████████▍         | 450kB 6.5MB/s eta 0:00:01\r\u001b[K     |███████████████████████         | 460kB 6.5MB/s eta 0:00:01\r\u001b[K     |███████████████████████▍        | 471kB 6.5MB/s eta 0:00:01\r\u001b[K     |████████████████████████        | 481kB 6.5MB/s eta 0:00:01\r\u001b[K     |████████████████████████▍       | 491kB 6.5MB/s eta 0:00:01\r\u001b[K     |█████████████████████████       | 501kB 6.5MB/s eta 0:00:01\r\u001b[K     |█████████████████████████▌      | 512kB 6.5MB/s eta 0:00:01\r\u001b[K     |██████████████████████████      | 522kB 6.5MB/s eta 0:00:01\r\u001b[K     |██████████████████████████▌     | 532kB 6.5MB/s eta 0:00:01\r\u001b[K     |███████████████████████████     | 542kB 6.5MB/s eta 0:00:01\r\u001b[K     |███████████████████████████▌    | 552kB 6.5MB/s eta 0:00:01\r\u001b[K     |████████████████████████████    | 563kB 6.5MB/s eta 0:00:01\r\u001b[K     |████████████████████████████▌   | 573kB 6.5MB/s eta 0:00:01\r\u001b[K     |█████████████████████████████   | 583kB 6.5MB/s eta 0:00:01\r\u001b[K     |█████████████████████████████▌  | 593kB 6.5MB/s eta 0:00:01\r\u001b[K     |██████████████████████████████  | 604kB 6.5MB/s eta 0:00:01\r\u001b[K     |██████████████████████████████▌ | 614kB 6.5MB/s eta 0:00:01\r\u001b[K     |███████████████████████████████ | 624kB 6.5MB/s eta 0:00:01\r\u001b[K     |███████████████████████████████▋| 634kB 6.5MB/s eta 0:00:01\r\u001b[K     |████████████████████████████████| 645kB 6.5MB/s \n",
            "\u001b[?25hInstalling collected packages: regex\n",
            "Successfully installed regex-2019.11.1\n"
          ],
          "name": "stdout"
        }
      ]
    },
    {
      "cell_type": "code",
      "metadata": {
        "id": "UKXoQBDFew2x",
        "colab_type": "code",
        "outputId": "7921e220-992b-4c79-f3e1-f1e2daade8b2",
        "colab": {
          "base_uri": "https://localhost:8080/",
          "height": 204
        }
      },
      "source": [
        "import re\n",
        "url = 'https://raw.githubusercontent.com/verajiaqitang/Analy590_assignment3/master/tweets_with_labels.csv'\n",
        "tweets = pd.read_csv(url, sep = '\\t' ,error_bad_lines=False)\n",
        "\n",
        "tweets.head()\n"
      ],
      "execution_count": 43,
      "outputs": [
        {
          "output_type": "execute_result",
          "data": {
            "text/html": [
              "<div>\n",
              "<style scoped>\n",
              "    .dataframe tbody tr th:only-of-type {\n",
              "        vertical-align: middle;\n",
              "    }\n",
              "\n",
              "    .dataframe tbody tr th {\n",
              "        vertical-align: top;\n",
              "    }\n",
              "\n",
              "    .dataframe thead th {\n",
              "        text-align: right;\n",
              "    }\n",
              "</style>\n",
              "<table border=\"1\" class=\"dataframe\">\n",
              "  <thead>\n",
              "    <tr style=\"text-align: right;\">\n",
              "      <th></th>\n",
              "      <th>id</th>\n",
              "      <th>tweet</th>\n",
              "      <th>k1</th>\n",
              "      <th>k2</th>\n",
              "      <th>k3</th>\n",
              "      <th>k4</th>\n",
              "      <th>k5</th>\n",
              "      <th>k6</th>\n",
              "      <th>k7</th>\n",
              "      <th>k8</th>\n",
              "      <th>k9</th>\n",
              "      <th>k10</th>\n",
              "      <th>k11</th>\n",
              "      <th>k12</th>\n",
              "      <th>k13</th>\n",
              "      <th>k14</th>\n",
              "      <th>k15</th>\n",
              "    </tr>\n",
              "  </thead>\n",
              "  <tbody>\n",
              "    <tr>\n",
              "      <th>0</th>\n",
              "      <td>1</td>\n",
              "      <td>Jazz for a Rainy Afternoon:  {link}</td>\n",
              "      <td>0.0</td>\n",
              "      <td>0.0</td>\n",
              "      <td>0.0</td>\n",
              "      <td>0.0</td>\n",
              "      <td>0.0</td>\n",
              "      <td>0.0</td>\n",
              "      <td>0.000</td>\n",
              "      <td>0.0</td>\n",
              "      <td>0.000</td>\n",
              "      <td>1.0</td>\n",
              "      <td>0.0</td>\n",
              "      <td>0.0</td>\n",
              "      <td>0.000</td>\n",
              "      <td>0.0</td>\n",
              "      <td>0.0</td>\n",
              "    </tr>\n",
              "    <tr>\n",
              "      <th>1</th>\n",
              "      <td>2</td>\n",
              "      <td>RT: @mention: I love rainy days.</td>\n",
              "      <td>0.0</td>\n",
              "      <td>0.0</td>\n",
              "      <td>0.0</td>\n",
              "      <td>0.0</td>\n",
              "      <td>0.0</td>\n",
              "      <td>0.0</td>\n",
              "      <td>0.000</td>\n",
              "      <td>0.0</td>\n",
              "      <td>0.000</td>\n",
              "      <td>1.0</td>\n",
              "      <td>0.0</td>\n",
              "      <td>0.0</td>\n",
              "      <td>0.000</td>\n",
              "      <td>0.0</td>\n",
              "      <td>0.0</td>\n",
              "    </tr>\n",
              "    <tr>\n",
              "      <th>2</th>\n",
              "      <td>3</td>\n",
              "      <td>Good Morning Chicago! Time to kick the Windy C...</td>\n",
              "      <td>0.0</td>\n",
              "      <td>0.0</td>\n",
              "      <td>0.0</td>\n",
              "      <td>0.0</td>\n",
              "      <td>0.0</td>\n",
              "      <td>0.0</td>\n",
              "      <td>1.000</td>\n",
              "      <td>0.0</td>\n",
              "      <td>0.000</td>\n",
              "      <td>0.0</td>\n",
              "      <td>0.0</td>\n",
              "      <td>0.0</td>\n",
              "      <td>0.000</td>\n",
              "      <td>0.0</td>\n",
              "      <td>0.0</td>\n",
              "    </tr>\n",
              "    <tr>\n",
              "      <th>3</th>\n",
              "      <td>6</td>\n",
              "      <td>Preach lol! :) RT @mention: #alliwantis this t...</td>\n",
              "      <td>0.0</td>\n",
              "      <td>0.0</td>\n",
              "      <td>0.0</td>\n",
              "      <td>0.0</td>\n",
              "      <td>0.0</td>\n",
              "      <td>0.0</td>\n",
              "      <td>0.604</td>\n",
              "      <td>0.0</td>\n",
              "      <td>0.196</td>\n",
              "      <td>0.0</td>\n",
              "      <td>0.0</td>\n",
              "      <td>0.0</td>\n",
              "      <td>0.201</td>\n",
              "      <td>0.0</td>\n",
              "      <td>0.0</td>\n",
              "    </tr>\n",
              "    <tr>\n",
              "      <th>4</th>\n",
              "      <td>9</td>\n",
              "      <td>@mention good morning sunshine</td>\n",
              "      <td>0.0</td>\n",
              "      <td>0.0</td>\n",
              "      <td>0.0</td>\n",
              "      <td>0.0</td>\n",
              "      <td>0.0</td>\n",
              "      <td>0.0</td>\n",
              "      <td>0.000</td>\n",
              "      <td>0.0</td>\n",
              "      <td>0.000</td>\n",
              "      <td>0.0</td>\n",
              "      <td>0.0</td>\n",
              "      <td>0.0</td>\n",
              "      <td>1.000</td>\n",
              "      <td>0.0</td>\n",
              "      <td>0.0</td>\n",
              "    </tr>\n",
              "  </tbody>\n",
              "</table>\n",
              "</div>"
            ],
            "text/plain": [
              "   id                                              tweet   k1  ...    k13  k14  k15\n",
              "0   1                Jazz for a Rainy Afternoon:  {link}  0.0  ...  0.000  0.0  0.0\n",
              "1   2                   RT: @mention: I love rainy days.  0.0  ...  0.000  0.0  0.0\n",
              "2   3  Good Morning Chicago! Time to kick the Windy C...  0.0  ...  0.000  0.0  0.0\n",
              "3   6  Preach lol! :) RT @mention: #alliwantis this t...  0.0  ...  0.201  0.0  0.0\n",
              "4   9                     @mention good morning sunshine  0.0  ...  1.000  0.0  0.0\n",
              "\n",
              "[5 rows x 17 columns]"
            ]
          },
          "metadata": {
            "tags": []
          },
          "execution_count": 43
        }
      ]
    },
    {
      "cell_type": "code",
      "metadata": {
        "id": "XY-vzwERdB9G",
        "colab_type": "code",
        "colab": {}
      },
      "source": [
        "\n",
        "\n",
        "# clean tweets\n",
        "stopWords = set(stopwords.words('english'))\n",
        "stemmer = PorterStemmer()\n",
        "lemmatizer = WordNetLemmatizer()\n",
        "\n",
        "def preprocess_tweets(tweet):\n",
        "    tweet = re.sub(\"@mention\", \"\",tweet)\n",
        "    tweet = re.sub(\"{link}\", \"\",tweet)\n",
        "    tweet = re.sub(\"[^A-Za-z]\",\" \",tweet)\n",
        "    tweet = re.sub(r'\\bRT\\b', '', tweet)\n",
        "    tweet = re.sub(\"\\s+\",\" \",tweet)\n",
        "    tokens = word_tokenize(tweet)\n",
        "    words = [word for word in tokens if word not in stopWords]\n",
        "    words = [stemmer.stem(w).strip(\"'\") for w in words]\n",
        "    words = [lemmatizer.lemmatize(w, pos=\"a\") for w in words]\n",
        "    words = [word for word in words if len(word)!=1]\n",
        "    final_tweet = ' '.join(words)\n",
        "    return final_tweet\n",
        "\n",
        "new_tweet = [preprocess_tweets(x) for x in list(tweets.tweet)]\n",
        "tweets['new_tweets'] = new_tweet"
      ],
      "execution_count": 0,
      "outputs": []
    },
    {
      "cell_type": "code",
      "metadata": {
        "id": "7AobEJsSdG5z",
        "colab_type": "code",
        "outputId": "eb3faa91-d504-46b5-fac9-318665cd7d24",
        "colab": {
          "base_uri": "https://localhost:8080/",
          "height": 85
        }
      },
      "source": [
        "token = [word_tokenize(x) for x in list(tweets.new_tweets)]\n",
        "\n",
        "# clean out empty new_tweets by removing them\n",
        "remove_lst=[]\n",
        "for w in token:\n",
        "    remove_lst.append(len(w))\n",
        "bad_idx = [n for n,x in enumerate(remove_lst) if x == 0]\n",
        "tweets_updated = tweets.drop(bad_idx)\n",
        "\n",
        "# preprocess finished and define X and y for train test split\n",
        "\n",
        "X = [word_tokenize(x) for x in list(tweets_updated['new_tweets'])]\n",
        "\n",
        "# label y for any k1 to k15 not equal to 0\n",
        "label = tweets_updated.loc[:,'k1':'k15']\n",
        "label[tweets_updated != 0] = 1\n",
        "y = label.values\n",
        "\n",
        "X_train, X_test, y_train, y_test = train_test_split(X, y, test_size=0.3, random_state=13)\n",
        "print('X_train shape: ', len(X_train))\n",
        "print('X_test shape: ', len(X_test))\n",
        "print('y_train shape: ', y_train.shape)\n",
        "print('y_test shape: ', y_test.shape)"
      ],
      "execution_count": 45,
      "outputs": [
        {
          "output_type": "stream",
          "text": [
            "X_train shape:  54551\n",
            "X_test shape:  23379\n",
            "y_train shape:  (54551, 15)\n",
            "y_test shape:  (23379, 15)\n"
          ],
          "name": "stdout"
        }
      ]
    },
    {
      "cell_type": "code",
      "metadata": {
        "id": "EtztN3PTdLby",
        "colab_type": "code",
        "colab": {}
      },
      "source": [
        "# padding token sequense to max length of 40\n",
        "X_train_padded = sequence.pad_sequences(X_train, maxlen=40, padding=\"post\", truncating=\"post\", value='_pad_',dtype=object)\n",
        "X_test_padded = sequence.pad_sequences(X_test, maxlen=40, padding=\"post\", truncating=\"post\", value='_pad_',dtype=object)\n",
        "\n",
        "train_corpus = list(tweets_updated.new_tweets)\n",
        "train_cor_tk = [word_tokenize(x) for x in train_corpus]\n",
        "corpus_padded = sequence.pad_sequences(train_cor_tk, maxlen=40,padding=\"post\", truncating=\"post\", value='_pad_',dtype=object)\n",
        "\n",
        "corpus_padded = corpus_padded.tolist()\n",
        "X_train_padded = X_train_padded.tolist()\n",
        "X_test_padded = X_test_padded.tolist()"
      ],
      "execution_count": 0,
      "outputs": []
    },
    {
      "cell_type": "code",
      "metadata": {
        "id": "-4McNNMcdMBY",
        "colab_type": "code",
        "outputId": "52908c8e-ad1f-4f89-be9f-7506db1e3263",
        "colab": {
          "base_uri": "https://localhost:8080/",
          "height": 139
        }
      },
      "source": [
        "#  train word2vec and vectorizing training set and test set \n",
        "w2v_model = Word2Vec(corpus_padded, min_count=1, size = 20, workers=1, window=3)\n",
        "\n",
        "# vector with size train/test, maxlen = 40 \n",
        "X_train_vec = np.empty([len(X_train), 40, 20])\n",
        "X_test_vec = np.empty([len(X_test), 40, 20])\n",
        "\n",
        "idx_train = 0\n",
        "for w in X_train_padded:\n",
        "    X_train_vec[idx_train, :, :] = w2v_model[w]\n",
        "    idx_train += 1\n",
        "\n",
        "idx_test = 0\n",
        "for w in X_test_padded:\n",
        "    X_test_vec[idx_test,:,:] = w2v_model[w]\n",
        "    idx_test += 1\n",
        "\n",
        "print('X_train_vec shape: ', X_train_vec.shape)\n",
        "print('X_test_vec shape: ', X_test_vec.shape)"
      ],
      "execution_count": 47,
      "outputs": [
        {
          "output_type": "stream",
          "text": [
            "/usr/local/lib/python3.6/dist-packages/ipykernel_launcher.py:9: DeprecationWarning: Call to deprecated `__getitem__` (Method will be removed in 4.0.0, use self.wv.__getitem__() instead).\n",
            "  if __name__ == '__main__':\n",
            "/usr/local/lib/python3.6/dist-packages/ipykernel_launcher.py:14: DeprecationWarning: Call to deprecated `__getitem__` (Method will be removed in 4.0.0, use self.wv.__getitem__() instead).\n",
            "  \n"
          ],
          "name": "stderr"
        },
        {
          "output_type": "stream",
          "text": [
            "X_train_vec shape:  (54551, 40, 20)\n",
            "X_test_vec shape:  (23379, 40, 20)\n"
          ],
          "name": "stdout"
        }
      ]
    },
    {
      "cell_type": "markdown",
      "metadata": {
        "id": "qZxlfCVAgeRU",
        "colab_type": "text"
      },
      "source": [
        "# ##simple rnn##\n",
        "\n",
        "using a simple RNN to classify for tweets . As shown in  classfication accuracy of 94.4% for test."
      ]
    },
    {
      "cell_type": "code",
      "metadata": {
        "id": "7q5Z1A69dN7q",
        "colab_type": "code",
        "outputId": "7987ccff-e6a2-44b0-85d4-ddf71223fee9",
        "colab": {
          "base_uri": "https://localhost:8080/",
          "height": 479
        }
      },
      "source": [
        "#  Build LSTM model\n",
        "model_rnn = Sequential()\n",
        "model_rnn.add(LSTM(128, input_shape = (40, 20)))\n",
        "model_rnn.add(Dense(128, activation = 'relu'))\n",
        "model_rnn.add(Dropout(0.2))\n",
        "model_rnn.add(Dense(64, activation = 'relu'))\n",
        "model_rnn.add(Dropout(0.2))\n",
        "model_rnn.add(Dense(15, activation ='sigmoid'))\n",
        "\n",
        "model_rnn.compile(loss='binary_crossentropy', optimizer='adam',metrics=['accuracy'])\n",
        "\n",
        "history = model_rnn.fit(X_train_vec, y_train,\n",
        "                        epochs=10, batch_size=500,\n",
        "                        validation_data=(X_test_vec, y_test))"
      ],
      "execution_count": 48,
      "outputs": [
        {
          "output_type": "stream",
          "text": [
            "WARNING:tensorflow:From /usr/local/lib/python3.6/dist-packages/keras/backend/tensorflow_backend.py:148: The name tf.placeholder_with_default is deprecated. Please use tf.compat.v1.placeholder_with_default instead.\n",
            "\n",
            "WARNING:tensorflow:From /usr/local/lib/python3.6/dist-packages/keras/backend/tensorflow_backend.py:3733: calling dropout (from tensorflow.python.ops.nn_ops) with keep_prob is deprecated and will be removed in a future version.\n",
            "Instructions for updating:\n",
            "Please use `rate` instead of `keep_prob`. Rate should be set to `rate = 1 - keep_prob`.\n",
            "Train on 54551 samples, validate on 23379 samples\n",
            "Epoch 1/10\n",
            "54551/54551 [==============================] - 12s 211us/step - loss: 0.3820 - acc: 0.8468 - val_loss: 0.3227 - val_acc: 0.8748\n",
            "Epoch 2/10\n",
            "54551/54551 [==============================] - 11s 193us/step - loss: 0.3335 - acc: 0.8724 - val_loss: 0.3215 - val_acc: 0.8748\n",
            "Epoch 3/10\n",
            "54551/54551 [==============================] - 11s 193us/step - loss: 0.3283 - acc: 0.8736 - val_loss: 0.3211 - val_acc: 0.8748\n",
            "Epoch 4/10\n",
            "54551/54551 [==============================] - 10s 192us/step - loss: 0.3265 - acc: 0.8741 - val_loss: 0.3209 - val_acc: 0.8748\n",
            "Epoch 5/10\n",
            "54551/54551 [==============================] - 10s 191us/step - loss: 0.3255 - acc: 0.8744 - val_loss: 0.3209 - val_acc: 0.8748\n",
            "Epoch 6/10\n",
            "54551/54551 [==============================] - 10s 191us/step - loss: 0.3228 - acc: 0.8745 - val_loss: 0.3098 - val_acc: 0.8748\n",
            "Epoch 7/10\n",
            "54551/54551 [==============================] - 10s 192us/step - loss: 0.2693 - acc: 0.8942 - val_loss: 0.2069 - val_acc: 0.9202\n",
            "Epoch 8/10\n",
            "54551/54551 [==============================] - 11s 193us/step - loss: 0.2019 - acc: 0.9260 - val_loss: 0.1762 - val_acc: 0.9358\n",
            "Epoch 9/10\n",
            "54551/54551 [==============================] - 11s 193us/step - loss: 0.1811 - acc: 0.9357 - val_loss: 0.1643 - val_acc: 0.9406\n",
            "Epoch 10/10\n",
            "54551/54551 [==============================] - 10s 192us/step - loss: 0.1726 - acc: 0.9391 - val_loss: 0.1609 - val_acc: 0.9420\n"
          ],
          "name": "stdout"
        }
      ]
    },
    {
      "cell_type": "code",
      "metadata": {
        "id": "uWgbxPBmiTsP",
        "colab_type": "code",
        "colab": {}
      },
      "source": [
        "from keras.datasets import fashion_mnist\n",
        "import numpy as np\n",
        "from keras.layers import Input, Dense, Conv2D, MaxPooling2D \n",
        "from keras.layers import UpSampling2D, Dropout, Activation, Flatten \n",
        "from keras.layers import LeakyReLU, LSTM, Conv1D, GlobalMaxPooling1D\n",
        "from keras.models import Model, Sequential\n",
        "from matplotlib import pyplot as plt\n",
        "from keras.utils import np_utils\n",
        "import keras\n",
        "from keras.applications import VGG16\n",
        "from keras.preprocessing.image import img_to_array, array_to_img\n",
        "from sklearn.model_selection import train_test_split\n",
        "from keras.applications.vgg16 import preprocess_input\n",
        "import pandas as pd\n",
        "from keras.layers.embeddings import Embedding\n",
        "from keras.callbacks import TensorBoard\n",
        "from keras.preprocessing import sequence\n",
        "from keras.preprocessing.text import Tokenizer\n",
        "from sklearn.utils import class_weight\n",
        "from sklearn.metrics import roc_curve\n",
        "from sklearn.metrics import auc"
      ],
      "execution_count": 0,
      "outputs": []
    },
    {
      "cell_type": "code",
      "metadata": {
        "id": "ipbBPpOxdQqy",
        "colab_type": "code",
        "colab": {}
      },
      "source": [
        "#  evaluate the model\n",
        "score = model_rnn.evaluate(X_test_vec, y_test, batch_size=64, verbose = 0)"
      ],
      "execution_count": 0,
      "outputs": []
    },
    {
      "cell_type": "code",
      "metadata": {
        "id": "HhLjtGC-bGhh",
        "colab_type": "code",
        "colab": {}
      },
      "source": [
        "plot_model_training_results(history)"
      ],
      "execution_count": 0,
      "outputs": []
    },
    {
      "cell_type": "code",
      "metadata": {
        "id": "U8OnwGSLgUaN",
        "colab_type": "code",
        "outputId": "6f58d9b6-36ce-4ed2-e192-7ef0d9a2d35a",
        "colab": {
          "base_uri": "https://localhost:8080/",
          "height": 85
        }
      },
      "source": [
        "from sklearn import metrics\n",
        "import matplotlib.pyplot as plt\n",
        "\n",
        "print('Train loss: ', history.history['loss'][9]) \n",
        "print('Train accuracy: ', history.history['acc'][9])\n",
        "\n",
        "print('Test loss: ', score[0])\n",
        "print('Test accuracy: ', score[1])"
      ],
      "execution_count": 52,
      "outputs": [
        {
          "output_type": "stream",
          "text": [
            "Train loss:  0.17262121797049398\n",
            "Train accuracy:  0.9390601043956762\n",
            "Test loss:  0.1609177653842244\n",
            "Test accuracy:  0.941959326340362\n"
          ],
          "name": "stdout"
        }
      ]
    },
    {
      "cell_type": "markdown",
      "metadata": {
        "id": "Mj3cAwO3J-oS",
        "colab_type": "text"
      },
      "source": [
        "##1 D CNN\n",
        " using a 1D CNN layer with 64 kernels .  achieved the  94.7% accuracy for test data"
      ]
    },
    {
      "cell_type": "code",
      "metadata": {
        "id": "TPsjobUYdV5I",
        "colab_type": "code",
        "outputId": "41810967-4169-4a74-9665-74e5a5547284",
        "colab": {
          "base_uri": "https://localhost:8080/",
          "height": 374
        }
      },
      "source": [
        "model_cnn = Sequential()\n",
        "model_cnn.add(Conv1D(128, 3, activation='relu', padding = 'valid', strides=1, input_shape=(40,20)))\n",
        "model_cnn.add(GlobalMaxPooling1D())\n",
        "model_cnn.add(Dense(64))\n",
        "model_cnn.add(Dropout(0.2))\n",
        "model_cnn.add(Activation('relu'))\n",
        "model_cnn.add(Dense(15, activation ='sigmoid'))\n",
        "\n",
        "model_cnn.compile(loss='binary_crossentropy', optimizer='adam', metrics=['accuracy'])\n",
        "\n",
        "history_cnn = model_cnn.fit(X_train_vec, y_train, epochs=10, batch_size=128,\n",
        "                        validation_data=(X_test_vec, y_test))"
      ],
      "execution_count": 53,
      "outputs": [
        {
          "output_type": "stream",
          "text": [
            "Train on 54551 samples, validate on 23379 samples\n",
            "Epoch 1/10\n",
            "54551/54551 [==============================] - 4s 65us/step - loss: 0.2317 - acc: 0.9143 - val_loss: 0.1710 - val_acc: 0.9385\n",
            "Epoch 2/10\n",
            "54551/54551 [==============================] - 3s 56us/step - loss: 0.1766 - acc: 0.9387 - val_loss: 0.1601 - val_acc: 0.9427\n",
            "Epoch 3/10\n",
            "54551/54551 [==============================] - 3s 56us/step - loss: 0.1683 - acc: 0.9415 - val_loss: 0.1572 - val_acc: 0.9441\n",
            "Epoch 4/10\n",
            "54551/54551 [==============================] - 3s 57us/step - loss: 0.1638 - acc: 0.9426 - val_loss: 0.1532 - val_acc: 0.9450\n",
            "Epoch 5/10\n",
            "54551/54551 [==============================] - 3s 56us/step - loss: 0.1610 - acc: 0.9432 - val_loss: 0.1522 - val_acc: 0.9453\n",
            "Epoch 6/10\n",
            "54551/54551 [==============================] - 3s 55us/step - loss: 0.1592 - acc: 0.9439 - val_loss: 0.1504 - val_acc: 0.9457\n",
            "Epoch 7/10\n",
            "54551/54551 [==============================] - 3s 56us/step - loss: 0.1567 - acc: 0.9445 - val_loss: 0.1504 - val_acc: 0.9461\n",
            "Epoch 8/10\n",
            "54551/54551 [==============================] - 3s 58us/step - loss: 0.1553 - acc: 0.9448 - val_loss: 0.1491 - val_acc: 0.9465\n",
            "Epoch 9/10\n",
            "54551/54551 [==============================] - 3s 57us/step - loss: 0.1543 - acc: 0.9451 - val_loss: 0.1476 - val_acc: 0.9468\n",
            "Epoch 10/10\n",
            "54551/54551 [==============================] - 3s 57us/step - loss: 0.1532 - acc: 0.9454 - val_loss: 0.1472 - val_acc: 0.9468\n"
          ],
          "name": "stdout"
        }
      ]
    },
    {
      "cell_type": "code",
      "metadata": {
        "id": "AOvCznvzdXdr",
        "colab_type": "code",
        "colab": {}
      },
      "source": [
        "# evaluate the model\n",
        "score_cnn = model_cnn.evaluate(X_test_vec, y_test, batch_size=64, verbose = 0)"
      ],
      "execution_count": 0,
      "outputs": []
    },
    {
      "cell_type": "code",
      "metadata": {
        "id": "3uKZiabVbEcZ",
        "colab_type": "code",
        "colab": {}
      },
      "source": [
        "plot_model_training_results(history_cnn)"
      ],
      "execution_count": 0,
      "outputs": []
    },
    {
      "cell_type": "code",
      "metadata": {
        "id": "fsA6Wy3JdZBc",
        "colab_type": "code",
        "outputId": "61272685-bed6-48d2-93f6-01c2e222e446",
        "colab": {
          "base_uri": "https://localhost:8080/",
          "height": 85
        }
      },
      "source": [
        "from sklearn import metrics\n",
        "import matplotlib.pyplot as plt\n",
        "\n",
        "print('Train loss: ', history_cnn.history['loss'][9]) \n",
        "print('Train accuracy: ', history_cnn.history['acc'][9])\n",
        "\n",
        "print('Test loss: ', score_cnn[0])\n",
        "print('Test accuracy: ', score_cnn[1])"
      ],
      "execution_count": 56,
      "outputs": [
        {
          "output_type": "stream",
          "text": [
            "Train loss:  0.15323030406334004\n",
            "Train accuracy:  0.9453587940592755\n",
            "Test loss:  0.1471623648344448\n",
            "Test accuracy:  0.9467984258942458\n"
          ],
          "name": "stdout"
        }
      ]
    },
    {
      "cell_type": "markdown",
      "metadata": {
        "id": "ShjSuMANKZv9",
        "colab_type": "text"
      },
      "source": [
        "###3.3 Comparison betwen SimpleRNN and CNN for text classificiation###"
      ]
    },
    {
      "cell_type": "code",
      "metadata": {
        "id": "zQisk0OxdcrI",
        "colab_type": "code",
        "colab": {
          "base_uri": "https://localhost:8080/",
          "height": 312
        },
        "outputId": "26be58f2-a8d9-4318-a983-136e89eeb7a0"
      },
      "source": [
        "import matplotlib.pyplot as plt\n",
        "plt.plot(history.history['acc'], label='RNN train accuracy', color = 'r')\n",
        "plt.plot(history_cnn.history['acc'], label = 'CNN train accuracy', color = 'k')\n",
        "plt.xlabel('Epoch')\n",
        "plt.ylabel('Accuracy')\n",
        "plt.ylim([0.8, 1])\n",
        "plt.legend(loc='lower right')\n",
        "plt.title('Text Classification Accuracy RNN CNN Comparison')"
      ],
      "execution_count": 57,
      "outputs": [
        {
          "output_type": "execute_result",
          "data": {
            "text/plain": [
              "Text(0.5, 1.0, 'Text Classification Accuracy RNN CNN Comparison')"
            ]
          },
          "metadata": {
            "tags": []
          },
          "execution_count": 57
        },
        {
          "output_type": "display_data",
          "data": {
            "image/png": "[encoded data removed]",
            "text/plain": [
              "<Figure size 432x288 with 1 Axes>"
            ]
          },
          "metadata": {
            "tags": []
          }
        }
      ]
    },
    {
      "cell_type": "code",
      "metadata": {
        "id": "0Me1jq4Ndfp2",
        "colab_type": "code",
        "colab": {
          "base_uri": "https://localhost:8080/",
          "height": 312
        },
        "outputId": "e7356d74-0261-4a71-aa5b-cf5efaf7f616"
      },
      "source": [
        "import matplotlib.pyplot as plt\n",
        "plt.plot(history.history['loss'], label='RNN train loss', color = 'r')\n",
        "plt.plot(history_cnn.history['loss'], label = 'CNN train loss', color = 'k')\n",
        "plt.xlabel('Epoch')\n",
        "plt.ylabel('Loss')\n",
        "plt.ylim([0, 0.5])\n",
        "plt.legend(loc='lower right')\n",
        "plt.title('Text Classification Loss RNN CNN Comparison')"
      ],
      "execution_count": 58,
      "outputs": [
        {
          "output_type": "execute_result",
          "data": {
            "text/plain": [
              "Text(0.5, 1.0, 'Text Classification Loss RNN CNN Comparison')"
            ]
          },
          "metadata": {
            "tags": []
          },
          "execution_count": 58
        },
        {
          "output_type": "display_data",
          "data": {
            "image/png": "[encoded data removed]",
            "text/plain": [
              "<Figure size 432x288 with 1 Axes>"
            ]
          },
          "metadata": {
            "tags": []
          }
        }
      ]
    },
    {
      "cell_type": "markdown",
      "metadata": {
        "id": "HHRuKZfHKXGn",
        "colab_type": "text"
      },
      "source": [
        "\n",
        "for rnn and cnn in this case, the overall accuracy  of both of them(94.4% and 94.7%)  are very similar. However,the training time for CNN is much shorter than Rnn. "
      ]
    }
  ]
}